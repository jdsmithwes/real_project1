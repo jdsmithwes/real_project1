{
 "cells": [
  {
   "cell_type": "markdown",
   "metadata": {},
   "source": [
    "# Final Project Submission\n",
    "\n",
    "Please fill out:\n",
    "* Student name: Jamaal Darius Smith\n",
    "* Student pace: Part Time\n",
    "* Scheduled project review date/time: \n",
    "* Instructor name: James Irving\n",
    "* Blog post URL:\n",
    "* Video of 5-min Non-Technical Presentation:\n"
   ]
  },
  {
   "cell_type": "markdown",
   "metadata": {},
   "source": [
    "# TABLE OF CONTENTS \n",
    "\n",
    "*Click to jump to matching Markdown Header.*<br><br>\n",
    "\n",
    "<font size=4rem>\n",
    "    \n",
    "- [Introduction](#INTRODUCTION)<br>\n",
    "- **[OBTAIN](#OBTAIN)**<br>\n",
    "- **[SCRUB](#SCRUB)**<br>\n",
    "- **[EXPLORE](#EXPLORE)**<br>\n",
    "- **[MODEL](#MODEL)**<br>\n",
    "- **[iNTERPRET](#iNTERPRET)**<br>\n",
    "- [Conclusions/Recommendations](#CONCLUSIONS-&-RECOMMENDATIONS)<br>\n",
    "</font>\n",
    "___\n"
   ]
  },
  {
   "cell_type": "markdown",
   "metadata": {},
   "source": [
    "# INTRODUCTION"
   ]
  },
  {
   "cell_type": "markdown",
   "metadata": {},
   "source": [
    "The goal of this project is to create a multivariable linear regression that predicts the value of a house based on predictor variables.The insights from this model can prove valuable because it can be used for many purposes. From real estate agents being able to provide estimates to potential clients to academic researchers checking to see if homes in different neighborhoods are sold for prices that reflect their value based on intrinsic features instead of market dynamics, being able to estimate the price of homes in the Seattle area will be very fruitful in the real-world.\n",
    "\n"
   ]
  },
  {
   "cell_type": "markdown",
   "metadata": {},
   "source": [
    "# OBTAIN"
   ]
  },
  {
   "cell_type": "code",
   "execution_count": 17,
   "metadata": {},
   "outputs": [],
   "source": [
    "import numpy as np\n",
    "import pandas as pd\n",
    "import seaborn as sns\n",
    "import matplotlib.pyplot as plt\n",
    "%matplotlib inline\n",
    "from scipy import stats\n",
    "from sklearn import preprocessing\n",
    "\n",
    "data = pd.read_csv('kc_house_data.csv')"
   ]
  },
  {
   "cell_type": "code",
   "execution_count": 18,
   "metadata": {
    "scrolled": true
   },
   "outputs": [
    {
     "name": "stdout",
     "output_type": "stream",
     "text": [
      "<class 'pandas.core.frame.DataFrame'>\n",
      "RangeIndex: 21597 entries, 0 to 21596\n",
      "Data columns (total 21 columns):\n",
      "id               21597 non-null int64\n",
      "date             21597 non-null object\n",
      "price            21597 non-null float64\n",
      "bedrooms         21597 non-null int64\n",
      "bathrooms        21597 non-null float64\n",
      "sqft_living      21597 non-null int64\n",
      "sqft_lot         21597 non-null int64\n",
      "floors           21597 non-null float64\n",
      "waterfront       19221 non-null float64\n",
      "view             21534 non-null float64\n",
      "condition        21597 non-null int64\n",
      "grade            21597 non-null int64\n",
      "sqft_above       21597 non-null int64\n",
      "sqft_basement    21597 non-null object\n",
      "yr_built         21597 non-null int64\n",
      "yr_renovated     17755 non-null float64\n",
      "zipcode          21597 non-null int64\n",
      "lat              21597 non-null float64\n",
      "long             21597 non-null float64\n",
      "sqft_living15    21597 non-null int64\n",
      "sqft_lot15       21597 non-null int64\n",
      "dtypes: float64(8), int64(11), object(2)\n",
      "memory usage: 3.5+ MB\n"
     ]
    }
   ],
   "source": [
    "data.info()"
   ]
  },
  {
   "cell_type": "markdown",
   "metadata": {},
   "source": [
    "# SCRUB"
   ]
  },
  {
   "cell_type": "markdown",
   "metadata": {},
   "source": [
    "The first step that must be taken to prepare the data for the model is to address any missing values like null values.Based on the table above produced by the info object, waterfront and yr_renovated have the most null values present and need to be addressed."
   ]
  },
  {
   "cell_type": "code",
   "execution_count": 23,
   "metadata": {},
   "outputs": [],
   "source": [
    "data ['waterfront'] = data['waterfront'].fillna(0.0)\n",
    "data ['yr_renovated'] = data['yr_renovated'].fillna(0.0)\n",
    "data['view'] = data['view'].fillna(0.0)"
   ]
  },
  {
   "cell_type": "markdown",
   "metadata": {},
   "source": [
    "Since most values are 0, meaning they are not by the waterfront, we can replace null values with 0 in this dataframe/column."
   ]
  },
  {
   "cell_type": "code",
   "execution_count": 24,
   "metadata": {},
   "outputs": [
    {
     "data": {
      "text/plain": [
       "0.0    19485\n",
       "2.0      957\n",
       "3.0      508\n",
       "1.0      330\n",
       "4.0      317\n",
       "Name: view, dtype: int64"
      ]
     },
     "execution_count": 24,
     "metadata": {},
     "output_type": "execute_result"
    }
   ],
   "source": [
    "data['view'].value_counts()"
   ]
  },
  {
   "cell_type": "code",
   "execution_count": 25,
   "metadata": {},
   "outputs": [
    {
     "name": "stdout",
     "output_type": "stream",
     "text": [
      "<class 'pandas.core.frame.DataFrame'>\n",
      "RangeIndex: 21597 entries, 0 to 21596\n",
      "Data columns (total 21 columns):\n",
      "id               21597 non-null int64\n",
      "date             21597 non-null object\n",
      "price            21597 non-null float64\n",
      "bedrooms         21597 non-null int64\n",
      "bathrooms        21597 non-null float64\n",
      "sqft_living      21597 non-null int64\n",
      "sqft_lot         21597 non-null int64\n",
      "floors           21597 non-null float64\n",
      "waterfront       21597 non-null float64\n",
      "view             21597 non-null float64\n",
      "condition        21597 non-null int64\n",
      "grade            21597 non-null int64\n",
      "sqft_above       21597 non-null int64\n",
      "sqft_basement    21597 non-null object\n",
      "yr_built         21597 non-null int64\n",
      "yr_renovated     21597 non-null float64\n",
      "zipcode          21597 non-null int64\n",
      "lat              21597 non-null float64\n",
      "long             21597 non-null float64\n",
      "sqft_living15    21597 non-null int64\n",
      "sqft_lot15       21597 non-null int64\n",
      "dtypes: float64(8), int64(11), object(2)\n",
      "memory usage: 3.5+ MB\n"
     ]
    }
   ],
   "source": [
    "data.info()"
   ]
  },
  {
   "cell_type": "code",
   "execution_count": 26,
   "metadata": {},
   "outputs": [],
   "source": [
    "data = data.dropna()"
   ]
  },
  {
   "cell_type": "code",
   "execution_count": 27,
   "metadata": {},
   "outputs": [
    {
     "name": "stdout",
     "output_type": "stream",
     "text": [
      "<class 'pandas.core.frame.DataFrame'>\n",
      "Int64Index: 21597 entries, 0 to 21596\n",
      "Data columns (total 21 columns):\n",
      "id               21597 non-null int64\n",
      "date             21597 non-null object\n",
      "price            21597 non-null float64\n",
      "bedrooms         21597 non-null int64\n",
      "bathrooms        21597 non-null float64\n",
      "sqft_living      21597 non-null int64\n",
      "sqft_lot         21597 non-null int64\n",
      "floors           21597 non-null float64\n",
      "waterfront       21597 non-null float64\n",
      "view             21597 non-null float64\n",
      "condition        21597 non-null int64\n",
      "grade            21597 non-null int64\n",
      "sqft_above       21597 non-null int64\n",
      "sqft_basement    21597 non-null object\n",
      "yr_built         21597 non-null int64\n",
      "yr_renovated     21597 non-null float64\n",
      "zipcode          21597 non-null int64\n",
      "lat              21597 non-null float64\n",
      "long             21597 non-null float64\n",
      "sqft_living15    21597 non-null int64\n",
      "sqft_lot15       21597 non-null int64\n",
      "dtypes: float64(8), int64(11), object(2)\n",
      "memory usage: 3.6+ MB\n"
     ]
    }
   ],
   "source": [
    "data.info()"
   ]
  },
  {
   "cell_type": "markdown",
   "metadata": {},
   "source": [
    "Next we must address the object datatype in the date and sqft_basement columns. During this step, we can also eliminate missing values represented by ? in sqft_basement column."
   ]
  },
  {
   "cell_type": "code",
   "execution_count": 28,
   "metadata": {},
   "outputs": [
    {
     "name": "stdout",
     "output_type": "stream",
     "text": [
      "<class 'pandas.core.frame.DataFrame'>\n",
      "Int64Index: 21143 entries, 0 to 21596\n",
      "Data columns (total 21 columns):\n",
      "id               21143 non-null int64\n",
      "date             21143 non-null object\n",
      "price            21143 non-null float64\n",
      "bedrooms         21143 non-null int64\n",
      "bathrooms        21143 non-null float64\n",
      "sqft_living      21143 non-null int64\n",
      "sqft_lot         21143 non-null int64\n",
      "floors           21143 non-null float64\n",
      "waterfront       21143 non-null float64\n",
      "view             21143 non-null float64\n",
      "condition        21143 non-null int64\n",
      "grade            21143 non-null int64\n",
      "sqft_above       21143 non-null int64\n",
      "sqft_basement    21143 non-null object\n",
      "yr_built         21143 non-null int64\n",
      "yr_renovated     21143 non-null float64\n",
      "zipcode          21143 non-null int64\n",
      "lat              21143 non-null float64\n",
      "long             21143 non-null float64\n",
      "sqft_living15    21143 non-null int64\n",
      "sqft_lot15       21143 non-null int64\n",
      "dtypes: float64(8), int64(11), object(2)\n",
      "memory usage: 3.5+ MB\n"
     ]
    }
   ],
   "source": [
    "data.drop(data.loc[data['sqft_basement']=='?'].index, inplace=True)\n",
    "data.info()"
   ]
  },
  {
   "cell_type": "code",
   "execution_count": 29,
   "metadata": {},
   "outputs": [
    {
     "data": {
      "text/plain": [
       "0           0.0\n",
       "1         400.0\n",
       "2           0.0\n",
       "3         910.0\n",
       "4           0.0\n",
       "5        1530.0\n",
       "7           0.0\n",
       "8         730.0\n",
       "9           0.0\n",
       "10       1700.0\n",
       "11        300.0\n",
       "12          0.0\n",
       "13          0.0\n",
       "14          0.0\n",
       "15        970.0\n",
       "16          0.0\n",
       "17          0.0\n",
       "19          0.0\n",
       "20        760.0\n",
       "21        720.0\n",
       "22          0.0\n",
       "23          0.0\n",
       "24          0.0\n",
       "25          0.0\n",
       "26        700.0\n",
       "27          0.0\n",
       "28        730.0\n",
       "29          0.0\n",
       "30          0.0\n",
       "31          0.0\n",
       "          ...  \n",
       "21566     280.0\n",
       "21567       0.0\n",
       "21568     320.0\n",
       "21569       0.0\n",
       "21570       0.0\n",
       "21571       0.0\n",
       "21572     190.0\n",
       "21573       0.0\n",
       "21574    1800.0\n",
       "21575       0.0\n",
       "21576       0.0\n",
       "21577       0.0\n",
       "21578       0.0\n",
       "21579      50.0\n",
       "21580       0.0\n",
       "21582       0.0\n",
       "21583       0.0\n",
       "21584       0.0\n",
       "21585       0.0\n",
       "21586       0.0\n",
       "21587       0.0\n",
       "21588       0.0\n",
       "21589       0.0\n",
       "21590     910.0\n",
       "21591     130.0\n",
       "21592       0.0\n",
       "21593       0.0\n",
       "21594       0.0\n",
       "21595       0.0\n",
       "21596       0.0\n",
       "Name: sqft_basement, Length: 21143, dtype: float64"
      ]
     },
     "execution_count": 29,
     "metadata": {},
     "output_type": "execute_result"
    }
   ],
   "source": [
    "data['date'] = pd.to_datetime(data['date'])\n",
    "data['year_sold'], data['month_sold'] = data['date'].dt.year, data['date'].dt.month\n",
    "data['year_sold'].astype(int)\n",
    "data['sqft_basement'].astype(float)"
   ]
  },
  {
   "cell_type": "markdown",
   "metadata": {},
   "source": [
    "# Explore and Transformation"
   ]
  },
  {
   "cell_type": "markdown",
   "metadata": {},
   "source": [
    "The possibility of categorical variables being in the dataset is the next step needed to prepare the data for analysis. The plots below are one way of diagnosing the presence of this phenomenon. Looking at the unique values for each column suspected of being categorical will also be useful."
   ]
  },
  {
   "cell_type": "code",
   "execution_count": 30,
   "metadata": {
    "scrolled": true
   },
   "outputs": [
    {
     "data": {
      "image/png": "[encoded data removed]",
      "text/plain": [
       "<Figure size 864x216 with 5 Axes>"
      ]
     },
     "metadata": {
      "needs_background": "light"
     },
     "output_type": "display_data"
    }
   ],
   "source": [
    "import matplotlib.pyplot as plt\n",
    "%matplotlib inline\n",
    "\n",
    "fig, axes = plt.subplots(nrows=1, ncols=5, figsize=(12,3))\n",
    "\n",
    "for xcol, ax in zip(['waterfront','view', 'condition','grade','floors'], axes):\n",
    "    data.plot(kind='scatter', x=xcol, y='price', ax=ax, alpha=0.4, color='b')"
   ]
  },
  {
   "cell_type": "code",
   "execution_count": 31,
   "metadata": {},
   "outputs": [
    {
     "name": "stdout",
     "output_type": "stream",
     "text": [
      "waterfront unique values 2\n",
      "view unique values 5\n",
      "condition unique values 5\n",
      "grade unique values 11\n",
      "floors unique values 6\n"
     ]
    }
   ],
   "source": [
    "items = ['waterfront','view', 'condition','grade','floors']\n",
    "\n",
    "for item in items:\n",
    "    print(f\"{item} unique values\",data[item].nunique())"
   ]
  },
  {
   "cell_type": "markdown",
   "metadata": {},
   "source": [
    "While the graphs above look like vertical lines, the presence of unique values showcases that the these varaibles just have large areas of concentration and are not categorical for the purposes of this model. The graphs below are designed to see whether or not there is a linear relationship between predictor variables and the dependent variable, price."
   ]
  },
  {
   "cell_type": "code",
   "execution_count": 32,
   "metadata": {},
   "outputs": [
    {
     "name": "stderr",
     "output_type": "stream",
     "text": [
      "C:\\anaconda\\envs\\learn-env\\lib\\site-packages\\scipy\\stats\\stats.py:1713: FutureWarning: Using a non-tuple sequence for multidimensional indexing is deprecated; use `arr[tuple(seq)]` instead of `arr[seq]`. In the future this will be interpreted as an array index, `arr[np.array(seq)]`, which will result either in an error or a different result.\n",
      "  return np.add.reduce(sorted[indexer] * weights, axis=axis) / sumval\n"
     ]
    },
    {
     "data": {
      "text/plain": [
       "<matplotlib.axes._subplots.AxesSubplot at 0x1e0ad0bb5c0>"
      ]
     },
     "execution_count": 32,
     "metadata": {},
     "output_type": "execute_result"
    },
    {
     "data": {
      "image/png": "[encoded data removed]",
      "text/plain": [
       "<Figure size 432x288 with 1 Axes>"
      ]
     },
     "metadata": {
      "needs_background": "light"
     },
     "output_type": "display_data"
    }
   ],
   "source": [
    "sns.regplot(x=\"sqft_living\",y=\"price\",data=data)"
   ]
  },
  {
   "cell_type": "code",
   "execution_count": 33,
   "metadata": {},
   "outputs": [
    {
     "name": "stderr",
     "output_type": "stream",
     "text": [
      "C:\\anaconda\\envs\\learn-env\\lib\\site-packages\\scipy\\stats\\stats.py:1713: FutureWarning: Using a non-tuple sequence for multidimensional indexing is deprecated; use `arr[tuple(seq)]` instead of `arr[seq]`. In the future this will be interpreted as an array index, `arr[np.array(seq)]`, which will result either in an error or a different result.\n",
      "  return np.add.reduce(sorted[indexer] * weights, axis=axis) / sumval\n"
     ]
    },
    {
     "data": {
      "text/plain": [
       "<matplotlib.axes._subplots.AxesSubplot at 0x1e0ad5eee10>"
      ]
     },
     "execution_count": 33,
     "metadata": {},
     "output_type": "execute_result"
    },
    {
     "data": {
      "image/png": "[encoded data removed]",
      "text/plain": [
       "<Figure size 432x288 with 1 Axes>"
      ]
     },
     "metadata": {
      "needs_background": "light"
     },
     "output_type": "display_data"
    }
   ],
   "source": [
    "sns.regplot(x=\"grade\",y=\"price\",data=data)"
   ]
  },
  {
   "cell_type": "code",
   "execution_count": 34,
   "metadata": {},
   "outputs": [
    {
     "name": "stderr",
     "output_type": "stream",
     "text": [
      "C:\\anaconda\\envs\\learn-env\\lib\\site-packages\\scipy\\stats\\stats.py:1713: FutureWarning: Using a non-tuple sequence for multidimensional indexing is deprecated; use `arr[tuple(seq)]` instead of `arr[seq]`. In the future this will be interpreted as an array index, `arr[np.array(seq)]`, which will result either in an error or a different result.\n",
      "  return np.add.reduce(sorted[indexer] * weights, axis=axis) / sumval\n"
     ]
    },
    {
     "data": {
      "text/plain": [
       "<matplotlib.axes._subplots.AxesSubplot at 0x1e0ad1b9278>"
      ]
     },
     "execution_count": 34,
     "metadata": {},
     "output_type": "execute_result"
    },
    {
     "data": {
      "image/png": "[encoded data removed]",
      "text/plain": [
       "<Figure size 432x288 with 1 Axes>"
      ]
     },
     "metadata": {
      "needs_background": "light"
     },
     "output_type": "display_data"
    }
   ],
   "source": [
    "sns.regplot(x=\"bedrooms\",y=\"price\",data=data)"
   ]
  },
  {
   "cell_type": "code",
   "execution_count": 35,
   "metadata": {},
   "outputs": [
    {
     "name": "stderr",
     "output_type": "stream",
     "text": [
      "C:\\anaconda\\envs\\learn-env\\lib\\site-packages\\scipy\\stats\\stats.py:1713: FutureWarning: Using a non-tuple sequence for multidimensional indexing is deprecated; use `arr[tuple(seq)]` instead of `arr[seq]`. In the future this will be interpreted as an array index, `arr[np.array(seq)]`, which will result either in an error or a different result.\n",
      "  return np.add.reduce(sorted[indexer] * weights, axis=axis) / sumval\n"
     ]
    },
    {
     "data": {
      "text/plain": [
       "<matplotlib.axes._subplots.AxesSubplot at 0x1e0ad6b4f60>"
      ]
     },
     "execution_count": 35,
     "metadata": {},
     "output_type": "execute_result"
    },
    {
     "data": {
      "image/png": "[encoded data removed]",
      "text/plain": [
       "<Figure size 432x288 with 1 Axes>"
      ]
     },
     "metadata": {
      "needs_background": "light"
     },
     "output_type": "display_data"
    }
   ],
   "source": [
    "sns.regplot(x=\"zipcode\",y=\"price\",data=data)"
   ]
  },
  {
   "cell_type": "markdown",
   "metadata": {},
   "source": [
    "While the variables such as waterfront were not deemed to be categorical, zipcode appears to be categorical. To test out this assumption, we will measure the regression model with zipcode as it was in the dataset and as a dummy variable."
   ]
  },
  {
   "cell_type": "code",
   "execution_count": 36,
   "metadata": {},
   "outputs": [],
   "source": [
    "zip_dummies = pd.get_dummies(data['zipcode'], prefix='zip', drop_first=True)\n",
    "grade_dummies = pd.get_dummies(data['grade'], prefix='grade', drop_first=True)"
   ]
  },
  {
   "cell_type": "code",
   "execution_count": 37,
   "metadata": {},
   "outputs": [
    {
     "name": "stderr",
     "output_type": "stream",
     "text": [
      "C:\\anaconda\\envs\\learn-env\\lib\\site-packages\\scipy\\stats\\stats.py:1713: FutureWarning: Using a non-tuple sequence for multidimensional indexing is deprecated; use `arr[tuple(seq)]` instead of `arr[seq]`. In the future this will be interpreted as an array index, `arr[np.array(seq)]`, which will result either in an error or a different result.\n",
      "  return np.add.reduce(sorted[indexer] * weights, axis=axis) / sumval\n"
     ]
    },
    {
     "data": {
      "text/plain": [
       "<matplotlib.axes._subplots.AxesSubplot at 0x1e0ad975c88>"
      ]
     },
     "execution_count": 37,
     "metadata": {},
     "output_type": "execute_result"
    },
    {
     "data": {
      "image/png": "[encoded data removed]",
      "text/plain": [
       "<Figure size 432x288 with 1 Axes>"
      ]
     },
     "metadata": {
      "needs_background": "light"
     },
     "output_type": "display_data"
    }
   ],
   "source": [
    "sns.regplot(x=\"sqft_lot\",y=\"price\",data=data)"
   ]
  },
  {
   "cell_type": "code",
   "execution_count": 38,
   "metadata": {},
   "outputs": [
    {
     "data": {
      "image/png": "[encoded data removed]",
      "text/plain": [
       "<Figure size 720x720 with 1 Axes>"
      ]
     },
     "metadata": {
      "needs_background": "light"
     },
     "output_type": "display_data"
    }
   ],
   "source": [
    "var = 'bathrooms'\n",
    "data_graph = pd.concat([data['price'], data[var]], axis=1)\n",
    "f, ax = plt.subplots(figsize=(10, 10))\n",
    "fig = sns.boxplot(x=var, y=\"price\", data=data_graph)\n",
    "fig.axis(ymin=0, ymax=3500000);\n",
    "\n"
   ]
  },
  {
   "cell_type": "code",
   "execution_count": 39,
   "metadata": {
    "scrolled": true
   },
   "outputs": [
    {
     "data": {
      "image/png": "[encoded data removed]",
      "text/plain": [
       "<Figure size 720x720 with 1 Axes>"
      ]
     },
     "metadata": {
      "needs_background": "light"
     },
     "output_type": "display_data"
    }
   ],
   "source": [
    "var = 'bedrooms'\n",
    "data_graph = pd.concat([data['price'], data[var]], axis=1)\n",
    "f, ax = plt.subplots(figsize=(10, 10))\n",
    "fig = sns.boxplot(x=var, y=\"price\", data=data_graph)\n",
    "fig.axis(ymin=0, ymax=3500000);"
   ]
  },
  {
   "cell_type": "code",
   "execution_count": 40,
   "metadata": {},
   "outputs": [
    {
     "data": {
      "image/png": "[encoded data removed]",
      "text/plain": [
       "<Figure size 720x720 with 1 Axes>"
      ]
     },
     "metadata": {
      "needs_background": "light"
     },
     "output_type": "display_data"
    }
   ],
   "source": [
    "var = 'floors'\n",
    "data_graph = pd.concat([data['price'], data[var]], axis=1)\n",
    "f, ax = plt.subplots(figsize=(10, 10))\n",
    "fig = sns.boxplot(x=var, y=\"price\", data=data_graph)"
   ]
  },
  {
   "cell_type": "code",
   "execution_count": 41,
   "metadata": {},
   "outputs": [
    {
     "data": {
      "image/png": "[encoded data removed]",
      "text/plain": [
       "<Figure size 720x720 with 1 Axes>"
      ]
     },
     "metadata": {
      "needs_background": "light"
     },
     "output_type": "display_data"
    }
   ],
   "source": [
    "var = 'view'\n",
    "data_graph = pd.concat([data['price'], data[var]], axis=1)\n",
    "f, ax = plt.subplots(figsize=(10, 10))\n",
    "fig = sns.boxplot(x=var, y=\"price\", data=data_graph)"
   ]
  },
  {
   "cell_type": "code",
   "execution_count": 42,
   "metadata": {},
   "outputs": [
    {
     "data": {
      "text/plain": [
       "price            1.000000\n",
       "sqft_living      0.702328\n",
       "grade            0.667738\n",
       "sqft_above       0.605143\n",
       "sqft_living15    0.586415\n",
       "bathrooms        0.525889\n",
       "view             0.394885\n",
       "bedrooms         0.309204\n",
       "lat              0.306507\n",
       "waterfront       0.265969\n",
       "floors           0.256355\n",
       "yr_renovated     0.116719\n",
       "sqft_lot         0.087937\n",
       "sqft_lot15       0.083192\n",
       "yr_built         0.054459\n",
       "condition        0.035290\n",
       "long             0.022101\n",
       "year_sold        0.004601\n",
       "month_sold      -0.010234\n",
       "id              -0.015796\n",
       "zipcode         -0.053166\n",
       "Name: price, dtype: float64"
      ]
     },
     "execution_count": 42,
     "metadata": {},
     "output_type": "execute_result"
    }
   ],
   "source": [
    "data.corr()['price'].sort_values(ascending=False)"
   ]
  },
  {
   "cell_type": "markdown",
   "metadata": {},
   "source": [
    "## Examination of Multicollinearity"
   ]
  },
  {
   "cell_type": "code",
   "execution_count": 43,
   "metadata": {},
   "outputs": [
    {
     "data": {
      "image/png": "[encoded data removed]",
      "text/plain": [
       "<Figure size 432x288 with 2 Axes>"
      ]
     },
     "metadata": {
      "needs_background": "light"
     },
     "output_type": "display_data"
    }
   ],
   "source": [
    "data_pred = data.iloc[:,2:11]\n",
    "import seaborn as sns\n",
    "sns.heatmap(data_pred.corr(), center=0);"
   ]
  },
  {
   "cell_type": "code",
   "execution_count": 44,
   "metadata": {
    "scrolled": true
   },
   "outputs": [
    {
     "data": {
      "text/html": [
       "<div>\n",
       "<style scoped>\n",
       "    .dataframe tbody tr th:only-of-type {\n",
       "        vertical-align: middle;\n",
       "    }\n",
       "\n",
       "    .dataframe tbody tr th {\n",
       "        vertical-align: top;\n",
       "    }\n",
       "\n",
       "    .dataframe thead th {\n",
       "        text-align: right;\n",
       "    }\n",
       "</style>\n",
       "<table border=\"1\" class=\"dataframe\">\n",
       "  <thead>\n",
       "    <tr style=\"text-align: right;\">\n",
       "      <th></th>\n",
       "      <th>price</th>\n",
       "      <th>bedrooms</th>\n",
       "      <th>bathrooms</th>\n",
       "      <th>sqft_living</th>\n",
       "      <th>sqft_lot</th>\n",
       "      <th>floors</th>\n",
       "      <th>waterfront</th>\n",
       "      <th>view</th>\n",
       "      <th>condition</th>\n",
       "    </tr>\n",
       "  </thead>\n",
       "  <tbody>\n",
       "    <tr>\n",
       "      <th>price</th>\n",
       "      <td>True</td>\n",
       "      <td>False</td>\n",
       "      <td>False</td>\n",
       "      <td>False</td>\n",
       "      <td>False</td>\n",
       "      <td>False</td>\n",
       "      <td>False</td>\n",
       "      <td>False</td>\n",
       "      <td>False</td>\n",
       "    </tr>\n",
       "    <tr>\n",
       "      <th>bedrooms</th>\n",
       "      <td>False</td>\n",
       "      <td>True</td>\n",
       "      <td>False</td>\n",
       "      <td>False</td>\n",
       "      <td>False</td>\n",
       "      <td>False</td>\n",
       "      <td>False</td>\n",
       "      <td>False</td>\n",
       "      <td>False</td>\n",
       "    </tr>\n",
       "    <tr>\n",
       "      <th>bathrooms</th>\n",
       "      <td>False</td>\n",
       "      <td>False</td>\n",
       "      <td>True</td>\n",
       "      <td>True</td>\n",
       "      <td>False</td>\n",
       "      <td>False</td>\n",
       "      <td>False</td>\n",
       "      <td>False</td>\n",
       "      <td>False</td>\n",
       "    </tr>\n",
       "    <tr>\n",
       "      <th>sqft_living</th>\n",
       "      <td>False</td>\n",
       "      <td>False</td>\n",
       "      <td>True</td>\n",
       "      <td>True</td>\n",
       "      <td>False</td>\n",
       "      <td>False</td>\n",
       "      <td>False</td>\n",
       "      <td>False</td>\n",
       "      <td>False</td>\n",
       "    </tr>\n",
       "    <tr>\n",
       "      <th>sqft_lot</th>\n",
       "      <td>False</td>\n",
       "      <td>False</td>\n",
       "      <td>False</td>\n",
       "      <td>False</td>\n",
       "      <td>True</td>\n",
       "      <td>False</td>\n",
       "      <td>False</td>\n",
       "      <td>False</td>\n",
       "      <td>False</td>\n",
       "    </tr>\n",
       "    <tr>\n",
       "      <th>floors</th>\n",
       "      <td>False</td>\n",
       "      <td>False</td>\n",
       "      <td>False</td>\n",
       "      <td>False</td>\n",
       "      <td>False</td>\n",
       "      <td>True</td>\n",
       "      <td>False</td>\n",
       "      <td>False</td>\n",
       "      <td>False</td>\n",
       "    </tr>\n",
       "    <tr>\n",
       "      <th>waterfront</th>\n",
       "      <td>False</td>\n",
       "      <td>False</td>\n",
       "      <td>False</td>\n",
       "      <td>False</td>\n",
       "      <td>False</td>\n",
       "      <td>False</td>\n",
       "      <td>True</td>\n",
       "      <td>False</td>\n",
       "      <td>False</td>\n",
       "    </tr>\n",
       "    <tr>\n",
       "      <th>view</th>\n",
       "      <td>False</td>\n",
       "      <td>False</td>\n",
       "      <td>False</td>\n",
       "      <td>False</td>\n",
       "      <td>False</td>\n",
       "      <td>False</td>\n",
       "      <td>False</td>\n",
       "      <td>True</td>\n",
       "      <td>False</td>\n",
       "    </tr>\n",
       "    <tr>\n",
       "      <th>condition</th>\n",
       "      <td>False</td>\n",
       "      <td>False</td>\n",
       "      <td>False</td>\n",
       "      <td>False</td>\n",
       "      <td>False</td>\n",
       "      <td>False</td>\n",
       "      <td>False</td>\n",
       "      <td>False</td>\n",
       "      <td>True</td>\n",
       "    </tr>\n",
       "  </tbody>\n",
       "</table>\n",
       "</div>"
      ],
      "text/plain": [
       "             price  bedrooms  bathrooms  sqft_living  sqft_lot  floors  \\\n",
       "price         True     False      False        False     False   False   \n",
       "bedrooms     False      True      False        False     False   False   \n",
       "bathrooms    False     False       True         True     False   False   \n",
       "sqft_living  False     False       True         True     False   False   \n",
       "sqft_lot     False     False      False        False      True   False   \n",
       "floors       False     False      False        False     False    True   \n",
       "waterfront   False     False      False        False     False   False   \n",
       "view         False     False      False        False     False   False   \n",
       "condition    False     False      False        False     False   False   \n",
       "\n",
       "             waterfront   view  condition  \n",
       "price             False  False      False  \n",
       "bedrooms          False  False      False  \n",
       "bathrooms         False  False      False  \n",
       "sqft_living       False  False      False  \n",
       "sqft_lot          False  False      False  \n",
       "floors            False  False      False  \n",
       "waterfront         True  False      False  \n",
       "view              False   True      False  \n",
       "condition         False  False       True  "
      ]
     },
     "execution_count": 44,
     "metadata": {},
     "output_type": "execute_result"
    }
   ],
   "source": [
    "abs(data_pred.corr()) > 0.75"
   ]
  },
  {
   "cell_type": "markdown",
   "metadata": {},
   "source": [
    "There is evidence of a linear relationship and it appears to be positive. Also, the presence of multicollinearity will inform my decision to combine some columns."
   ]
  },
  {
   "cell_type": "markdown",
   "metadata": {},
   "source": [
    "## Transformations and Scaling"
   ]
  },
  {
   "cell_type": "code",
   "execution_count": 45,
   "metadata": {},
   "outputs": [
    {
     "data": {
      "text/plain": [
       "Text(0.5, 1.0, 'after')"
      ]
     },
     "execution_count": 45,
     "metadata": {},
     "output_type": "execute_result"
    },
    {
     "data": {
      "image/png": "[encoded data removed]",
      "text/plain": [
       "<Figure size 864x216 with 2 Axes>"
      ]
     },
     "metadata": {
      "needs_background": "light"
     },
     "output_type": "display_data"
    }
   ],
   "source": [
    "fig, (ax1,ax2) = plt.subplots(nrows=1, ncols=2, figsize=(12,3))\n",
    "fig.suptitle('Price Before and After Transformation')\n",
    "\n",
    "ax1.hist(data['price'])\n",
    "ax1.set_title('Before')\n",
    "\n",
    "\n",
    "data['log_price'] = np.log(data['price'])\n",
    "ax2.hist(data['log_price'])\n",
    "ax2.set_title('after')\n",
    "\n",
    "#logbeds = data['log_bedrooms']\n",
    "#(acc - min(acc)) / (max(acc) - min(acc))\n",
    "#scaled_disp = (logdisp - np.mean(logdisp)) / np.sqrt(np.var(logdisp))\n",
    "#data['scaled_beds'] = (logbeds - np.mean(logbeds) / np.sqrt(np.var(logbeds)))\n",
    "#ax3.hist(data.scaled_beds)\n",
    "#ax3.set_title('Scaled')"
   ]
  },
  {
   "cell_type": "code",
   "execution_count": 46,
   "metadata": {},
   "outputs": [
    {
     "data": {
      "text/plain": [
       "Text(0.5, 1.0, 'Scaled')"
      ]
     },
     "execution_count": 46,
     "metadata": {},
     "output_type": "execute_result"
    },
    {
     "data": {
      "image/png": "[encoded data removed]",
      "text/plain": [
       "<Figure size 864x216 with 3 Axes>"
      ]
     },
     "metadata": {
      "needs_background": "light"
     },
     "output_type": "display_data"
    }
   ],
   "source": [
    "fig, (ax1,ax2,ax3) = plt.subplots(nrows=1, ncols=3, figsize=(12,3))\n",
    "fig.suptitle('Bedrooms Before and After Transformation')\n",
    "\n",
    "ax1.hist(data['bedrooms'])\n",
    "ax1.set_title('Before')\n",
    "\n",
    "\n",
    "data['log_bedrooms'] = np.log(data['bedrooms'])\n",
    "ax2.hist(data['log_bedrooms'])\n",
    "ax2.set_title('after')\n",
    "\n",
    "logbeds = data['log_bedrooms']\n",
    "#(acc - min(acc)) / (max(acc) - min(acc))\n",
    "#scaled_disp = (logdisp - np.mean(logdisp)) / np.sqrt(np.var(logdisp))\n",
    "data['scaled_beds'] = (logbeds - np.mean(logbeds) / np.sqrt(np.var(logbeds)))\n",
    "ax3.hist(data.scaled_beds)\n",
    "ax3.set_title('Scaled')"
   ]
  },
  {
   "cell_type": "code",
   "execution_count": 47,
   "metadata": {},
   "outputs": [
    {
     "data": {
      "text/plain": [
       "Text(0.5, 1.0, 'Scaled')"
      ]
     },
     "execution_count": 47,
     "metadata": {},
     "output_type": "execute_result"
    },
    {
     "data": {
      "image/png": "[encoded data removed]",
      "text/plain": [
       "<Figure size 1080x216 with 3 Axes>"
      ]
     },
     "metadata": {
      "needs_background": "light"
     },
     "output_type": "display_data"
    }
   ],
   "source": [
    "fig, (ax1,ax2,ax3) = plt.subplots(nrows=1, ncols=3, figsize=(15,3))\n",
    "fig.suptitle('Bathrooms Before and After Transformation')\n",
    "\n",
    "ax1.hist(data['bathrooms'])\n",
    "ax1.set_title('Before')\n",
    "\n",
    "data['log_bathrooms'] = np.log(data['bathrooms'])\n",
    "ax2.hist(data['log_bathrooms'])\n",
    "ax2.set_title('After')\n",
    "\n",
    "logbathrooms = data['log_bathrooms']\n",
    "data['scaled_bathrooms'] = (logbathrooms - np.mean(logbathrooms) / np.sqrt(np.var(logbathrooms)))\n",
    "ax3.hist(data.scaled_bathrooms)\n",
    "ax3.set_title('Scaled')\n",
    "\n",
    "#(logdisp - np.mean(logdisp)) / np.sqrt(np.var(logdisp))"
   ]
  },
  {
   "cell_type": "code",
   "execution_count": 48,
   "metadata": {},
   "outputs": [
    {
     "data": {
      "text/plain": [
       "Text(0.5, 1.0, 'Scaled')"
      ]
     },
     "execution_count": 48,
     "metadata": {},
     "output_type": "execute_result"
    },
    {
     "data": {
      "image/png": "[encoded data removed]",
      "text/plain": [
       "<Figure size 864x216 with 3 Axes>"
      ]
     },
     "metadata": {
      "needs_background": "light"
     },
     "output_type": "display_data"
    }
   ],
   "source": [
    "fig, (ax1,ax2,ax3) = plt.subplots(nrows=1, ncols=3, figsize=(12,3))\n",
    "fig.suptitle('SQft_living Before and After Transformation')\n",
    "\n",
    "ax1.hist(data['sqft_living'])\n",
    "ax1.set_title('Before')\n",
    "\n",
    "data['log_sqft_living'] = np.log(data['sqft_living'])\n",
    "ax2.hist(data['log_sqft_living'])\n",
    "ax2.set_title('After')\n",
    "\n",
    "logsqftliving = data['log_sqft_living']\n",
    "data['scaled_sqftliving'] = (logsqftliving - np.mean(logsqftliving) / np.sqrt(np.var(logsqftliving)))\n",
    "ax3.hist(data.scaled_sqftliving)\n",
    "ax3.set_title('Scaled')"
   ]
  },
  {
   "cell_type": "code",
   "execution_count": 49,
   "metadata": {
    "scrolled": true
   },
   "outputs": [
    {
     "data": {
      "text/plain": [
       "Text(0.5, 1.0, 'Scaled')"
      ]
     },
     "execution_count": 49,
     "metadata": {},
     "output_type": "execute_result"
    },
    {
     "data": {
      "image/png": "[encoded data removed]",
      "text/plain": [
       "<Figure size 864x216 with 3 Axes>"
      ]
     },
     "metadata": {
      "needs_background": "light"
     },
     "output_type": "display_data"
    }
   ],
   "source": [
    "fig, (ax1,ax2,ax3) = plt.subplots(nrows=1, ncols=3, figsize=(12,3))\n",
    "fig.suptitle('Sqft_lot Before and After Transformation')\n",
    "\n",
    "ax1.hist(data['sqft_lot'])\n",
    "ax1.set_title('Before')\n",
    "\n",
    "data['log_sqft_lot'] = np.log(data['sqft_lot'])\n",
    "ax2.hist(data['log_sqft_lot'])\n",
    "ax2.set_title('After')\n",
    "\n",
    "logsqftlot = data['log_sqft_lot']\n",
    "data['scaled_sqftlot'] = (logsqftlot - np.mean(logsqftlot) / np.sqrt(np.var(logsqftlot)))\n",
    "ax3.hist(data.scaled_sqftlot)\n",
    "ax3.set_title('Scaled')\n",
    "\n"
   ]
  },
  {
   "cell_type": "code",
   "execution_count": 50,
   "metadata": {},
   "outputs": [
    {
     "data": {
      "text/plain": [
       "Text(0.5, 1.0, 'Scaled')"
      ]
     },
     "execution_count": 50,
     "metadata": {},
     "output_type": "execute_result"
    },
    {
     "data": {
      "image/png": "[encoded data removed]",
      "text/plain": [
       "<Figure size 864x216 with 3 Axes>"
      ]
     },
     "metadata": {
      "needs_background": "light"
     },
     "output_type": "display_data"
    }
   ],
   "source": [
    "fig, (ax1,ax2,ax3) = plt.subplots(nrows=1, ncols=3, figsize=(12,3))\n",
    "fig.suptitle('Sqft_above Before and After Transformation')\n",
    "\n",
    "ax1.hist(data['sqft_above'])\n",
    "ax1.set_title('Before')\n",
    "\n",
    "data['log_sqft_above'] = np.log(data['sqft_above'])\n",
    "ax2.hist(data['log_sqft_above'])\n",
    "ax2.set_title('After')\n",
    "\n",
    "\n",
    "logsqftabove = data['log_sqft_above']\n",
    "data['scaled_sqftabove'] = (logsqftabove - np.mean(logsqftabove) / np.sqrt(np.var(logsqftabove)))\n",
    "ax3.hist(data.scaled_sqftabove)\n",
    "ax3.set_title('Scaled')\n",
    "\n"
   ]
  },
  {
   "cell_type": "code",
   "execution_count": 51,
   "metadata": {},
   "outputs": [
    {
     "data": {
      "text/plain": [
       "Text(0.5, 1.0, 'Scaled')"
      ]
     },
     "execution_count": 51,
     "metadata": {},
     "output_type": "execute_result"
    },
    {
     "data": {
      "image/png": "[encoded data removed]",
      "text/plain": [
       "<Figure size 864x216 with 3 Axes>"
      ]
     },
     "metadata": {
      "needs_background": "light"
     },
     "output_type": "display_data"
    }
   ],
   "source": [
    "fig, (ax1,ax2,ax3) = plt.subplots(nrows=1, ncols=3, figsize=(12,3))\n",
    "fig.suptitle('Yr_Renovated Before and After Transformation')\n",
    "\n",
    "ax1.hist(data['yr_renovated'])\n",
    "ax1.set_title('Before')\n",
    "\n",
    "data['yr_renovated_fill'] = data.yr_renovated.replace(0,data['yr_built'])\n",
    "data['log_yr_renovated'] = np.log(data['yr_renovated_fill'])\n",
    "\n",
    "ax2.hist(data['log_yr_renovated'])\n",
    "ax2.set_title('After')\n",
    "\n",
    "\n",
    "logyr_renovated = data['log_yr_renovated']\n",
    "data['scaled_yr_renovated'] = (logyr_renovated - np.mean(logyr_renovated) / np.sqrt(np.var(logyr_renovated)))\n",
    "ax3.hist(data.scaled_yr_renovated)\n",
    "ax3.set_title('Scaled')"
   ]
  },
  {
   "cell_type": "code",
   "execution_count": 52,
   "metadata": {
    "scrolled": true
   },
   "outputs": [
    {
     "data": {
      "text/plain": [
       "Text(0.5, 1.0, 'Scaled')"
      ]
     },
     "execution_count": 52,
     "metadata": {},
     "output_type": "execute_result"
    },
    {
     "data": {
      "image/png": "[encoded data removed]",
      "text/plain": [
       "<Figure size 864x216 with 3 Axes>"
      ]
     },
     "metadata": {
      "needs_background": "light"
     },
     "output_type": "display_data"
    }
   ],
   "source": [
    "fig, (ax1,ax2,ax3) = plt.subplots(nrows=1, ncols=3, figsize=(12,3))\n",
    "fig.suptitle('Yr_built Before and After Transformation')\n",
    "\n",
    "ax1.hist(data['yr_built'])\n",
    "ax1.set_title('Before')\n",
    "\n",
    "data['log_yr_built'] = np.log(data['yr_built'])\n",
    "ax2.hist(data['log_yr_built'])\n",
    "ax2.set_title('After')\n",
    "\n",
    "\n",
    "logyr_built = data['log_yr_built']\n",
    "data['scaled_yr_built'] = (logyr_built - np.mean(logyr_built) / np.sqrt(np.var(logyr_built)))\n",
    "ax3.hist(data.scaled_yr_built)\n",
    "ax3.set_title('Scaled')"
   ]
  },
  {
   "cell_type": "markdown",
   "metadata": {},
   "source": [
    "# MODEL"
   ]
  },
  {
   "cell_type": "markdown",
   "metadata": {},
   "source": [
    "First model without scaling/normalization"
   ]
  },
  {
   "cell_type": "code",
   "execution_count": 53,
   "metadata": {},
   "outputs": [],
   "source": [
    "data_fin = pd.DataFrame([])\n",
    "data_fin['sqft_lot'] = data['sqft_lot']\n",
    "data_fin['sqft_living'] = data['sqft_living']\n",
    "data_fin['sqft_above'] = data['sqft_above']\n",
    "data_fin['zip_code'] = data['zipcode']\n",
    "data_fin['bedrooms'] = data['bedrooms']\n",
    "data_fin['view'] = data['view']\n",
    "data_fin['grade'] = data['grade']\n",
    "data_fin['bathrooms'] = data['bathrooms']\n",
    "data_fin['yr_built'] = data['yr_built']\n",
    "data_fin['renovated'] = data['yr_renovated']\n",
    "data_fin['lat'] = data['lat']\n",
    "data_fin['long'] = data['long']\n",
    "data_fin['waterfront'] = data['waterfront']\n",
    "data_fin['floors'] = data['floors']\n",
    "data_fin['sqft_living15'] = data['sqft_living15']\n",
    "data_fin['sqft_lot15'] = data['sqft_lot15']\n",
    "price = data['price']\n",
    "data_ols = pd.concat([price, data_fin,], axis=1)"
   ]
  },
  {
   "cell_type": "code",
   "execution_count": 54,
   "metadata": {},
   "outputs": [],
   "source": [
    "import statsmodels.formula.api as smf\n",
    "import statsmodels.api as sm\n",
    "from statsmodels.formula.api import ols\n",
    "\n",
    "outcome = 'price'\n",
    "predictors = data_ols.drop('price', axis=1)\n",
    "pred_sum = \"+\".join(predictors.columns)\n",
    "formula = outcome + \"~\" + pred_sum\n"
   ]
  },
  {
   "cell_type": "code",
   "execution_count": 55,
   "metadata": {
    "scrolled": true
   },
   "outputs": [
    {
     "data": {
      "text/html": [
       "<table class=\"simpletable\">\n",
       "<caption>OLS Regression Results</caption>\n",
       "<tr>\n",
       "  <th>Dep. Variable:</th>          <td>price</td>      <th>  R-squared:         </th>  <td>   0.699</td>  \n",
       "</tr>\n",
       "<tr>\n",
       "  <th>Model:</th>                   <td>OLS</td>       <th>  Adj. R-squared:    </th>  <td>   0.698</td>  \n",
       "</tr>\n",
       "<tr>\n",
       "  <th>Method:</th>             <td>Least Squares</td>  <th>  F-statistic:       </th>  <td>   3059.</td>  \n",
       "</tr>\n",
       "<tr>\n",
       "  <th>Date:</th>             <td>Thu, 26 Dec 2019</td> <th>  Prob (F-statistic):</th>   <td>  0.00</td>   \n",
       "</tr>\n",
       "<tr>\n",
       "  <th>Time:</th>                 <td>18:46:41</td>     <th>  Log-Likelihood:    </th> <td>-2.8829e+05</td>\n",
       "</tr>\n",
       "<tr>\n",
       "  <th>No. Observations:</th>      <td> 21143</td>      <th>  AIC:               </th>  <td>5.766e+05</td> \n",
       "</tr>\n",
       "<tr>\n",
       "  <th>Df Residuals:</th>          <td> 21126</td>      <th>  BIC:               </th>  <td>5.768e+05</td> \n",
       "</tr>\n",
       "<tr>\n",
       "  <th>Df Model:</th>              <td>    16</td>      <th>                     </th>      <td> </td>     \n",
       "</tr>\n",
       "<tr>\n",
       "  <th>Covariance Type:</th>      <td>nonrobust</td>    <th>                     </th>      <td> </td>     \n",
       "</tr>\n",
       "</table>\n",
       "<table class=\"simpletable\">\n",
       "<tr>\n",
       "        <td></td>           <th>coef</th>     <th>std err</th>      <th>t</th>      <th>P>|t|</th>  <th>[0.025</th>    <th>0.975]</th>  \n",
       "</tr>\n",
       "<tr>\n",
       "  <th>Intercept</th>     <td> 1.203e+07</td> <td> 2.94e+06</td> <td>    4.092</td> <td> 0.000</td> <td> 6.27e+06</td> <td> 1.78e+07</td>\n",
       "</tr>\n",
       "<tr>\n",
       "  <th>sqft_lot</th>      <td>    0.1052</td> <td>    0.049</td> <td>    2.145</td> <td> 0.032</td> <td>    0.009</td> <td>    0.201</td>\n",
       "</tr>\n",
       "<tr>\n",
       "  <th>sqft_living</th>   <td>  153.7096</td> <td>    4.455</td> <td>   34.506</td> <td> 0.000</td> <td>  144.978</td> <td>  162.441</td>\n",
       "</tr>\n",
       "<tr>\n",
       "  <th>sqft_above</th>    <td>   26.4760</td> <td>    4.411</td> <td>    6.003</td> <td> 0.000</td> <td>   17.831</td> <td>   35.121</td>\n",
       "</tr>\n",
       "<tr>\n",
       "  <th>zip_code</th>      <td> -629.3236</td> <td>   33.283</td> <td>  -18.908</td> <td> 0.000</td> <td> -694.561</td> <td> -564.086</td>\n",
       "</tr>\n",
       "<tr>\n",
       "  <th>bedrooms</th>      <td>-3.517e+04</td> <td> 1930.055</td> <td>  -18.224</td> <td> 0.000</td> <td> -3.9e+04</td> <td>-3.14e+04</td>\n",
       "</tr>\n",
       "<tr>\n",
       "  <th>view</th>          <td> 5.427e+04</td> <td> 2154.516</td> <td>   25.190</td> <td> 0.000</td> <td>    5e+04</td> <td> 5.85e+04</td>\n",
       "</tr>\n",
       "<tr>\n",
       "  <th>grade</th>         <td> 9.718e+04</td> <td> 2191.132</td> <td>   44.350</td> <td> 0.000</td> <td> 9.29e+04</td> <td> 1.01e+05</td>\n",
       "</tr>\n",
       "<tr>\n",
       "  <th>bathrooms</th>     <td> 4.365e+04</td> <td> 3307.835</td> <td>   13.196</td> <td> 0.000</td> <td> 3.72e+04</td> <td> 5.01e+04</td>\n",
       "</tr>\n",
       "<tr>\n",
       "  <th>yr_built</th>      <td>-2902.2239</td> <td>   69.397</td> <td>  -41.820</td> <td> 0.000</td> <td>-3038.248</td> <td>-2766.200</td>\n",
       "</tr>\n",
       "<tr>\n",
       "  <th>renovated</th>     <td>   16.6036</td> <td>    4.000</td> <td>    4.151</td> <td> 0.000</td> <td>    8.764</td> <td>   24.443</td>\n",
       "</tr>\n",
       "<tr>\n",
       "  <th>lat</th>           <td> 5.939e+05</td> <td> 1.09e+04</td> <td>   54.571</td> <td> 0.000</td> <td> 5.73e+05</td> <td> 6.15e+05</td>\n",
       "</tr>\n",
       "<tr>\n",
       "  <th>long</th>          <td>-2.173e+05</td> <td> 1.34e+04</td> <td>  -16.264</td> <td> 0.000</td> <td>-2.44e+05</td> <td>-1.91e+05</td>\n",
       "</tr>\n",
       "<tr>\n",
       "  <th>waterfront</th>    <td>  6.27e+05</td> <td> 1.85e+04</td> <td>   33.979</td> <td> 0.000</td> <td> 5.91e+05</td> <td> 6.63e+05</td>\n",
       "</tr>\n",
       "<tr>\n",
       "  <th>floors</th>        <td> 4721.5154</td> <td> 3653.891</td> <td>    1.292</td> <td> 0.196</td> <td>-2440.390</td> <td> 1.19e+04</td>\n",
       "</tr>\n",
       "<tr>\n",
       "  <th>sqft_living15</th> <td>   20.5874</td> <td>    3.494</td> <td>    5.892</td> <td> 0.000</td> <td>   13.738</td> <td>   27.437</td>\n",
       "</tr>\n",
       "<tr>\n",
       "  <th>sqft_lot15</th>    <td>   -0.3656</td> <td>    0.075</td> <td>   -4.874</td> <td> 0.000</td> <td>   -0.513</td> <td>   -0.219</td>\n",
       "</tr>\n",
       "</table>\n",
       "<table class=\"simpletable\">\n",
       "<tr>\n",
       "  <th>Omnibus:</th>       <td>17747.470</td> <th>  Durbin-Watson:     </th>  <td>   1.995</td>  \n",
       "</tr>\n",
       "<tr>\n",
       "  <th>Prob(Omnibus):</th>  <td> 0.000</td>   <th>  Jarque-Bera (JB):  </th> <td>1729925.954</td>\n",
       "</tr>\n",
       "<tr>\n",
       "  <th>Skew:</th>           <td> 3.501</td>   <th>  Prob(JB):          </th>  <td>    0.00</td>  \n",
       "</tr>\n",
       "<tr>\n",
       "  <th>Kurtosis:</th>       <td>46.757</td>   <th>  Cond. No.          </th>  <td>2.13e+08</td>  \n",
       "</tr>\n",
       "</table><br/><br/>Warnings:<br/>[1] Standard Errors assume that the covariance matrix of the errors is correctly specified.<br/>[2] The condition number is large, 2.13e+08. This might indicate that there are<br/>strong multicollinearity or other numerical problems."
      ],
      "text/plain": [
       "<class 'statsmodels.iolib.summary.Summary'>\n",
       "\"\"\"\n",
       "                            OLS Regression Results                            \n",
       "==============================================================================\n",
       "Dep. Variable:                  price   R-squared:                       0.699\n",
       "Model:                            OLS   Adj. R-squared:                  0.698\n",
       "Method:                 Least Squares   F-statistic:                     3059.\n",
       "Date:                Thu, 26 Dec 2019   Prob (F-statistic):               0.00\n",
       "Time:                        18:46:41   Log-Likelihood:            -2.8829e+05\n",
       "No. Observations:               21143   AIC:                         5.766e+05\n",
       "Df Residuals:                   21126   BIC:                         5.768e+05\n",
       "Df Model:                          16                                         \n",
       "Covariance Type:            nonrobust                                         \n",
       "=================================================================================\n",
       "                    coef    std err          t      P>|t|      [0.025      0.975]\n",
       "---------------------------------------------------------------------------------\n",
       "Intercept      1.203e+07   2.94e+06      4.092      0.000    6.27e+06    1.78e+07\n",
       "sqft_lot          0.1052      0.049      2.145      0.032       0.009       0.201\n",
       "sqft_living     153.7096      4.455     34.506      0.000     144.978     162.441\n",
       "sqft_above       26.4760      4.411      6.003      0.000      17.831      35.121\n",
       "zip_code       -629.3236     33.283    -18.908      0.000    -694.561    -564.086\n",
       "bedrooms      -3.517e+04   1930.055    -18.224      0.000    -3.9e+04   -3.14e+04\n",
       "view           5.427e+04   2154.516     25.190      0.000       5e+04    5.85e+04\n",
       "grade          9.718e+04   2191.132     44.350      0.000    9.29e+04    1.01e+05\n",
       "bathrooms      4.365e+04   3307.835     13.196      0.000    3.72e+04    5.01e+04\n",
       "yr_built      -2902.2239     69.397    -41.820      0.000   -3038.248   -2766.200\n",
       "renovated        16.6036      4.000      4.151      0.000       8.764      24.443\n",
       "lat            5.939e+05   1.09e+04     54.571      0.000    5.73e+05    6.15e+05\n",
       "long          -2.173e+05   1.34e+04    -16.264      0.000   -2.44e+05   -1.91e+05\n",
       "waterfront      6.27e+05   1.85e+04     33.979      0.000    5.91e+05    6.63e+05\n",
       "floors         4721.5154   3653.891      1.292      0.196   -2440.390    1.19e+04\n",
       "sqft_living15    20.5874      3.494      5.892      0.000      13.738      27.437\n",
       "sqft_lot15       -0.3656      0.075     -4.874      0.000      -0.513      -0.219\n",
       "==============================================================================\n",
       "Omnibus:                    17747.470   Durbin-Watson:                   1.995\n",
       "Prob(Omnibus):                  0.000   Jarque-Bera (JB):          1729925.954\n",
       "Skew:                           3.501   Prob(JB):                         0.00\n",
       "Kurtosis:                      46.757   Cond. No.                     2.13e+08\n",
       "==============================================================================\n",
       "\n",
       "Warnings:\n",
       "[1] Standard Errors assume that the covariance matrix of the errors is correctly specified.\n",
       "[2] The condition number is large, 2.13e+08. This might indicate that there are\n",
       "strong multicollinearity or other numerical problems.\n",
       "\"\"\""
      ]
     },
     "execution_count": 55,
     "metadata": {},
     "output_type": "execute_result"
    }
   ],
   "source": [
    "first = ols(formula= formula, data = data_ols, missing = 'drop').fit()\n",
    "first.summary()"
   ]
  },
  {
   "cell_type": "code",
   "execution_count": 73,
   "metadata": {
    "scrolled": true
   },
   "outputs": [
    {
     "data": {
      "image/png": "[encoded data removed]",
      "text/plain": [
       "<Figure size 432x288 with 1 Axes>"
      ]
     },
     "metadata": {
      "needs_background": "light"
     },
     "output_type": "display_data"
    }
   ],
   "source": [
    "res = first.resid\n",
    "fig = sm.qqplot(res,line='45',fit=True)\n",
    "plt.title('First Model QQplot')\n",
    "plt.show()"
   ]
  },
  {
   "cell_type": "markdown",
   "metadata": {},
   "source": [
    "## Revised Model"
   ]
  },
  {
   "cell_type": "code",
   "execution_count": 57,
   "metadata": {},
   "outputs": [],
   "source": [
    "data_fin = pd.DataFrame([])\n",
    "#data_fin['sqft_lot'] = data['scaled_sqftlot']\n",
    "data_fin['sqft_living'] = data['scaled_sqftliving']\n",
    "#data_fin['sqft_above'] = data['scaled_sqftabove']\n",
    "data_fin['rooms'] = data['bedrooms'] + data['bathrooms']\n",
    "data_fin['view'] = data['view']\n",
    "data_fin['condition'] = data['condition']\n",
    "data_fin['grade'] = data['grade']\n",
    "data_fin['age_house'] = data['year_sold'] - data['yr_built']\n",
    "data_fin['renovated'] = data['scaled_yr_renovated']\n",
    "data_fin['lat'] = data['lat']\n",
    "data_fin['long'] = data['long']\n",
    "data_fin['waterfront'] = data['waterfront']\n",
    "data_fin['floors'] = data['floors']\n",
    "data_fin['sqft_living15'] = data['sqft_living15']\n",
    "data_fin['sqft_lot15'] = data['sqft_lot15']\n",
    "price = data['log_price']\n",
    "data_ols = pd.concat([price, data_fin, zip_dummies], axis=1)"
   ]
  },
  {
   "cell_type": "code",
   "execution_count": 58,
   "metadata": {},
   "outputs": [],
   "source": [
    "outcome = 'price'\n",
    "predictors = data_ols.drop('log_price', axis=1)\n",
    "pred_sum = \"+\".join(predictors.columns)\n",
    "formula = outcome + \"~\" + pred_sum\n"
   ]
  },
  {
   "cell_type": "code",
   "execution_count": 59,
   "metadata": {
    "scrolled": true
   },
   "outputs": [
    {
     "data": {
      "text/html": [
       "<table class=\"simpletable\">\n",
       "<caption>OLS Regression Results</caption>\n",
       "<tr>\n",
       "  <th>Dep. Variable:</th>          <td>price</td>      <th>  R-squared:         </th>  <td>   0.877</td> \n",
       "</tr>\n",
       "<tr>\n",
       "  <th>Model:</th>                   <td>OLS</td>       <th>  Adj. R-squared:    </th>  <td>   0.877</td> \n",
       "</tr>\n",
       "<tr>\n",
       "  <th>Method:</th>             <td>Least Squares</td>  <th>  F-statistic:       </th>  <td>   1837.</td> \n",
       "</tr>\n",
       "<tr>\n",
       "  <th>Date:</th>             <td>Thu, 26 Dec 2019</td> <th>  Prob (F-statistic):</th>   <td>  0.00</td>  \n",
       "</tr>\n",
       "<tr>\n",
       "  <th>Time:</th>                 <td>18:46:46</td>     <th>  Log-Likelihood:    </th>  <td>  5737.9</td> \n",
       "</tr>\n",
       "<tr>\n",
       "  <th>No. Observations:</th>      <td> 21143</td>      <th>  AIC:               </th> <td>-1.131e+04</td>\n",
       "</tr>\n",
       "<tr>\n",
       "  <th>Df Residuals:</th>          <td> 21060</td>      <th>  BIC:               </th> <td>-1.065e+04</td>\n",
       "</tr>\n",
       "<tr>\n",
       "  <th>Df Model:</th>              <td>    82</td>      <th>                     </th>      <td> </td>    \n",
       "</tr>\n",
       "<tr>\n",
       "  <th>Covariance Type:</th>      <td>nonrobust</td>    <th>                     </th>      <td> </td>    \n",
       "</tr>\n",
       "</table>\n",
       "<table class=\"simpletable\">\n",
       "<tr>\n",
       "        <td></td>           <th>coef</th>     <th>std err</th>      <th>t</th>      <th>P>|t|</th>  <th>[0.025</th>    <th>0.975]</th>  \n",
       "</tr>\n",
       "<tr>\n",
       "  <th>Intercept</th>     <td> 1136.5959</td> <td>  121.933</td> <td>    9.321</td> <td> 0.000</td> <td>  897.598</td> <td> 1375.594</td>\n",
       "</tr>\n",
       "<tr>\n",
       "  <th>sqft_living</th>   <td>    0.4145</td> <td>    0.007</td> <td>   62.469</td> <td> 0.000</td> <td>    0.401</td> <td>    0.427</td>\n",
       "</tr>\n",
       "<tr>\n",
       "  <th>rooms</th>         <td>    0.0009</td> <td>    0.001</td> <td>    0.641</td> <td> 0.522</td> <td>   -0.002</td> <td>    0.004</td>\n",
       "</tr>\n",
       "<tr>\n",
       "  <th>view</th>          <td>    0.0605</td> <td>    0.002</td> <td>   30.396</td> <td> 0.000</td> <td>    0.057</td> <td>    0.064</td>\n",
       "</tr>\n",
       "<tr>\n",
       "  <th>condition</th>     <td>    0.0485</td> <td>    0.002</td> <td>   21.760</td> <td> 0.000</td> <td>    0.044</td> <td>    0.053</td>\n",
       "</tr>\n",
       "<tr>\n",
       "  <th>grade</th>         <td>    0.1059</td> <td>    0.002</td> <td>   52.273</td> <td> 0.000</td> <td>    0.102</td> <td>    0.110</td>\n",
       "</tr>\n",
       "<tr>\n",
       "  <th>age_house</th>     <td>    0.0018</td> <td>    0.000</td> <td>   14.709</td> <td> 0.000</td> <td>    0.002</td> <td>    0.002</td>\n",
       "</tr>\n",
       "<tr>\n",
       "  <th>renovated</th>     <td>    2.3141</td> <td>    0.240</td> <td>    9.658</td> <td> 0.000</td> <td>    1.844</td> <td>    2.784</td>\n",
       "</tr>\n",
       "<tr>\n",
       "  <th>lat</th>           <td>    0.4839</td> <td>    0.074</td> <td>    6.572</td> <td> 0.000</td> <td>    0.340</td> <td>    0.628</td>\n",
       "</tr>\n",
       "<tr>\n",
       "  <th>long</th>          <td>   -0.2621</td> <td>    0.053</td> <td>   -4.924</td> <td> 0.000</td> <td>   -0.366</td> <td>   -0.158</td>\n",
       "</tr>\n",
       "<tr>\n",
       "  <th>waterfront</th>    <td>    0.4880</td> <td>    0.017</td> <td>   28.521</td> <td> 0.000</td> <td>    0.454</td> <td>    0.522</td>\n",
       "</tr>\n",
       "<tr>\n",
       "  <th>floors</th>        <td>    0.0013</td> <td>    0.003</td> <td>    0.394</td> <td> 0.694</td> <td>   -0.005</td> <td>    0.008</td>\n",
       "</tr>\n",
       "<tr>\n",
       "  <th>sqft_living15</th> <td> 8.962e-05</td> <td>  3.3e-06</td> <td>   27.194</td> <td> 0.000</td> <td> 8.32e-05</td> <td> 9.61e-05</td>\n",
       "</tr>\n",
       "<tr>\n",
       "  <th>sqft_lot15</th>    <td> 8.285e-07</td> <td> 5.35e-08</td> <td>   15.475</td> <td> 0.000</td> <td> 7.24e-07</td> <td> 9.33e-07</td>\n",
       "</tr>\n",
       "<tr>\n",
       "  <th>zip_98002</th>     <td>   -0.0004</td> <td>    0.017</td> <td>   -0.026</td> <td> 0.979</td> <td>   -0.033</td> <td>    0.032</td>\n",
       "</tr>\n",
       "<tr>\n",
       "  <th>zip_98003</th>     <td>   -0.0087</td> <td>    0.015</td> <td>   -0.579</td> <td> 0.563</td> <td>   -0.038</td> <td>    0.021</td>\n",
       "</tr>\n",
       "<tr>\n",
       "  <th>zip_98004</th>     <td>    0.9682</td> <td>    0.027</td> <td>   35.485</td> <td> 0.000</td> <td>    0.915</td> <td>    1.022</td>\n",
       "</tr>\n",
       "<tr>\n",
       "  <th>zip_98005</th>     <td>    0.5872</td> <td>    0.029</td> <td>   20.149</td> <td> 0.000</td> <td>    0.530</td> <td>    0.644</td>\n",
       "</tr>\n",
       "<tr>\n",
       "  <th>zip_98006</th>     <td>    0.5163</td> <td>    0.024</td> <td>   21.628</td> <td> 0.000</td> <td>    0.469</td> <td>    0.563</td>\n",
       "</tr>\n",
       "<tr>\n",
       "  <th>zip_98007</th>     <td>    0.5107</td> <td>    0.030</td> <td>   16.966</td> <td> 0.000</td> <td>    0.452</td> <td>    0.570</td>\n",
       "</tr>\n",
       "<tr>\n",
       "  <th>zip_98008</th>     <td>    0.5177</td> <td>    0.029</td> <td>   18.085</td> <td> 0.000</td> <td>    0.462</td> <td>    0.574</td>\n",
       "</tr>\n",
       "<tr>\n",
       "  <th>zip_98010</th>     <td>    0.3169</td> <td>    0.026</td> <td>   12.349</td> <td> 0.000</td> <td>    0.267</td> <td>    0.367</td>\n",
       "</tr>\n",
       "<tr>\n",
       "  <th>zip_98011</th>     <td>    0.2309</td> <td>    0.037</td> <td>    6.208</td> <td> 0.000</td> <td>    0.158</td> <td>    0.304</td>\n",
       "</tr>\n",
       "<tr>\n",
       "  <th>zip_98014</th>     <td>    0.2612</td> <td>    0.041</td> <td>    6.397</td> <td> 0.000</td> <td>    0.181</td> <td>    0.341</td>\n",
       "</tr>\n",
       "<tr>\n",
       "  <th>zip_98019</th>     <td>    0.1989</td> <td>    0.040</td> <td>    4.929</td> <td> 0.000</td> <td>    0.120</td> <td>    0.278</td>\n",
       "</tr>\n",
       "<tr>\n",
       "  <th>zip_98022</th>     <td>    0.1749</td> <td>    0.022</td> <td>    7.830</td> <td> 0.000</td> <td>    0.131</td> <td>    0.219</td>\n",
       "</tr>\n",
       "<tr>\n",
       "  <th>zip_98023</th>     <td>   -0.0709</td> <td>    0.014</td> <td>   -5.117</td> <td> 0.000</td> <td>   -0.098</td> <td>   -0.044</td>\n",
       "</tr>\n",
       "<tr>\n",
       "  <th>zip_98024</th>     <td>    0.4170</td> <td>    0.036</td> <td>   11.581</td> <td> 0.000</td> <td>    0.346</td> <td>    0.488</td>\n",
       "</tr>\n",
       "<tr>\n",
       "  <th>zip_98027</th>     <td>    0.4483</td> <td>    0.025</td> <td>   18.270</td> <td> 0.000</td> <td>    0.400</td> <td>    0.496</td>\n",
       "</tr>\n",
       "<tr>\n",
       "  <th>zip_98028</th>     <td>    0.1899</td> <td>    0.036</td> <td>    5.256</td> <td> 0.000</td> <td>    0.119</td> <td>    0.261</td>\n",
       "</tr>\n",
       "<tr>\n",
       "  <th>zip_98029</th>     <td>    0.5331</td> <td>    0.028</td> <td>   19.006</td> <td> 0.000</td> <td>    0.478</td> <td>    0.588</td>\n",
       "</tr>\n",
       "<tr>\n",
       "  <th>zip_98030</th>     <td>    0.0372</td> <td>    0.017</td> <td>    2.245</td> <td> 0.025</td> <td>    0.005</td> <td>    0.070</td>\n",
       "</tr>\n",
       "<tr>\n",
       "  <th>zip_98031</th>     <td>    0.0418</td> <td>    0.017</td> <td>    2.421</td> <td> 0.015</td> <td>    0.008</td> <td>    0.076</td>\n",
       "</tr>\n",
       "<tr>\n",
       "  <th>zip_98032</th>     <td>   -0.0740</td> <td>    0.020</td> <td>   -3.710</td> <td> 0.000</td> <td>   -0.113</td> <td>   -0.035</td>\n",
       "</tr>\n",
       "<tr>\n",
       "  <th>zip_98033</th>     <td>    0.6136</td> <td>    0.031</td> <td>   19.791</td> <td> 0.000</td> <td>    0.553</td> <td>    0.674</td>\n",
       "</tr>\n",
       "<tr>\n",
       "  <th>zip_98034</th>     <td>    0.3464</td> <td>    0.033</td> <td>   10.422</td> <td> 0.000</td> <td>    0.281</td> <td>    0.412</td>\n",
       "</tr>\n",
       "<tr>\n",
       "  <th>zip_98038</th>     <td>    0.2034</td> <td>    0.019</td> <td>   10.921</td> <td> 0.000</td> <td>    0.167</td> <td>    0.240</td>\n",
       "</tr>\n",
       "<tr>\n",
       "  <th>zip_98039</th>     <td>    1.1439</td> <td>    0.037</td> <td>   31.012</td> <td> 0.000</td> <td>    1.072</td> <td>    1.216</td>\n",
       "</tr>\n",
       "<tr>\n",
       "  <th>zip_98040</th>     <td>    0.7357</td> <td>    0.024</td> <td>   30.454</td> <td> 0.000</td> <td>    0.688</td> <td>    0.783</td>\n",
       "</tr>\n",
       "<tr>\n",
       "  <th>zip_98042</th>     <td>    0.0777</td> <td>    0.016</td> <td>    4.906</td> <td> 0.000</td> <td>    0.047</td> <td>    0.109</td>\n",
       "</tr>\n",
       "<tr>\n",
       "  <th>zip_98045</th>     <td>    0.3933</td> <td>    0.034</td> <td>   11.429</td> <td> 0.000</td> <td>    0.326</td> <td>    0.461</td>\n",
       "</tr>\n",
       "<tr>\n",
       "  <th>zip_98052</th>     <td>    0.4742</td> <td>    0.032</td> <td>   14.978</td> <td> 0.000</td> <td>    0.412</td> <td>    0.536</td>\n",
       "</tr>\n",
       "<tr>\n",
       "  <th>zip_98053</th>     <td>    0.4794</td> <td>    0.034</td> <td>   14.129</td> <td> 0.000</td> <td>    0.413</td> <td>    0.546</td>\n",
       "</tr>\n",
       "<tr>\n",
       "  <th>zip_98055</th>     <td>    0.0770</td> <td>    0.019</td> <td>    4.010</td> <td> 0.000</td> <td>    0.039</td> <td>    0.115</td>\n",
       "</tr>\n",
       "<tr>\n",
       "  <th>zip_98056</th>     <td>    0.2386</td> <td>    0.021</td> <td>   11.463</td> <td> 0.000</td> <td>    0.198</td> <td>    0.279</td>\n",
       "</tr>\n",
       "<tr>\n",
       "  <th>zip_98058</th>     <td>    0.1210</td> <td>    0.018</td> <td>    6.669</td> <td> 0.000</td> <td>    0.085</td> <td>    0.157</td>\n",
       "</tr>\n",
       "<tr>\n",
       "  <th>zip_98059</th>     <td>    0.2791</td> <td>    0.020</td> <td>   13.654</td> <td> 0.000</td> <td>    0.239</td> <td>    0.319</td>\n",
       "</tr>\n",
       "<tr>\n",
       "  <th>zip_98065</th>     <td>    0.4005</td> <td>    0.032</td> <td>   12.630</td> <td> 0.000</td> <td>    0.338</td> <td>    0.463</td>\n",
       "</tr>\n",
       "<tr>\n",
       "  <th>zip_98070</th>     <td>    0.2224</td> <td>    0.024</td> <td>    9.243</td> <td> 0.000</td> <td>    0.175</td> <td>    0.270</td>\n",
       "</tr>\n",
       "<tr>\n",
       "  <th>zip_98072</th>     <td>    0.2990</td> <td>    0.037</td> <td>    8.076</td> <td> 0.000</td> <td>    0.226</td> <td>    0.372</td>\n",
       "</tr>\n",
       "<tr>\n",
       "  <th>zip_98074</th>     <td>    0.4447</td> <td>    0.030</td> <td>   14.824</td> <td> 0.000</td> <td>    0.386</td> <td>    0.504</td>\n",
       "</tr>\n",
       "<tr>\n",
       "  <th>zip_98075</th>     <td>    0.4764</td> <td>    0.029</td> <td>   16.489</td> <td> 0.000</td> <td>    0.420</td> <td>    0.533</td>\n",
       "</tr>\n",
       "<tr>\n",
       "  <th>zip_98077</th>     <td>    0.2870</td> <td>    0.039</td> <td>    7.450</td> <td> 0.000</td> <td>    0.212</td> <td>    0.363</td>\n",
       "</tr>\n",
       "<tr>\n",
       "  <th>zip_98092</th>     <td>    0.0443</td> <td>    0.015</td> <td>    2.941</td> <td> 0.003</td> <td>    0.015</td> <td>    0.074</td>\n",
       "</tr>\n",
       "<tr>\n",
       "  <th>zip_98102</th>     <td>    0.7404</td> <td>    0.032</td> <td>   23.117</td> <td> 0.000</td> <td>    0.678</td> <td>    0.803</td>\n",
       "</tr>\n",
       "<tr>\n",
       "  <th>zip_98103</th>     <td>    0.5879</td> <td>    0.030</td> <td>   19.628</td> <td> 0.000</td> <td>    0.529</td> <td>    0.647</td>\n",
       "</tr>\n",
       "<tr>\n",
       "  <th>zip_98105</th>     <td>    0.7193</td> <td>    0.031</td> <td>   23.406</td> <td> 0.000</td> <td>    0.659</td> <td>    0.780</td>\n",
       "</tr>\n",
       "<tr>\n",
       "  <th>zip_98106</th>     <td>    0.2002</td> <td>    0.022</td> <td>    9.016</td> <td> 0.000</td> <td>    0.157</td> <td>    0.244</td>\n",
       "</tr>\n",
       "<tr>\n",
       "  <th>zip_98107</th>     <td>    0.6038</td> <td>    0.031</td> <td>   19.560</td> <td> 0.000</td> <td>    0.543</td> <td>    0.664</td>\n",
       "</tr>\n",
       "<tr>\n",
       "  <th>zip_98108</th>     <td>    0.2073</td> <td>    0.024</td> <td>    8.471</td> <td> 0.000</td> <td>    0.159</td> <td>    0.255</td>\n",
       "</tr>\n",
       "<tr>\n",
       "  <th>zip_98109</th>     <td>    0.7557</td> <td>    0.032</td> <td>   23.707</td> <td> 0.000</td> <td>    0.693</td> <td>    0.818</td>\n",
       "</tr>\n",
       "<tr>\n",
       "  <th>zip_98112</th>     <td>    0.8297</td> <td>    0.028</td> <td>   29.402</td> <td> 0.000</td> <td>    0.774</td> <td>    0.885</td>\n",
       "</tr>\n",
       "<tr>\n",
       "  <th>zip_98115</th>     <td>    0.5893</td> <td>    0.030</td> <td>   19.353</td> <td> 0.000</td> <td>    0.530</td> <td>    0.649</td>\n",
       "</tr>\n",
       "<tr>\n",
       "  <th>zip_98116</th>     <td>    0.5628</td> <td>    0.025</td> <td>   22.691</td> <td> 0.000</td> <td>    0.514</td> <td>    0.611</td>\n",
       "</tr>\n",
       "<tr>\n",
       "  <th>zip_98117</th>     <td>    0.5658</td> <td>    0.031</td> <td>   18.345</td> <td> 0.000</td> <td>    0.505</td> <td>    0.626</td>\n",
       "</tr>\n",
       "<tr>\n",
       "  <th>zip_98118</th>     <td>    0.3222</td> <td>    0.022</td> <td>   14.893</td> <td> 0.000</td> <td>    0.280</td> <td>    0.365</td>\n",
       "</tr>\n",
       "<tr>\n",
       "  <th>zip_98119</th>     <td>    0.7464</td> <td>    0.030</td> <td>   24.782</td> <td> 0.000</td> <td>    0.687</td> <td>    0.805</td>\n",
       "</tr>\n",
       "<tr>\n",
       "  <th>zip_98122</th>     <td>    0.6082</td> <td>    0.027</td> <td>   22.699</td> <td> 0.000</td> <td>    0.556</td> <td>    0.661</td>\n",
       "</tr>\n",
       "<tr>\n",
       "  <th>zip_98125</th>     <td>    0.3401</td> <td>    0.033</td> <td>   10.336</td> <td> 0.000</td> <td>    0.276</td> <td>    0.405</td>\n",
       "</tr>\n",
       "<tr>\n",
       "  <th>zip_98126</th>     <td>    0.3894</td> <td>    0.023</td> <td>   17.085</td> <td> 0.000</td> <td>    0.345</td> <td>    0.434</td>\n",
       "</tr>\n",
       "<tr>\n",
       "  <th>zip_98133</th>     <td>    0.2137</td> <td>    0.034</td> <td>    6.285</td> <td> 0.000</td> <td>    0.147</td> <td>    0.280</td>\n",
       "</tr>\n",
       "<tr>\n",
       "  <th>zip_98136</th>     <td>    0.5100</td> <td>    0.023</td> <td>   21.820</td> <td> 0.000</td> <td>    0.464</td> <td>    0.556</td>\n",
       "</tr>\n",
       "<tr>\n",
       "  <th>zip_98144</th>     <td>    0.4867</td> <td>    0.025</td> <td>   19.544</td> <td> 0.000</td> <td>    0.438</td> <td>    0.535</td>\n",
       "</tr>\n",
       "<tr>\n",
       "  <th>zip_98146</th>     <td>    0.1611</td> <td>    0.021</td> <td>    7.713</td> <td> 0.000</td> <td>    0.120</td> <td>    0.202</td>\n",
       "</tr>\n",
       "<tr>\n",
       "  <th>zip_98148</th>     <td>    0.0818</td> <td>    0.029</td> <td>    2.867</td> <td> 0.004</td> <td>    0.026</td> <td>    0.138</td>\n",
       "</tr>\n",
       "<tr>\n",
       "  <th>zip_98155</th>     <td>    0.1919</td> <td>    0.035</td> <td>    5.430</td> <td> 0.000</td> <td>    0.123</td> <td>    0.261</td>\n",
       "</tr>\n",
       "<tr>\n",
       "  <th>zip_98166</th>     <td>    0.2026</td> <td>    0.019</td> <td>   10.611</td> <td> 0.000</td> <td>    0.165</td> <td>    0.240</td>\n",
       "</tr>\n",
       "<tr>\n",
       "  <th>zip_98168</th>     <td>   -0.0218</td> <td>    0.020</td> <td>   -1.082</td> <td> 0.279</td> <td>   -0.061</td> <td>    0.018</td>\n",
       "</tr>\n",
       "<tr>\n",
       "  <th>zip_98177</th>     <td>    0.3305</td> <td>    0.035</td> <td>    9.320</td> <td> 0.000</td> <td>    0.261</td> <td>    0.400</td>\n",
       "</tr>\n",
       "<tr>\n",
       "  <th>zip_98178</th>     <td>    0.0394</td> <td>    0.021</td> <td>    1.892</td> <td> 0.058</td> <td>   -0.001</td> <td>    0.080</td>\n",
       "</tr>\n",
       "<tr>\n",
       "  <th>zip_98188</th>     <td>    0.0235</td> <td>    0.021</td> <td>    1.093</td> <td> 0.274</td> <td>   -0.019</td> <td>    0.066</td>\n",
       "</tr>\n",
       "<tr>\n",
       "  <th>zip_98198</th>     <td>    0.0035</td> <td>    0.016</td> <td>    0.216</td> <td> 0.829</td> <td>   -0.028</td> <td>    0.035</td>\n",
       "</tr>\n",
       "<tr>\n",
       "  <th>zip_98199</th>     <td>    0.6176</td> <td>    0.029</td> <td>   21.111</td> <td> 0.000</td> <td>    0.560</td> <td>    0.675</td>\n",
       "</tr>\n",
       "</table>\n",
       "<table class=\"simpletable\">\n",
       "<tr>\n",
       "  <th>Omnibus:</th>       <td>1301.391</td> <th>  Durbin-Watson:     </th> <td>   2.003</td>\n",
       "</tr>\n",
       "<tr>\n",
       "  <th>Prob(Omnibus):</th>  <td> 0.000</td>  <th>  Jarque-Bera (JB):  </th> <td>5882.006</td>\n",
       "</tr>\n",
       "<tr>\n",
       "  <th>Skew:</th>           <td>-0.065</td>  <th>  Prob(JB):          </th> <td>    0.00</td>\n",
       "</tr>\n",
       "<tr>\n",
       "  <th>Kurtosis:</th>       <td> 5.581</td>  <th>  Cond. No.          </th> <td>2.88e+09</td>\n",
       "</tr>\n",
       "</table><br/><br/>Warnings:<br/>[1] Standard Errors assume that the covariance matrix of the errors is correctly specified.<br/>[2] The condition number is large, 2.88e+09. This might indicate that there are<br/>strong multicollinearity or other numerical problems."
      ],
      "text/plain": [
       "<class 'statsmodels.iolib.summary.Summary'>\n",
       "\"\"\"\n",
       "                            OLS Regression Results                            \n",
       "==============================================================================\n",
       "Dep. Variable:                  price   R-squared:                       0.877\n",
       "Model:                            OLS   Adj. R-squared:                  0.877\n",
       "Method:                 Least Squares   F-statistic:                     1837.\n",
       "Date:                Thu, 26 Dec 2019   Prob (F-statistic):               0.00\n",
       "Time:                        18:46:46   Log-Likelihood:                 5737.9\n",
       "No. Observations:               21143   AIC:                        -1.131e+04\n",
       "Df Residuals:                   21060   BIC:                        -1.065e+04\n",
       "Df Model:                          82                                         \n",
       "Covariance Type:            nonrobust                                         \n",
       "=================================================================================\n",
       "                    coef    std err          t      P>|t|      [0.025      0.975]\n",
       "---------------------------------------------------------------------------------\n",
       "Intercept      1136.5959    121.933      9.321      0.000     897.598    1375.594\n",
       "sqft_living       0.4145      0.007     62.469      0.000       0.401       0.427\n",
       "rooms             0.0009      0.001      0.641      0.522      -0.002       0.004\n",
       "view              0.0605      0.002     30.396      0.000       0.057       0.064\n",
       "condition         0.0485      0.002     21.760      0.000       0.044       0.053\n",
       "grade             0.1059      0.002     52.273      0.000       0.102       0.110\n",
       "age_house         0.0018      0.000     14.709      0.000       0.002       0.002\n",
       "renovated         2.3141      0.240      9.658      0.000       1.844       2.784\n",
       "lat               0.4839      0.074      6.572      0.000       0.340       0.628\n",
       "long             -0.2621      0.053     -4.924      0.000      -0.366      -0.158\n",
       "waterfront        0.4880      0.017     28.521      0.000       0.454       0.522\n",
       "floors            0.0013      0.003      0.394      0.694      -0.005       0.008\n",
       "sqft_living15  8.962e-05    3.3e-06     27.194      0.000    8.32e-05    9.61e-05\n",
       "sqft_lot15     8.285e-07   5.35e-08     15.475      0.000    7.24e-07    9.33e-07\n",
       "zip_98002        -0.0004      0.017     -0.026      0.979      -0.033       0.032\n",
       "zip_98003        -0.0087      0.015     -0.579      0.563      -0.038       0.021\n",
       "zip_98004         0.9682      0.027     35.485      0.000       0.915       1.022\n",
       "zip_98005         0.5872      0.029     20.149      0.000       0.530       0.644\n",
       "zip_98006         0.5163      0.024     21.628      0.000       0.469       0.563\n",
       "zip_98007         0.5107      0.030     16.966      0.000       0.452       0.570\n",
       "zip_98008         0.5177      0.029     18.085      0.000       0.462       0.574\n",
       "zip_98010         0.3169      0.026     12.349      0.000       0.267       0.367\n",
       "zip_98011         0.2309      0.037      6.208      0.000       0.158       0.304\n",
       "zip_98014         0.2612      0.041      6.397      0.000       0.181       0.341\n",
       "zip_98019         0.1989      0.040      4.929      0.000       0.120       0.278\n",
       "zip_98022         0.1749      0.022      7.830      0.000       0.131       0.219\n",
       "zip_98023        -0.0709      0.014     -5.117      0.000      -0.098      -0.044\n",
       "zip_98024         0.4170      0.036     11.581      0.000       0.346       0.488\n",
       "zip_98027         0.4483      0.025     18.270      0.000       0.400       0.496\n",
       "zip_98028         0.1899      0.036      5.256      0.000       0.119       0.261\n",
       "zip_98029         0.5331      0.028     19.006      0.000       0.478       0.588\n",
       "zip_98030         0.0372      0.017      2.245      0.025       0.005       0.070\n",
       "zip_98031         0.0418      0.017      2.421      0.015       0.008       0.076\n",
       "zip_98032        -0.0740      0.020     -3.710      0.000      -0.113      -0.035\n",
       "zip_98033         0.6136      0.031     19.791      0.000       0.553       0.674\n",
       "zip_98034         0.3464      0.033     10.422      0.000       0.281       0.412\n",
       "zip_98038         0.2034      0.019     10.921      0.000       0.167       0.240\n",
       "zip_98039         1.1439      0.037     31.012      0.000       1.072       1.216\n",
       "zip_98040         0.7357      0.024     30.454      0.000       0.688       0.783\n",
       "zip_98042         0.0777      0.016      4.906      0.000       0.047       0.109\n",
       "zip_98045         0.3933      0.034     11.429      0.000       0.326       0.461\n",
       "zip_98052         0.4742      0.032     14.978      0.000       0.412       0.536\n",
       "zip_98053         0.4794      0.034     14.129      0.000       0.413       0.546\n",
       "zip_98055         0.0770      0.019      4.010      0.000       0.039       0.115\n",
       "zip_98056         0.2386      0.021     11.463      0.000       0.198       0.279\n",
       "zip_98058         0.1210      0.018      6.669      0.000       0.085       0.157\n",
       "zip_98059         0.2791      0.020     13.654      0.000       0.239       0.319\n",
       "zip_98065         0.4005      0.032     12.630      0.000       0.338       0.463\n",
       "zip_98070         0.2224      0.024      9.243      0.000       0.175       0.270\n",
       "zip_98072         0.2990      0.037      8.076      0.000       0.226       0.372\n",
       "zip_98074         0.4447      0.030     14.824      0.000       0.386       0.504\n",
       "zip_98075         0.4764      0.029     16.489      0.000       0.420       0.533\n",
       "zip_98077         0.2870      0.039      7.450      0.000       0.212       0.363\n",
       "zip_98092         0.0443      0.015      2.941      0.003       0.015       0.074\n",
       "zip_98102         0.7404      0.032     23.117      0.000       0.678       0.803\n",
       "zip_98103         0.5879      0.030     19.628      0.000       0.529       0.647\n",
       "zip_98105         0.7193      0.031     23.406      0.000       0.659       0.780\n",
       "zip_98106         0.2002      0.022      9.016      0.000       0.157       0.244\n",
       "zip_98107         0.6038      0.031     19.560      0.000       0.543       0.664\n",
       "zip_98108         0.2073      0.024      8.471      0.000       0.159       0.255\n",
       "zip_98109         0.7557      0.032     23.707      0.000       0.693       0.818\n",
       "zip_98112         0.8297      0.028     29.402      0.000       0.774       0.885\n",
       "zip_98115         0.5893      0.030     19.353      0.000       0.530       0.649\n",
       "zip_98116         0.5628      0.025     22.691      0.000       0.514       0.611\n",
       "zip_98117         0.5658      0.031     18.345      0.000       0.505       0.626\n",
       "zip_98118         0.3222      0.022     14.893      0.000       0.280       0.365\n",
       "zip_98119         0.7464      0.030     24.782      0.000       0.687       0.805\n",
       "zip_98122         0.6082      0.027     22.699      0.000       0.556       0.661\n",
       "zip_98125         0.3401      0.033     10.336      0.000       0.276       0.405\n",
       "zip_98126         0.3894      0.023     17.085      0.000       0.345       0.434\n",
       "zip_98133         0.2137      0.034      6.285      0.000       0.147       0.280\n",
       "zip_98136         0.5100      0.023     21.820      0.000       0.464       0.556\n",
       "zip_98144         0.4867      0.025     19.544      0.000       0.438       0.535\n",
       "zip_98146         0.1611      0.021      7.713      0.000       0.120       0.202\n",
       "zip_98148         0.0818      0.029      2.867      0.004       0.026       0.138\n",
       "zip_98155         0.1919      0.035      5.430      0.000       0.123       0.261\n",
       "zip_98166         0.2026      0.019     10.611      0.000       0.165       0.240\n",
       "zip_98168        -0.0218      0.020     -1.082      0.279      -0.061       0.018\n",
       "zip_98177         0.3305      0.035      9.320      0.000       0.261       0.400\n",
       "zip_98178         0.0394      0.021      1.892      0.058      -0.001       0.080\n",
       "zip_98188         0.0235      0.021      1.093      0.274      -0.019       0.066\n",
       "zip_98198         0.0035      0.016      0.216      0.829      -0.028       0.035\n",
       "zip_98199         0.6176      0.029     21.111      0.000       0.560       0.675\n",
       "==============================================================================\n",
       "Omnibus:                     1301.391   Durbin-Watson:                   2.003\n",
       "Prob(Omnibus):                  0.000   Jarque-Bera (JB):             5882.006\n",
       "Skew:                          -0.065   Prob(JB):                         0.00\n",
       "Kurtosis:                       5.581   Cond. No.                     2.88e+09\n",
       "==============================================================================\n",
       "\n",
       "Warnings:\n",
       "[1] Standard Errors assume that the covariance matrix of the errors is correctly specified.\n",
       "[2] The condition number is large, 2.88e+09. This might indicate that there are\n",
       "strong multicollinearity or other numerical problems.\n",
       "\"\"\""
      ]
     },
     "execution_count": 59,
     "metadata": {},
     "output_type": "execute_result"
    }
   ],
   "source": [
    "second = ols(formula= formula, data = data_ols, missing = 'drop').fit()\n",
    "second.summary()"
   ]
  },
  {
   "cell_type": "code",
   "execution_count": 71,
   "metadata": {},
   "outputs": [
    {
     "data": {
      "image/png": "[encoded data removed]",
      "text/plain": [
       "<Figure size 432x288 with 1 Axes>"
      ]
     },
     "metadata": {
      "needs_background": "light"
     },
     "output_type": "display_data"
    }
   ],
   "source": [
    "res = second.resid\n",
    "fig=sm.qqplot(res, line='45',fit=True)\n",
    "plt.title('Second Model QQplot')\n",
    "plt.show()"
   ]
  },
  {
   "cell_type": "markdown",
   "metadata": {},
   "source": [
    "While the R-squared score went up markedly, some of the variables have p-values that are not statistically significant. The combination of columns to form the room column will be eliminated in the next model and replaced with the bedrooms column. The decision to not include bathrooms is because it is highly correlated with the sqft_living item."
   ]
  },
  {
   "cell_type": "markdown",
   "metadata": {},
   "source": [
    "## Final Model"
   ]
  },
  {
   "cell_type": "code",
   "execution_count": 61,
   "metadata": {},
   "outputs": [],
   "source": [
    "data_fin = pd.DataFrame([])\n",
    "#data_fin['sqft_lot'] = data['scaled_sqftlot']\n",
    "data_fin['sqft_living'] = data['scaled_sqftliving']\n",
    "#data_fin['sqft_above'] = data['scaled_sqftabove']\n",
    "data_fin['bathrooms'] = data['bathrooms']\n",
    "data_fin['view'] = data['view']\n",
    "data_fin['condition'] = data['condition']\n",
    "data_fin['age_house'] = data['year_sold'] - data['yr_built']\n",
    "data_fin['renovated'] = data['scaled_yr_renovated']\n",
    "data_fin['lat'] = data['lat']\n",
    "data_fin['long'] = data['long']\n",
    "data_fin['waterfront'] = data['waterfront']\n",
    "data_fin['sqft_living15'] = data['sqft_living15']\n",
    "data_fin['sqft_lot15'] = data['sqft_lot15']\n",
    "price = data['log_price']\n",
    "data_ols3 = pd.concat([price, data_fin, zip_dummies, grade_dummies], axis=1)"
   ]
  },
  {
   "cell_type": "code",
   "execution_count": 62,
   "metadata": {},
   "outputs": [],
   "source": [
    "outcome = 'price'\n",
    "predictors = data_ols.drop('log_price', axis=1)\n",
    "pred_sum = \"+\".join(predictors.columns)\n",
    "formula = outcome + \"~\" + pred_sum\n"
   ]
  },
  {
   "cell_type": "code",
   "execution_count": 63,
   "metadata": {
    "scrolled": true
   },
   "outputs": [
    {
     "data": {
      "text/html": [
       "<table class=\"simpletable\">\n",
       "<caption>OLS Regression Results</caption>\n",
       "<tr>\n",
       "  <th>Dep. Variable:</th>          <td>price</td>      <th>  R-squared:         </th>  <td>   0.877</td> \n",
       "</tr>\n",
       "<tr>\n",
       "  <th>Model:</th>                   <td>OLS</td>       <th>  Adj. R-squared:    </th>  <td>   0.877</td> \n",
       "</tr>\n",
       "<tr>\n",
       "  <th>Method:</th>             <td>Least Squares</td>  <th>  F-statistic:       </th>  <td>   1837.</td> \n",
       "</tr>\n",
       "<tr>\n",
       "  <th>Date:</th>             <td>Thu, 26 Dec 2019</td> <th>  Prob (F-statistic):</th>   <td>  0.00</td>  \n",
       "</tr>\n",
       "<tr>\n",
       "  <th>Time:</th>                 <td>18:46:48</td>     <th>  Log-Likelihood:    </th>  <td>  5737.9</td> \n",
       "</tr>\n",
       "<tr>\n",
       "  <th>No. Observations:</th>      <td> 21143</td>      <th>  AIC:               </th> <td>-1.131e+04</td>\n",
       "</tr>\n",
       "<tr>\n",
       "  <th>Df Residuals:</th>          <td> 21060</td>      <th>  BIC:               </th> <td>-1.065e+04</td>\n",
       "</tr>\n",
       "<tr>\n",
       "  <th>Df Model:</th>              <td>    82</td>      <th>                     </th>      <td> </td>    \n",
       "</tr>\n",
       "<tr>\n",
       "  <th>Covariance Type:</th>      <td>nonrobust</td>    <th>                     </th>      <td> </td>    \n",
       "</tr>\n",
       "</table>\n",
       "<table class=\"simpletable\">\n",
       "<tr>\n",
       "        <td></td>           <th>coef</th>     <th>std err</th>      <th>t</th>      <th>P>|t|</th>  <th>[0.025</th>    <th>0.975]</th>  \n",
       "</tr>\n",
       "<tr>\n",
       "  <th>Intercept</th>     <td> 1136.5959</td> <td>  121.933</td> <td>    9.321</td> <td> 0.000</td> <td>  897.598</td> <td> 1375.594</td>\n",
       "</tr>\n",
       "<tr>\n",
       "  <th>sqft_living</th>   <td>    0.4145</td> <td>    0.007</td> <td>   62.469</td> <td> 0.000</td> <td>    0.401</td> <td>    0.427</td>\n",
       "</tr>\n",
       "<tr>\n",
       "  <th>rooms</th>         <td>    0.0009</td> <td>    0.001</td> <td>    0.641</td> <td> 0.522</td> <td>   -0.002</td> <td>    0.004</td>\n",
       "</tr>\n",
       "<tr>\n",
       "  <th>view</th>          <td>    0.0605</td> <td>    0.002</td> <td>   30.396</td> <td> 0.000</td> <td>    0.057</td> <td>    0.064</td>\n",
       "</tr>\n",
       "<tr>\n",
       "  <th>condition</th>     <td>    0.0485</td> <td>    0.002</td> <td>   21.760</td> <td> 0.000</td> <td>    0.044</td> <td>    0.053</td>\n",
       "</tr>\n",
       "<tr>\n",
       "  <th>grade</th>         <td>    0.1059</td> <td>    0.002</td> <td>   52.273</td> <td> 0.000</td> <td>    0.102</td> <td>    0.110</td>\n",
       "</tr>\n",
       "<tr>\n",
       "  <th>age_house</th>     <td>    0.0018</td> <td>    0.000</td> <td>   14.709</td> <td> 0.000</td> <td>    0.002</td> <td>    0.002</td>\n",
       "</tr>\n",
       "<tr>\n",
       "  <th>renovated</th>     <td>    2.3141</td> <td>    0.240</td> <td>    9.658</td> <td> 0.000</td> <td>    1.844</td> <td>    2.784</td>\n",
       "</tr>\n",
       "<tr>\n",
       "  <th>lat</th>           <td>    0.4839</td> <td>    0.074</td> <td>    6.572</td> <td> 0.000</td> <td>    0.340</td> <td>    0.628</td>\n",
       "</tr>\n",
       "<tr>\n",
       "  <th>long</th>          <td>   -0.2621</td> <td>    0.053</td> <td>   -4.924</td> <td> 0.000</td> <td>   -0.366</td> <td>   -0.158</td>\n",
       "</tr>\n",
       "<tr>\n",
       "  <th>waterfront</th>    <td>    0.4880</td> <td>    0.017</td> <td>   28.521</td> <td> 0.000</td> <td>    0.454</td> <td>    0.522</td>\n",
       "</tr>\n",
       "<tr>\n",
       "  <th>floors</th>        <td>    0.0013</td> <td>    0.003</td> <td>    0.394</td> <td> 0.694</td> <td>   -0.005</td> <td>    0.008</td>\n",
       "</tr>\n",
       "<tr>\n",
       "  <th>sqft_living15</th> <td> 8.962e-05</td> <td>  3.3e-06</td> <td>   27.194</td> <td> 0.000</td> <td> 8.32e-05</td> <td> 9.61e-05</td>\n",
       "</tr>\n",
       "<tr>\n",
       "  <th>sqft_lot15</th>    <td> 8.285e-07</td> <td> 5.35e-08</td> <td>   15.475</td> <td> 0.000</td> <td> 7.24e-07</td> <td> 9.33e-07</td>\n",
       "</tr>\n",
       "<tr>\n",
       "  <th>zip_98002</th>     <td>   -0.0004</td> <td>    0.017</td> <td>   -0.026</td> <td> 0.979</td> <td>   -0.033</td> <td>    0.032</td>\n",
       "</tr>\n",
       "<tr>\n",
       "  <th>zip_98003</th>     <td>   -0.0087</td> <td>    0.015</td> <td>   -0.579</td> <td> 0.563</td> <td>   -0.038</td> <td>    0.021</td>\n",
       "</tr>\n",
       "<tr>\n",
       "  <th>zip_98004</th>     <td>    0.9682</td> <td>    0.027</td> <td>   35.485</td> <td> 0.000</td> <td>    0.915</td> <td>    1.022</td>\n",
       "</tr>\n",
       "<tr>\n",
       "  <th>zip_98005</th>     <td>    0.5872</td> <td>    0.029</td> <td>   20.149</td> <td> 0.000</td> <td>    0.530</td> <td>    0.644</td>\n",
       "</tr>\n",
       "<tr>\n",
       "  <th>zip_98006</th>     <td>    0.5163</td> <td>    0.024</td> <td>   21.628</td> <td> 0.000</td> <td>    0.469</td> <td>    0.563</td>\n",
       "</tr>\n",
       "<tr>\n",
       "  <th>zip_98007</th>     <td>    0.5107</td> <td>    0.030</td> <td>   16.966</td> <td> 0.000</td> <td>    0.452</td> <td>    0.570</td>\n",
       "</tr>\n",
       "<tr>\n",
       "  <th>zip_98008</th>     <td>    0.5177</td> <td>    0.029</td> <td>   18.085</td> <td> 0.000</td> <td>    0.462</td> <td>    0.574</td>\n",
       "</tr>\n",
       "<tr>\n",
       "  <th>zip_98010</th>     <td>    0.3169</td> <td>    0.026</td> <td>   12.349</td> <td> 0.000</td> <td>    0.267</td> <td>    0.367</td>\n",
       "</tr>\n",
       "<tr>\n",
       "  <th>zip_98011</th>     <td>    0.2309</td> <td>    0.037</td> <td>    6.208</td> <td> 0.000</td> <td>    0.158</td> <td>    0.304</td>\n",
       "</tr>\n",
       "<tr>\n",
       "  <th>zip_98014</th>     <td>    0.2612</td> <td>    0.041</td> <td>    6.397</td> <td> 0.000</td> <td>    0.181</td> <td>    0.341</td>\n",
       "</tr>\n",
       "<tr>\n",
       "  <th>zip_98019</th>     <td>    0.1989</td> <td>    0.040</td> <td>    4.929</td> <td> 0.000</td> <td>    0.120</td> <td>    0.278</td>\n",
       "</tr>\n",
       "<tr>\n",
       "  <th>zip_98022</th>     <td>    0.1749</td> <td>    0.022</td> <td>    7.830</td> <td> 0.000</td> <td>    0.131</td> <td>    0.219</td>\n",
       "</tr>\n",
       "<tr>\n",
       "  <th>zip_98023</th>     <td>   -0.0709</td> <td>    0.014</td> <td>   -5.117</td> <td> 0.000</td> <td>   -0.098</td> <td>   -0.044</td>\n",
       "</tr>\n",
       "<tr>\n",
       "  <th>zip_98024</th>     <td>    0.4170</td> <td>    0.036</td> <td>   11.581</td> <td> 0.000</td> <td>    0.346</td> <td>    0.488</td>\n",
       "</tr>\n",
       "<tr>\n",
       "  <th>zip_98027</th>     <td>    0.4483</td> <td>    0.025</td> <td>   18.270</td> <td> 0.000</td> <td>    0.400</td> <td>    0.496</td>\n",
       "</tr>\n",
       "<tr>\n",
       "  <th>zip_98028</th>     <td>    0.1899</td> <td>    0.036</td> <td>    5.256</td> <td> 0.000</td> <td>    0.119</td> <td>    0.261</td>\n",
       "</tr>\n",
       "<tr>\n",
       "  <th>zip_98029</th>     <td>    0.5331</td> <td>    0.028</td> <td>   19.006</td> <td> 0.000</td> <td>    0.478</td> <td>    0.588</td>\n",
       "</tr>\n",
       "<tr>\n",
       "  <th>zip_98030</th>     <td>    0.0372</td> <td>    0.017</td> <td>    2.245</td> <td> 0.025</td> <td>    0.005</td> <td>    0.070</td>\n",
       "</tr>\n",
       "<tr>\n",
       "  <th>zip_98031</th>     <td>    0.0418</td> <td>    0.017</td> <td>    2.421</td> <td> 0.015</td> <td>    0.008</td> <td>    0.076</td>\n",
       "</tr>\n",
       "<tr>\n",
       "  <th>zip_98032</th>     <td>   -0.0740</td> <td>    0.020</td> <td>   -3.710</td> <td> 0.000</td> <td>   -0.113</td> <td>   -0.035</td>\n",
       "</tr>\n",
       "<tr>\n",
       "  <th>zip_98033</th>     <td>    0.6136</td> <td>    0.031</td> <td>   19.791</td> <td> 0.000</td> <td>    0.553</td> <td>    0.674</td>\n",
       "</tr>\n",
       "<tr>\n",
       "  <th>zip_98034</th>     <td>    0.3464</td> <td>    0.033</td> <td>   10.422</td> <td> 0.000</td> <td>    0.281</td> <td>    0.412</td>\n",
       "</tr>\n",
       "<tr>\n",
       "  <th>zip_98038</th>     <td>    0.2034</td> <td>    0.019</td> <td>   10.921</td> <td> 0.000</td> <td>    0.167</td> <td>    0.240</td>\n",
       "</tr>\n",
       "<tr>\n",
       "  <th>zip_98039</th>     <td>    1.1439</td> <td>    0.037</td> <td>   31.012</td> <td> 0.000</td> <td>    1.072</td> <td>    1.216</td>\n",
       "</tr>\n",
       "<tr>\n",
       "  <th>zip_98040</th>     <td>    0.7357</td> <td>    0.024</td> <td>   30.454</td> <td> 0.000</td> <td>    0.688</td> <td>    0.783</td>\n",
       "</tr>\n",
       "<tr>\n",
       "  <th>zip_98042</th>     <td>    0.0777</td> <td>    0.016</td> <td>    4.906</td> <td> 0.000</td> <td>    0.047</td> <td>    0.109</td>\n",
       "</tr>\n",
       "<tr>\n",
       "  <th>zip_98045</th>     <td>    0.3933</td> <td>    0.034</td> <td>   11.429</td> <td> 0.000</td> <td>    0.326</td> <td>    0.461</td>\n",
       "</tr>\n",
       "<tr>\n",
       "  <th>zip_98052</th>     <td>    0.4742</td> <td>    0.032</td> <td>   14.978</td> <td> 0.000</td> <td>    0.412</td> <td>    0.536</td>\n",
       "</tr>\n",
       "<tr>\n",
       "  <th>zip_98053</th>     <td>    0.4794</td> <td>    0.034</td> <td>   14.129</td> <td> 0.000</td> <td>    0.413</td> <td>    0.546</td>\n",
       "</tr>\n",
       "<tr>\n",
       "  <th>zip_98055</th>     <td>    0.0770</td> <td>    0.019</td> <td>    4.010</td> <td> 0.000</td> <td>    0.039</td> <td>    0.115</td>\n",
       "</tr>\n",
       "<tr>\n",
       "  <th>zip_98056</th>     <td>    0.2386</td> <td>    0.021</td> <td>   11.463</td> <td> 0.000</td> <td>    0.198</td> <td>    0.279</td>\n",
       "</tr>\n",
       "<tr>\n",
       "  <th>zip_98058</th>     <td>    0.1210</td> <td>    0.018</td> <td>    6.669</td> <td> 0.000</td> <td>    0.085</td> <td>    0.157</td>\n",
       "</tr>\n",
       "<tr>\n",
       "  <th>zip_98059</th>     <td>    0.2791</td> <td>    0.020</td> <td>   13.654</td> <td> 0.000</td> <td>    0.239</td> <td>    0.319</td>\n",
       "</tr>\n",
       "<tr>\n",
       "  <th>zip_98065</th>     <td>    0.4005</td> <td>    0.032</td> <td>   12.630</td> <td> 0.000</td> <td>    0.338</td> <td>    0.463</td>\n",
       "</tr>\n",
       "<tr>\n",
       "  <th>zip_98070</th>     <td>    0.2224</td> <td>    0.024</td> <td>    9.243</td> <td> 0.000</td> <td>    0.175</td> <td>    0.270</td>\n",
       "</tr>\n",
       "<tr>\n",
       "  <th>zip_98072</th>     <td>    0.2990</td> <td>    0.037</td> <td>    8.076</td> <td> 0.000</td> <td>    0.226</td> <td>    0.372</td>\n",
       "</tr>\n",
       "<tr>\n",
       "  <th>zip_98074</th>     <td>    0.4447</td> <td>    0.030</td> <td>   14.824</td> <td> 0.000</td> <td>    0.386</td> <td>    0.504</td>\n",
       "</tr>\n",
       "<tr>\n",
       "  <th>zip_98075</th>     <td>    0.4764</td> <td>    0.029</td> <td>   16.489</td> <td> 0.000</td> <td>    0.420</td> <td>    0.533</td>\n",
       "</tr>\n",
       "<tr>\n",
       "  <th>zip_98077</th>     <td>    0.2870</td> <td>    0.039</td> <td>    7.450</td> <td> 0.000</td> <td>    0.212</td> <td>    0.363</td>\n",
       "</tr>\n",
       "<tr>\n",
       "  <th>zip_98092</th>     <td>    0.0443</td> <td>    0.015</td> <td>    2.941</td> <td> 0.003</td> <td>    0.015</td> <td>    0.074</td>\n",
       "</tr>\n",
       "<tr>\n",
       "  <th>zip_98102</th>     <td>    0.7404</td> <td>    0.032</td> <td>   23.117</td> <td> 0.000</td> <td>    0.678</td> <td>    0.803</td>\n",
       "</tr>\n",
       "<tr>\n",
       "  <th>zip_98103</th>     <td>    0.5879</td> <td>    0.030</td> <td>   19.628</td> <td> 0.000</td> <td>    0.529</td> <td>    0.647</td>\n",
       "</tr>\n",
       "<tr>\n",
       "  <th>zip_98105</th>     <td>    0.7193</td> <td>    0.031</td> <td>   23.406</td> <td> 0.000</td> <td>    0.659</td> <td>    0.780</td>\n",
       "</tr>\n",
       "<tr>\n",
       "  <th>zip_98106</th>     <td>    0.2002</td> <td>    0.022</td> <td>    9.016</td> <td> 0.000</td> <td>    0.157</td> <td>    0.244</td>\n",
       "</tr>\n",
       "<tr>\n",
       "  <th>zip_98107</th>     <td>    0.6038</td> <td>    0.031</td> <td>   19.560</td> <td> 0.000</td> <td>    0.543</td> <td>    0.664</td>\n",
       "</tr>\n",
       "<tr>\n",
       "  <th>zip_98108</th>     <td>    0.2073</td> <td>    0.024</td> <td>    8.471</td> <td> 0.000</td> <td>    0.159</td> <td>    0.255</td>\n",
       "</tr>\n",
       "<tr>\n",
       "  <th>zip_98109</th>     <td>    0.7557</td> <td>    0.032</td> <td>   23.707</td> <td> 0.000</td> <td>    0.693</td> <td>    0.818</td>\n",
       "</tr>\n",
       "<tr>\n",
       "  <th>zip_98112</th>     <td>    0.8297</td> <td>    0.028</td> <td>   29.402</td> <td> 0.000</td> <td>    0.774</td> <td>    0.885</td>\n",
       "</tr>\n",
       "<tr>\n",
       "  <th>zip_98115</th>     <td>    0.5893</td> <td>    0.030</td> <td>   19.353</td> <td> 0.000</td> <td>    0.530</td> <td>    0.649</td>\n",
       "</tr>\n",
       "<tr>\n",
       "  <th>zip_98116</th>     <td>    0.5628</td> <td>    0.025</td> <td>   22.691</td> <td> 0.000</td> <td>    0.514</td> <td>    0.611</td>\n",
       "</tr>\n",
       "<tr>\n",
       "  <th>zip_98117</th>     <td>    0.5658</td> <td>    0.031</td> <td>   18.345</td> <td> 0.000</td> <td>    0.505</td> <td>    0.626</td>\n",
       "</tr>\n",
       "<tr>\n",
       "  <th>zip_98118</th>     <td>    0.3222</td> <td>    0.022</td> <td>   14.893</td> <td> 0.000</td> <td>    0.280</td> <td>    0.365</td>\n",
       "</tr>\n",
       "<tr>\n",
       "  <th>zip_98119</th>     <td>    0.7464</td> <td>    0.030</td> <td>   24.782</td> <td> 0.000</td> <td>    0.687</td> <td>    0.805</td>\n",
       "</tr>\n",
       "<tr>\n",
       "  <th>zip_98122</th>     <td>    0.6082</td> <td>    0.027</td> <td>   22.699</td> <td> 0.000</td> <td>    0.556</td> <td>    0.661</td>\n",
       "</tr>\n",
       "<tr>\n",
       "  <th>zip_98125</th>     <td>    0.3401</td> <td>    0.033</td> <td>   10.336</td> <td> 0.000</td> <td>    0.276</td> <td>    0.405</td>\n",
       "</tr>\n",
       "<tr>\n",
       "  <th>zip_98126</th>     <td>    0.3894</td> <td>    0.023</td> <td>   17.085</td> <td> 0.000</td> <td>    0.345</td> <td>    0.434</td>\n",
       "</tr>\n",
       "<tr>\n",
       "  <th>zip_98133</th>     <td>    0.2137</td> <td>    0.034</td> <td>    6.285</td> <td> 0.000</td> <td>    0.147</td> <td>    0.280</td>\n",
       "</tr>\n",
       "<tr>\n",
       "  <th>zip_98136</th>     <td>    0.5100</td> <td>    0.023</td> <td>   21.820</td> <td> 0.000</td> <td>    0.464</td> <td>    0.556</td>\n",
       "</tr>\n",
       "<tr>\n",
       "  <th>zip_98144</th>     <td>    0.4867</td> <td>    0.025</td> <td>   19.544</td> <td> 0.000</td> <td>    0.438</td> <td>    0.535</td>\n",
       "</tr>\n",
       "<tr>\n",
       "  <th>zip_98146</th>     <td>    0.1611</td> <td>    0.021</td> <td>    7.713</td> <td> 0.000</td> <td>    0.120</td> <td>    0.202</td>\n",
       "</tr>\n",
       "<tr>\n",
       "  <th>zip_98148</th>     <td>    0.0818</td> <td>    0.029</td> <td>    2.867</td> <td> 0.004</td> <td>    0.026</td> <td>    0.138</td>\n",
       "</tr>\n",
       "<tr>\n",
       "  <th>zip_98155</th>     <td>    0.1919</td> <td>    0.035</td> <td>    5.430</td> <td> 0.000</td> <td>    0.123</td> <td>    0.261</td>\n",
       "</tr>\n",
       "<tr>\n",
       "  <th>zip_98166</th>     <td>    0.2026</td> <td>    0.019</td> <td>   10.611</td> <td> 0.000</td> <td>    0.165</td> <td>    0.240</td>\n",
       "</tr>\n",
       "<tr>\n",
       "  <th>zip_98168</th>     <td>   -0.0218</td> <td>    0.020</td> <td>   -1.082</td> <td> 0.279</td> <td>   -0.061</td> <td>    0.018</td>\n",
       "</tr>\n",
       "<tr>\n",
       "  <th>zip_98177</th>     <td>    0.3305</td> <td>    0.035</td> <td>    9.320</td> <td> 0.000</td> <td>    0.261</td> <td>    0.400</td>\n",
       "</tr>\n",
       "<tr>\n",
       "  <th>zip_98178</th>     <td>    0.0394</td> <td>    0.021</td> <td>    1.892</td> <td> 0.058</td> <td>   -0.001</td> <td>    0.080</td>\n",
       "</tr>\n",
       "<tr>\n",
       "  <th>zip_98188</th>     <td>    0.0235</td> <td>    0.021</td> <td>    1.093</td> <td> 0.274</td> <td>   -0.019</td> <td>    0.066</td>\n",
       "</tr>\n",
       "<tr>\n",
       "  <th>zip_98198</th>     <td>    0.0035</td> <td>    0.016</td> <td>    0.216</td> <td> 0.829</td> <td>   -0.028</td> <td>    0.035</td>\n",
       "</tr>\n",
       "<tr>\n",
       "  <th>zip_98199</th>     <td>    0.6176</td> <td>    0.029</td> <td>   21.111</td> <td> 0.000</td> <td>    0.560</td> <td>    0.675</td>\n",
       "</tr>\n",
       "</table>\n",
       "<table class=\"simpletable\">\n",
       "<tr>\n",
       "  <th>Omnibus:</th>       <td>1301.391</td> <th>  Durbin-Watson:     </th> <td>   2.003</td>\n",
       "</tr>\n",
       "<tr>\n",
       "  <th>Prob(Omnibus):</th>  <td> 0.000</td>  <th>  Jarque-Bera (JB):  </th> <td>5882.006</td>\n",
       "</tr>\n",
       "<tr>\n",
       "  <th>Skew:</th>           <td>-0.065</td>  <th>  Prob(JB):          </th> <td>    0.00</td>\n",
       "</tr>\n",
       "<tr>\n",
       "  <th>Kurtosis:</th>       <td> 5.581</td>  <th>  Cond. No.          </th> <td>2.88e+09</td>\n",
       "</tr>\n",
       "</table><br/><br/>Warnings:<br/>[1] Standard Errors assume that the covariance matrix of the errors is correctly specified.<br/>[2] The condition number is large, 2.88e+09. This might indicate that there are<br/>strong multicollinearity or other numerical problems."
      ],
      "text/plain": [
       "<class 'statsmodels.iolib.summary.Summary'>\n",
       "\"\"\"\n",
       "                            OLS Regression Results                            \n",
       "==============================================================================\n",
       "Dep. Variable:                  price   R-squared:                       0.877\n",
       "Model:                            OLS   Adj. R-squared:                  0.877\n",
       "Method:                 Least Squares   F-statistic:                     1837.\n",
       "Date:                Thu, 26 Dec 2019   Prob (F-statistic):               0.00\n",
       "Time:                        18:46:48   Log-Likelihood:                 5737.9\n",
       "No. Observations:               21143   AIC:                        -1.131e+04\n",
       "Df Residuals:                   21060   BIC:                        -1.065e+04\n",
       "Df Model:                          82                                         \n",
       "Covariance Type:            nonrobust                                         \n",
       "=================================================================================\n",
       "                    coef    std err          t      P>|t|      [0.025      0.975]\n",
       "---------------------------------------------------------------------------------\n",
       "Intercept      1136.5959    121.933      9.321      0.000     897.598    1375.594\n",
       "sqft_living       0.4145      0.007     62.469      0.000       0.401       0.427\n",
       "rooms             0.0009      0.001      0.641      0.522      -0.002       0.004\n",
       "view              0.0605      0.002     30.396      0.000       0.057       0.064\n",
       "condition         0.0485      0.002     21.760      0.000       0.044       0.053\n",
       "grade             0.1059      0.002     52.273      0.000       0.102       0.110\n",
       "age_house         0.0018      0.000     14.709      0.000       0.002       0.002\n",
       "renovated         2.3141      0.240      9.658      0.000       1.844       2.784\n",
       "lat               0.4839      0.074      6.572      0.000       0.340       0.628\n",
       "long             -0.2621      0.053     -4.924      0.000      -0.366      -0.158\n",
       "waterfront        0.4880      0.017     28.521      0.000       0.454       0.522\n",
       "floors            0.0013      0.003      0.394      0.694      -0.005       0.008\n",
       "sqft_living15  8.962e-05    3.3e-06     27.194      0.000    8.32e-05    9.61e-05\n",
       "sqft_lot15     8.285e-07   5.35e-08     15.475      0.000    7.24e-07    9.33e-07\n",
       "zip_98002        -0.0004      0.017     -0.026      0.979      -0.033       0.032\n",
       "zip_98003        -0.0087      0.015     -0.579      0.563      -0.038       0.021\n",
       "zip_98004         0.9682      0.027     35.485      0.000       0.915       1.022\n",
       "zip_98005         0.5872      0.029     20.149      0.000       0.530       0.644\n",
       "zip_98006         0.5163      0.024     21.628      0.000       0.469       0.563\n",
       "zip_98007         0.5107      0.030     16.966      0.000       0.452       0.570\n",
       "zip_98008         0.5177      0.029     18.085      0.000       0.462       0.574\n",
       "zip_98010         0.3169      0.026     12.349      0.000       0.267       0.367\n",
       "zip_98011         0.2309      0.037      6.208      0.000       0.158       0.304\n",
       "zip_98014         0.2612      0.041      6.397      0.000       0.181       0.341\n",
       "zip_98019         0.1989      0.040      4.929      0.000       0.120       0.278\n",
       "zip_98022         0.1749      0.022      7.830      0.000       0.131       0.219\n",
       "zip_98023        -0.0709      0.014     -5.117      0.000      -0.098      -0.044\n",
       "zip_98024         0.4170      0.036     11.581      0.000       0.346       0.488\n",
       "zip_98027         0.4483      0.025     18.270      0.000       0.400       0.496\n",
       "zip_98028         0.1899      0.036      5.256      0.000       0.119       0.261\n",
       "zip_98029         0.5331      0.028     19.006      0.000       0.478       0.588\n",
       "zip_98030         0.0372      0.017      2.245      0.025       0.005       0.070\n",
       "zip_98031         0.0418      0.017      2.421      0.015       0.008       0.076\n",
       "zip_98032        -0.0740      0.020     -3.710      0.000      -0.113      -0.035\n",
       "zip_98033         0.6136      0.031     19.791      0.000       0.553       0.674\n",
       "zip_98034         0.3464      0.033     10.422      0.000       0.281       0.412\n",
       "zip_98038         0.2034      0.019     10.921      0.000       0.167       0.240\n",
       "zip_98039         1.1439      0.037     31.012      0.000       1.072       1.216\n",
       "zip_98040         0.7357      0.024     30.454      0.000       0.688       0.783\n",
       "zip_98042         0.0777      0.016      4.906      0.000       0.047       0.109\n",
       "zip_98045         0.3933      0.034     11.429      0.000       0.326       0.461\n",
       "zip_98052         0.4742      0.032     14.978      0.000       0.412       0.536\n",
       "zip_98053         0.4794      0.034     14.129      0.000       0.413       0.546\n",
       "zip_98055         0.0770      0.019      4.010      0.000       0.039       0.115\n",
       "zip_98056         0.2386      0.021     11.463      0.000       0.198       0.279\n",
       "zip_98058         0.1210      0.018      6.669      0.000       0.085       0.157\n",
       "zip_98059         0.2791      0.020     13.654      0.000       0.239       0.319\n",
       "zip_98065         0.4005      0.032     12.630      0.000       0.338       0.463\n",
       "zip_98070         0.2224      0.024      9.243      0.000       0.175       0.270\n",
       "zip_98072         0.2990      0.037      8.076      0.000       0.226       0.372\n",
       "zip_98074         0.4447      0.030     14.824      0.000       0.386       0.504\n",
       "zip_98075         0.4764      0.029     16.489      0.000       0.420       0.533\n",
       "zip_98077         0.2870      0.039      7.450      0.000       0.212       0.363\n",
       "zip_98092         0.0443      0.015      2.941      0.003       0.015       0.074\n",
       "zip_98102         0.7404      0.032     23.117      0.000       0.678       0.803\n",
       "zip_98103         0.5879      0.030     19.628      0.000       0.529       0.647\n",
       "zip_98105         0.7193      0.031     23.406      0.000       0.659       0.780\n",
       "zip_98106         0.2002      0.022      9.016      0.000       0.157       0.244\n",
       "zip_98107         0.6038      0.031     19.560      0.000       0.543       0.664\n",
       "zip_98108         0.2073      0.024      8.471      0.000       0.159       0.255\n",
       "zip_98109         0.7557      0.032     23.707      0.000       0.693       0.818\n",
       "zip_98112         0.8297      0.028     29.402      0.000       0.774       0.885\n",
       "zip_98115         0.5893      0.030     19.353      0.000       0.530       0.649\n",
       "zip_98116         0.5628      0.025     22.691      0.000       0.514       0.611\n",
       "zip_98117         0.5658      0.031     18.345      0.000       0.505       0.626\n",
       "zip_98118         0.3222      0.022     14.893      0.000       0.280       0.365\n",
       "zip_98119         0.7464      0.030     24.782      0.000       0.687       0.805\n",
       "zip_98122         0.6082      0.027     22.699      0.000       0.556       0.661\n",
       "zip_98125         0.3401      0.033     10.336      0.000       0.276       0.405\n",
       "zip_98126         0.3894      0.023     17.085      0.000       0.345       0.434\n",
       "zip_98133         0.2137      0.034      6.285      0.000       0.147       0.280\n",
       "zip_98136         0.5100      0.023     21.820      0.000       0.464       0.556\n",
       "zip_98144         0.4867      0.025     19.544      0.000       0.438       0.535\n",
       "zip_98146         0.1611      0.021      7.713      0.000       0.120       0.202\n",
       "zip_98148         0.0818      0.029      2.867      0.004       0.026       0.138\n",
       "zip_98155         0.1919      0.035      5.430      0.000       0.123       0.261\n",
       "zip_98166         0.2026      0.019     10.611      0.000       0.165       0.240\n",
       "zip_98168        -0.0218      0.020     -1.082      0.279      -0.061       0.018\n",
       "zip_98177         0.3305      0.035      9.320      0.000       0.261       0.400\n",
       "zip_98178         0.0394      0.021      1.892      0.058      -0.001       0.080\n",
       "zip_98188         0.0235      0.021      1.093      0.274      -0.019       0.066\n",
       "zip_98198         0.0035      0.016      0.216      0.829      -0.028       0.035\n",
       "zip_98199         0.6176      0.029     21.111      0.000       0.560       0.675\n",
       "==============================================================================\n",
       "Omnibus:                     1301.391   Durbin-Watson:                   2.003\n",
       "Prob(Omnibus):                  0.000   Jarque-Bera (JB):             5882.006\n",
       "Skew:                          -0.065   Prob(JB):                         0.00\n",
       "Kurtosis:                       5.581   Cond. No.                     2.88e+09\n",
       "==============================================================================\n",
       "\n",
       "Warnings:\n",
       "[1] Standard Errors assume that the covariance matrix of the errors is correctly specified.\n",
       "[2] The condition number is large, 2.88e+09. This might indicate that there are\n",
       "strong multicollinearity or other numerical problems.\n",
       "\"\"\""
      ]
     },
     "execution_count": 63,
     "metadata": {},
     "output_type": "execute_result"
    }
   ],
   "source": [
    "third = ols(formula= formula, data = data_ols, missing = 'drop').fit()\n",
    "third.summary()"
   ]
  },
  {
   "cell_type": "code",
   "execution_count": 74,
   "metadata": {},
   "outputs": [
    {
     "data": {
      "image/png": "[encoded data removed]",
      "text/plain": [
       "<Figure size 432x288 with 1 Axes>"
      ]
     },
     "metadata": {
      "needs_background": "light"
     },
     "output_type": "display_data"
    }
   ],
   "source": [
    "res = third.resid\n",
    "fig = sm.qqplot(res, line = '45', fit = True)\n",
    "plt.title('Third Model QQplot')\n",
    "plt.show()"
   ]
  },
  {
   "cell_type": "markdown",
   "metadata": {},
   "source": [
    "# INTERPRET"
   ]
  },
  {
   "cell_type": "code",
   "execution_count": 65,
   "metadata": {
    "scrolled": true
   },
   "outputs": [
    {
     "data": {
      "text/plain": [
       "Text(0.5, 1.0, 'Residuals of Third Model')"
      ]
     },
     "execution_count": 65,
     "metadata": {},
     "output_type": "execute_result"
    },
    {
     "data": {
      "image/png": "[encoded data removed]",
      "text/plain": [
       "<Figure size 864x216 with 3 Axes>"
      ]
     },
     "metadata": {
      "needs_background": "light"
     },
     "output_type": "display_data"
    }
   ],
   "source": [
    "fig, (ax1,ax2,ax3) = plt.subplots(nrows=1, ncols=3, figsize=(12,3))\n",
    "\n",
    "\n",
    "ax1.hist(first.resid)\n",
    "ax1.set_title('Residuals of First Model')\n",
    "\n",
    "ax2.hist(second.resid)\n",
    "ax2.set_title('Residuals of Second Model')\n",
    "\n",
    "ax3.hist(third.resid)\n",
    "ax3.set_title('Residuals of Third Model')\n",
    "\n"
   ]
  },
  {
   "cell_type": "code",
   "execution_count": 66,
   "metadata": {},
   "outputs": [
    {
     "name": "stdout",
     "output_type": "stream",
     "text": [
      "Intercept         4.298857e-05\n",
      "sqft_lot          3.196377e-02\n",
      "sqft_living      6.981468e-254\n",
      "sqft_above        1.969515e-09\n",
      "zip_code          4.391006e-79\n",
      "bedrooms          1.215655e-73\n",
      "view             5.638957e-138\n",
      "grade             0.000000e+00\n",
      "bathrooms         1.334110e-39\n",
      "yr_built          0.000000e+00\n",
      "renovated         3.319916e-05\n",
      "lat               0.000000e+00\n",
      "long              4.049866e-59\n",
      "waterfront       1.936305e-246\n",
      "floors            1.963061e-01\n",
      "sqft_living15     3.883384e-09\n",
      "sqft_lot15        1.100149e-06\n",
      "dtype: float64\n",
      "0.6985151058067691\n"
     ]
    }
   ],
   "source": [
    "print(first.pvalues)\n",
    "print(first.rsquared)"
   ]
  },
  {
   "cell_type": "code",
   "execution_count": 67,
   "metadata": {},
   "outputs": [
    {
     "name": "stdout",
     "output_type": "stream",
     "text": [
      "Intercept         1.257253e-20\n",
      "sqft_living       0.000000e+00\n",
      "rooms             5.215179e-01\n",
      "view             1.200953e-198\n",
      "condition        7.782094e-104\n",
      "grade             0.000000e+00\n",
      "age_house         9.850820e-49\n",
      "renovated         5.070980e-22\n",
      "lat               5.078291e-11\n",
      "long              8.556328e-07\n",
      "waterfront       1.371959e-175\n",
      "floors            6.937818e-01\n",
      "sqft_living15    4.422852e-160\n",
      "sqft_lot15        1.004886e-53\n",
      "zip_98002         9.792949e-01\n",
      "zip_98003         5.627181e-01\n",
      "zip_98004        6.332749e-268\n",
      "zip_98005         1.902073e-89\n",
      "zip_98006        1.292884e-102\n",
      "zip_98007         3.936314e-64\n",
      "zip_98008         1.479013e-72\n",
      "zip_98010         6.496042e-35\n",
      "zip_98011         5.449760e-10\n",
      "zip_98014         1.613155e-10\n",
      "zip_98019         8.341773e-07\n",
      "zip_98022         5.114321e-15\n",
      "zip_98023         3.129528e-07\n",
      "zip_98024         6.372724e-31\n",
      "zip_98027         5.354891e-74\n",
      "zip_98028         1.484981e-07\n",
      "                     ...      \n",
      "zip_98092         3.279214e-03\n",
      "zip_98102        8.852272e-117\n",
      "zip_98103         5.088232e-85\n",
      "zip_98105        1.256919e-119\n",
      "zip_98106         2.119450e-19\n",
      "zip_98107         1.923090e-84\n",
      "zip_98108         2.599201e-17\n",
      "zip_98109        1.229762e-122\n",
      "zip_98112        2.985352e-186\n",
      "zip_98115         9.988498e-83\n",
      "zip_98116        1.224959e-112\n",
      "zip_98117         1.377368e-74\n",
      "zip_98118         6.566815e-50\n",
      "zip_98119        1.151661e-133\n",
      "zip_98122        1.032659e-112\n",
      "zip_98125         5.564989e-25\n",
      "zip_98126         5.300153e-65\n",
      "zip_98133         3.335012e-10\n",
      "zip_98136        2.150178e-104\n",
      "zip_98144         2.615468e-84\n",
      "zip_98146         1.287526e-14\n",
      "zip_98148         4.145892e-03\n",
      "zip_98155         5.690412e-08\n",
      "zip_98166         3.071550e-26\n",
      "zip_98168         2.793634e-01\n",
      "zip_98177         1.274955e-20\n",
      "zip_98178         5.849052e-02\n",
      "zip_98188         2.742531e-01\n",
      "zip_98198         8.291601e-01\n",
      "zip_98199         6.507629e-98\n",
      "Length: 83, dtype: float64\n",
      "0.8773198375372679\n"
     ]
    }
   ],
   "source": [
    "print(second.pvalues)\n",
    "print(second.rsquared)"
   ]
  },
  {
   "cell_type": "code",
   "execution_count": 70,
   "metadata": {},
   "outputs": [
    {
     "name": "stdout",
     "output_type": "stream",
     "text": [
      "Intercept         1.257253e-20\n",
      "sqft_living       0.000000e+00\n",
      "rooms             5.215179e-01\n",
      "view             1.200953e-198\n",
      "condition        7.782094e-104\n",
      "grade             0.000000e+00\n",
      "age_house         9.850820e-49\n",
      "renovated         5.070980e-22\n",
      "lat               5.078291e-11\n",
      "long              8.556328e-07\n",
      "waterfront       1.371959e-175\n",
      "floors            6.937818e-01\n",
      "sqft_living15    4.422852e-160\n",
      "sqft_lot15        1.004886e-53\n",
      "zip_98002         9.792949e-01\n",
      "zip_98003         5.627181e-01\n",
      "zip_98004        6.332749e-268\n",
      "zip_98005         1.902073e-89\n",
      "zip_98006        1.292884e-102\n",
      "zip_98007         3.936314e-64\n",
      "zip_98008         1.479013e-72\n",
      "zip_98010         6.496042e-35\n",
      "zip_98011         5.449760e-10\n",
      "zip_98014         1.613155e-10\n",
      "zip_98019         8.341773e-07\n",
      "zip_98022         5.114321e-15\n",
      "zip_98023         3.129528e-07\n",
      "zip_98024         6.372724e-31\n",
      "zip_98027         5.354891e-74\n",
      "zip_98028         1.484981e-07\n",
      "                     ...      \n",
      "zip_98092         3.279214e-03\n",
      "zip_98102        8.852272e-117\n",
      "zip_98103         5.088232e-85\n",
      "zip_98105        1.256919e-119\n",
      "zip_98106         2.119450e-19\n",
      "zip_98107         1.923090e-84\n",
      "zip_98108         2.599201e-17\n",
      "zip_98109        1.229762e-122\n",
      "zip_98112        2.985352e-186\n",
      "zip_98115         9.988498e-83\n",
      "zip_98116        1.224959e-112\n",
      "zip_98117         1.377368e-74\n",
      "zip_98118         6.566815e-50\n",
      "zip_98119        1.151661e-133\n",
      "zip_98122        1.032659e-112\n",
      "zip_98125         5.564989e-25\n",
      "zip_98126         5.300153e-65\n",
      "zip_98133         3.335012e-10\n",
      "zip_98136        2.150178e-104\n",
      "zip_98144         2.615468e-84\n",
      "zip_98146         1.287526e-14\n",
      "zip_98148         4.145892e-03\n",
      "zip_98155         5.690412e-08\n",
      "zip_98166         3.071550e-26\n",
      "zip_98168         2.793634e-01\n",
      "zip_98177         1.274955e-20\n",
      "zip_98178         5.849052e-02\n",
      "zip_98188         2.742531e-01\n",
      "zip_98198         8.291601e-01\n",
      "zip_98199         6.507629e-98\n",
      "Length: 83, dtype: float64\n",
      "0.8773198375372679\n"
     ]
    }
   ],
   "source": [
    "print(third.pvalues)\n",
    "print(third.rsquared)"
   ]
  },
  {
   "cell_type": "markdown",
   "metadata": {},
   "source": [
    "# CONCLUSIONS"
   ]
  },
  {
   "cell_type": "markdown",
   "metadata": {},
   "source": [
    "This final model has a r-squared score of 87.7% and all non-categorical variables have p-values below 5% making the regression's results statistically significant"
   ]
  },
  {
   "cell_type": "markdown",
   "metadata": {},
   "source": [
    "As discovered in the preparation of the data, there was a general positive relationship between many of the predictor values and the dependent variable, price. Moreover, there is a statistically significant relationship present as the probability of the model's f-statistic is zero and allows us to reject the null hypothesis. "
   ]
  },
  {
   "cell_type": "markdown",
   "metadata": {},
   "source": [
    "This final model has a r-squared score of 87.7% and all non-categorical variables have p-values below 5% making the regression's results statistically significant"
   ]
  },
  {
   "cell_type": "markdown",
   "metadata": {},
   "source": [
    "#  RECOMMENDATIONS"
   ]
  },
  {
   "cell_type": "markdown",
   "metadata": {},
   "source": [
    "With a high-degree of certainty, the model developed with the statsmodel library allows us predict the value of homes in the Seattle area. The preprocessing of data did it's best to promote normalilty in the dataset, but the QQplots show some traces of skew in the residuals. "
   ]
  },
  {
   "cell_type": "markdown",
   "metadata": {},
   "source": [
    "The major recommendation from this model is that the following variables have the most impact on a houses sale price. A homeowner or housing organization will want to invest in the quality of building materials (grade),add livable space to a unit (sqft_living) and find houses or plots of land that are near the water (waterfront). \n",
    "\n",
    "The amount of square feet in a home and its location respective to the waterfront are difficult to control for and might be harder to change. Thus, something that all homeowners or potential investors can take away from this model is that purchasing building materials of the highest quality will result in the largest home value growth. This conclusion is reached by examining the coefficients in the final model."
   ]
  }
 ],
 "metadata": {
  "kernelspec": {
   "display_name": "Python [conda env:learn-env] *",
   "language": "python",
   "name": "conda-env-learn-env-py"
  },
  "language_info": {
   "codemirror_mode": {
    "name": "ipython",
    "version": 3
   },
   "file_extension": ".py",
   "mimetype": "text/x-python",
   "name": "python",
   "nbconvert_exporter": "python",
   "pygments_lexer": "ipython3",
   "version": "3.6.6"
  },
  "toc": {
   "base_numbering": 1,
   "nav_menu": {},
   "number_sections": false,
   "sideBar": true,
   "skip_h1_title": false,
   "title_cell": "Table of Contents",
   "title_sidebar": "Contents",
   "toc_cell": false,
   "toc_position": {},
   "toc_section_display": true,
   "toc_window_display": true
  },
  "varInspector": {
   "cols": {
    "lenName": 16,
    "lenType": 16,
    "lenVar": 40
   },
   "kernels_config": {
    "python": {
     "delete_cmd_postfix": "",
     "delete_cmd_prefix": "del ",
     "library": "var_list.py",
     "varRefreshCmd": "print(var_dic_list())"
    },
    "r": {
     "delete_cmd_postfix": ") ",
     "delete_cmd_prefix": "rm(",
     "library": "var_list.r",
     "varRefreshCmd": "cat(var_dic_list()) "
    }
   },
   "types_to_exclude": [
    "module",
    "function",
    "builtin_function_or_method",
    "instance",
    "_Feature"
   ],
   "window_display": false
  }
 },
 "nbformat": 4,
 "nbformat_minor": 2
}
