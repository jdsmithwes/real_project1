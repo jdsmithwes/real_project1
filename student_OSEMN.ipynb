{
 "cells": [
  {
   "cell_type": "markdown",
   "metadata": {},
   "source": [
    "# Final Project Submission\n",
    "\n",
    "Please fill out:\n",
    "* Student name: Jamaal Darius Smith\n",
    "* Student pace: Part Time\n",
    "* Scheduled project review date/time: \n",
    "* Instructor name: James Irving\n",
    "* Blog post URL:\n",
    "* Video of 5-min Non-Technical Presentation:\n"
   ]
  },
  {
   "cell_type": "markdown",
   "metadata": {},
   "source": [
    "# TABLE OF CONTENTS \n",
    "\n",
    "*Click to jump to matching Markdown Header.*<br><br>\n",
    "\n",
    "<font size=4rem>\n",
    "    \n",
    "- [Introduction](#INTRODUCTION)<br>\n",
    "- **[OBTAIN](#OBTAIN)**<br>\n",
    "- **[SCRUB](#SCRUB)**<br>\n",
    "- **[EXPLORE](#EXPLORE)**<br>\n",
    "- **[MODEL](#MODEL)**<br>\n",
    "- **[iNTERPRET](#iNTERPRET)**<br>\n",
    "- [Conclusions/Recommendations](#CONCLUSIONS-&-RECOMMENDATIONS)<br>\n",
    "</font>\n",
    "___\n"
   ]
  },
  {
   "cell_type": "markdown",
   "metadata": {},
   "source": [
    "# INTRODUCTION"
   ]
  },
  {
   "cell_type": "markdown",
   "metadata": {},
   "source": [
    "The goal of this project is to create a multivariable linear regression that predicts the value of a house based on predictor variables.The insights from this model can prove valuable because it can be used for many purposes. From real estate agents being able to provide estimates to potential clients to academic researchers checking to see if homes in different neighborhoods are sold for prices that reflect their value based on intrinsic features instead of market dynamics, being able to estimate the price of homes in the Seattle area will be very fruitful in the real-world.\n",
    "\n"
   ]
  },
  {
   "cell_type": "markdown",
   "metadata": {},
   "source": [
    "# OBTAIN"
   ]
  },
  {
   "cell_type": "code",
   "execution_count": 64,
   "metadata": {},
   "outputs": [],
   "source": [
    "import numpy as np\n",
    "import pandas as pd\n",
    "import seaborn as sns\n",
    "import matplotlib.pyplot as plt\n",
    "%matplotlib inline\n",
    "from scipy import stats\n",
    "from sklearn import preprocessing\n",
    "\n",
    "data = pd.read_csv('kc_house_data.csv')"
   ]
  },
  {
   "cell_type": "code",
   "execution_count": 65,
   "metadata": {
    "scrolled": true
   },
   "outputs": [
    {
     "name": "stdout",
     "output_type": "stream",
     "text": [
      "<class 'pandas.core.frame.DataFrame'>\n",
      "RangeIndex: 21597 entries, 0 to 21596\n",
      "Data columns (total 21 columns):\n",
      "id               21597 non-null int64\n",
      "date             21597 non-null object\n",
      "price            21597 non-null float64\n",
      "bedrooms         21597 non-null int64\n",
      "bathrooms        21597 non-null float64\n",
      "sqft_living      21597 non-null int64\n",
      "sqft_lot         21597 non-null int64\n",
      "floors           21597 non-null float64\n",
      "waterfront       19221 non-null float64\n",
      "view             21534 non-null float64\n",
      "condition        21597 non-null int64\n",
      "grade            21597 non-null int64\n",
      "sqft_above       21597 non-null int64\n",
      "sqft_basement    21597 non-null object\n",
      "yr_built         21597 non-null int64\n",
      "yr_renovated     17755 non-null float64\n",
      "zipcode          21597 non-null int64\n",
      "lat              21597 non-null float64\n",
      "long             21597 non-null float64\n",
      "sqft_living15    21597 non-null int64\n",
      "sqft_lot15       21597 non-null int64\n",
      "dtypes: float64(8), int64(11), object(2)\n",
      "memory usage: 3.5+ MB\n"
     ]
    }
   ],
   "source": [
    "data.info()"
   ]
  },
  {
   "cell_type": "markdown",
   "metadata": {},
   "source": [
    "# SCRUB"
   ]
  },
  {
   "cell_type": "markdown",
   "metadata": {},
   "source": [
    "The first step that must be taken to prepare the data for the model is to address any missing values like null values."
   ]
  },
  {
   "cell_type": "code",
   "execution_count": 66,
   "metadata": {},
   "outputs": [],
   "source": [
    "data = data.dropna()"
   ]
  },
  {
   "cell_type": "code",
   "execution_count": 67,
   "metadata": {},
   "outputs": [
    {
     "name": "stdout",
     "output_type": "stream",
     "text": [
      "<class 'pandas.core.frame.DataFrame'>\n",
      "Int64Index: 15762 entries, 1 to 21596\n",
      "Data columns (total 21 columns):\n",
      "id               15762 non-null int64\n",
      "date             15762 non-null object\n",
      "price            15762 non-null float64\n",
      "bedrooms         15762 non-null int64\n",
      "bathrooms        15762 non-null float64\n",
      "sqft_living      15762 non-null int64\n",
      "sqft_lot         15762 non-null int64\n",
      "floors           15762 non-null float64\n",
      "waterfront       15762 non-null float64\n",
      "view             15762 non-null float64\n",
      "condition        15762 non-null int64\n",
      "grade            15762 non-null int64\n",
      "sqft_above       15762 non-null int64\n",
      "sqft_basement    15762 non-null object\n",
      "yr_built         15762 non-null int64\n",
      "yr_renovated     15762 non-null float64\n",
      "zipcode          15762 non-null int64\n",
      "lat              15762 non-null float64\n",
      "long             15762 non-null float64\n",
      "sqft_living15    15762 non-null int64\n",
      "sqft_lot15       15762 non-null int64\n",
      "dtypes: float64(8), int64(11), object(2)\n",
      "memory usage: 2.6+ MB\n"
     ]
    }
   ],
   "source": [
    "data.info()"
   ]
  },
  {
   "cell_type": "markdown",
   "metadata": {},
   "source": [
    "Next we must address the object datatype in the date and sqft_basement columns. During this step, we can also eliminate missing values represented by ? in sqft_basement column."
   ]
  },
  {
   "cell_type": "code",
   "execution_count": 69,
   "metadata": {},
   "outputs": [
    {
     "name": "stdout",
     "output_type": "stream",
     "text": [
      "<class 'pandas.core.frame.DataFrame'>\n",
      "Int64Index: 15429 entries, 1 to 21596\n",
      "Data columns (total 23 columns):\n",
      "id               15429 non-null int64\n",
      "date             15429 non-null datetime64[ns]\n",
      "price            15429 non-null float64\n",
      "bedrooms         15429 non-null int64\n",
      "bathrooms        15429 non-null float64\n",
      "sqft_living      15429 non-null int64\n",
      "sqft_lot         15429 non-null int64\n",
      "floors           15429 non-null float64\n",
      "waterfront       15429 non-null float64\n",
      "view             15429 non-null float64\n",
      "condition        15429 non-null int64\n",
      "grade            15429 non-null int64\n",
      "sqft_above       15429 non-null int64\n",
      "sqft_basement    15429 non-null object\n",
      "yr_built         15429 non-null int64\n",
      "yr_renovated     15429 non-null float64\n",
      "zipcode          15429 non-null int64\n",
      "lat              15429 non-null float64\n",
      "long             15429 non-null float64\n",
      "sqft_living15    15429 non-null int64\n",
      "sqft_lot15       15429 non-null int64\n",
      "year_sold        15429 non-null int64\n",
      "month_sold       15429 non-null int64\n",
      "dtypes: datetime64[ns](1), float64(8), int64(13), object(1)\n",
      "memory usage: 2.8+ MB\n"
     ]
    }
   ],
   "source": [
    "data.drop(data.loc[data['sqft_basement']=='?'].index, inplace=True)\n",
    "data.info()"
   ]
  },
  {
   "cell_type": "code",
   "execution_count": 70,
   "metadata": {},
   "outputs": [
    {
     "data": {
      "text/plain": [
       "1         400.0\n",
       "3         910.0\n",
       "4           0.0\n",
       "5        1530.0\n",
       "8         730.0\n",
       "9           0.0\n",
       "11        300.0\n",
       "13          0.0\n",
       "14          0.0\n",
       "15        970.0\n",
       "16          0.0\n",
       "17          0.0\n",
       "19          0.0\n",
       "20        760.0\n",
       "21        720.0\n",
       "22          0.0\n",
       "24          0.0\n",
       "25          0.0\n",
       "27          0.0\n",
       "29          0.0\n",
       "30          0.0\n",
       "31          0.0\n",
       "32        820.0\n",
       "33          0.0\n",
       "34        780.0\n",
       "35        790.0\n",
       "36        730.0\n",
       "37          0.0\n",
       "38        330.0\n",
       "39          0.0\n",
       "          ...  \n",
       "21548       0.0\n",
       "21549       0.0\n",
       "21552     710.0\n",
       "21554     610.0\n",
       "21555     900.0\n",
       "21557     880.0\n",
       "21558       0.0\n",
       "21559       0.0\n",
       "21560    1310.0\n",
       "21561     650.0\n",
       "21563     410.0\n",
       "21564       0.0\n",
       "21566     280.0\n",
       "21568     320.0\n",
       "21569       0.0\n",
       "21570       0.0\n",
       "21571       0.0\n",
       "21572     190.0\n",
       "21573       0.0\n",
       "21574    1800.0\n",
       "21580       0.0\n",
       "21584       0.0\n",
       "21585       0.0\n",
       "21588       0.0\n",
       "21590     910.0\n",
       "21591     130.0\n",
       "21592       0.0\n",
       "21593       0.0\n",
       "21594       0.0\n",
       "21596       0.0\n",
       "Name: sqft_basement, Length: 15429, dtype: float64"
      ]
     },
     "execution_count": 70,
     "metadata": {},
     "output_type": "execute_result"
    }
   ],
   "source": [
    "data['date'] = pd.to_datetime(data['date'])\n",
    "data['year_sold'], data['month_sold'] = data['date'].dt.year, data['date'].dt.month\n",
    "data['year_sold'].astype(int)\n",
    "data['sqft_basement'].astype(float)"
   ]
  },
  {
   "cell_type": "markdown",
   "metadata": {},
   "source": [
    "# Explore and Transformation"
   ]
  },
  {
   "cell_type": "markdown",
   "metadata": {},
   "source": [
    "The possibility of categorical variables being in the dataset is the next step needed to prepare the data for analysis. The plots below are one way of diagnosing the presence of this phenomenon. Looking at the unique values for each column suspected of being categorical will also be useful."
   ]
  },
  {
   "cell_type": "code",
   "execution_count": 71,
   "metadata": {
    "scrolled": true
   },
   "outputs": [
    {
     "data": {
      "image/png": "[encoded data removed]",
      "text/plain": [
       "<Figure size 864x216 with 5 Axes>"
      ]
     },
     "metadata": {
      "needs_background": "light"
     },
     "output_type": "display_data"
    }
   ],
   "source": [
    "import matplotlib.pyplot as plt\n",
    "%matplotlib inline\n",
    "\n",
    "fig, axes = plt.subplots(nrows=1, ncols=5, figsize=(12,3))\n",
    "\n",
    "for xcol, ax in zip(['waterfront','view', 'condition','grade','floors'], axes):\n",
    "    data.plot(kind='scatter', x=xcol, y='price', ax=ax, alpha=0.4, color='b')"
   ]
  },
  {
   "cell_type": "code",
   "execution_count": 72,
   "metadata": {},
   "outputs": [
    {
     "name": "stdout",
     "output_type": "stream",
     "text": [
      "waterfront unique values 2\n",
      "view unique values 5\n",
      "condition unique values 5\n",
      "grade unique values 11\n",
      "floors unique values 6\n"
     ]
    }
   ],
   "source": [
    "items = ['waterfront','view', 'condition','grade','floors']\n",
    "\n",
    "for item in items:\n",
    "    print(f\"{item} unique values\",data[item].nunique())"
   ]
  },
  {
   "cell_type": "markdown",
   "metadata": {},
   "source": [
    "While the graphs above look like vertical lines, the presence of unique values showcases that the these varaibles just have large areas of concentration and are not categorical for the purposes of this model. The graphs below are designed to see whether or not there is a linear relationship between predictor variables and the dependent variable, price."
   ]
  },
  {
   "cell_type": "code",
   "execution_count": 73,
   "metadata": {},
   "outputs": [
    {
     "name": "stderr",
     "output_type": "stream",
     "text": [
      "C:\\anaconda\\envs\\learn-env\\lib\\site-packages\\scipy\\stats\\stats.py:1713: FutureWarning: Using a non-tuple sequence for multidimensional indexing is deprecated; use `arr[tuple(seq)]` instead of `arr[seq]`. In the future this will be interpreted as an array index, `arr[np.array(seq)]`, which will result either in an error or a different result.\n",
      "  return np.add.reduce(sorted[indexer] * weights, axis=axis) / sumval\n"
     ]
    },
    {
     "data": {
      "text/plain": [
       "<matplotlib.axes._subplots.AxesSubplot at 0x1f51eb63ef0>"
      ]
     },
     "execution_count": 73,
     "metadata": {},
     "output_type": "execute_result"
    },
    {
     "data": {
      "image/png": "[encoded data removed]",
      "text/plain": [
       "<Figure size 432x288 with 1 Axes>"
      ]
     },
     "metadata": {
      "needs_background": "light"
     },
     "output_type": "display_data"
    }
   ],
   "source": [
    "sns.regplot(x=\"sqft_living\",y=\"price\",data=data)"
   ]
  },
  {
   "cell_type": "code",
   "execution_count": 75,
   "metadata": {},
   "outputs": [
    {
     "name": "stderr",
     "output_type": "stream",
     "text": [
      "C:\\anaconda\\envs\\learn-env\\lib\\site-packages\\scipy\\stats\\stats.py:1713: FutureWarning: Using a non-tuple sequence for multidimensional indexing is deprecated; use `arr[tuple(seq)]` instead of `arr[seq]`. In the future this will be interpreted as an array index, `arr[np.array(seq)]`, which will result either in an error or a different result.\n",
      "  return np.add.reduce(sorted[indexer] * weights, axis=axis) / sumval\n"
     ]
    },
    {
     "data": {
      "text/plain": [
       "<matplotlib.axes._subplots.AxesSubplot at 0x1f51ed7d5f8>"
      ]
     },
     "execution_count": 75,
     "metadata": {},
     "output_type": "execute_result"
    },
    {
     "data": {
      "image/png": "[encoded data removed]",
      "text/plain": [
       "<Figure size 432x288 with 1 Axes>"
      ]
     },
     "metadata": {
      "needs_background": "light"
     },
     "output_type": "display_data"
    }
   ],
   "source": [
    "sns.regplot(x=\"grade\",y=\"price\",data=data)"
   ]
  },
  {
   "cell_type": "code",
   "execution_count": 76,
   "metadata": {},
   "outputs": [
    {
     "name": "stderr",
     "output_type": "stream",
     "text": [
      "C:\\anaconda\\envs\\learn-env\\lib\\site-packages\\scipy\\stats\\stats.py:1713: FutureWarning: Using a non-tuple sequence for multidimensional indexing is deprecated; use `arr[tuple(seq)]` instead of `arr[seq]`. In the future this will be interpreted as an array index, `arr[np.array(seq)]`, which will result either in an error or a different result.\n",
      "  return np.add.reduce(sorted[indexer] * weights, axis=axis) / sumval\n"
     ]
    },
    {
     "data": {
      "text/plain": [
       "<matplotlib.axes._subplots.AxesSubplot at 0x1f51edc65f8>"
      ]
     },
     "execution_count": 76,
     "metadata": {},
     "output_type": "execute_result"
    },
    {
     "data": {
      "image/png": "[encoded data removed]",
      "text/plain": [
       "<Figure size 432x288 with 1 Axes>"
      ]
     },
     "metadata": {
      "needs_background": "light"
     },
     "output_type": "display_data"
    }
   ],
   "source": [
    "sns.regplot(x=\"bedrooms\",y=\"price\",data=data)"
   ]
  },
  {
   "cell_type": "code",
   "execution_count": 77,
   "metadata": {},
   "outputs": [
    {
     "name": "stderr",
     "output_type": "stream",
     "text": [
      "C:\\anaconda\\envs\\learn-env\\lib\\site-packages\\scipy\\stats\\stats.py:1713: FutureWarning: Using a non-tuple sequence for multidimensional indexing is deprecated; use `arr[tuple(seq)]` instead of `arr[seq]`. In the future this will be interpreted as an array index, `arr[np.array(seq)]`, which will result either in an error or a different result.\n",
      "  return np.add.reduce(sorted[indexer] * weights, axis=axis) / sumval\n"
     ]
    },
    {
     "data": {
      "text/plain": [
       "<matplotlib.axes._subplots.AxesSubplot at 0x1f51ee35470>"
      ]
     },
     "execution_count": 77,
     "metadata": {},
     "output_type": "execute_result"
    },
    {
     "data": {
      "image/png": "[encoded data removed]",
      "text/plain": [
       "<Figure size 432x288 with 1 Axes>"
      ]
     },
     "metadata": {
      "needs_background": "light"
     },
     "output_type": "display_data"
    }
   ],
   "source": [
    "sns.regplot(x=\"zipcode\",y=\"price\",data=data)"
   ]
  },
  {
   "cell_type": "markdown",
   "metadata": {},
   "source": [
    "While the variables such as waterfront were not deemed to be categorical, zipcode appears to be categorical. To test out this assumption, we will measure the regression model with zipcode as it was in the dataset and as a dummy variable."
   ]
  },
  {
   "cell_type": "code",
   "execution_count": 109,
   "metadata": {},
   "outputs": [],
   "source": [
    "zip_dummies = pd.get_dummies(data['zipcode'], prefix='zip', drop_first=True)"
   ]
  },
  {
   "cell_type": "code",
   "execution_count": 108,
   "metadata": {},
   "outputs": [
    {
     "name": "stderr",
     "output_type": "stream",
     "text": [
      "C:\\anaconda\\envs\\learn-env\\lib\\site-packages\\scipy\\stats\\stats.py:1713: FutureWarning: Using a non-tuple sequence for multidimensional indexing is deprecated; use `arr[tuple(seq)]` instead of `arr[seq]`. In the future this will be interpreted as an array index, `arr[np.array(seq)]`, which will result either in an error or a different result.\n",
      "  return np.add.reduce(sorted[indexer] * weights, axis=axis) / sumval\n"
     ]
    },
    {
     "data": {
      "text/plain": [
       "<matplotlib.axes._subplots.AxesSubplot at 0x1f51ef0b7b8>"
      ]
     },
     "execution_count": 108,
     "metadata": {},
     "output_type": "execute_result"
    },
    {
     "data": {
      "image/png": "[encoded data removed]",
      "text/plain": [
       "<Figure size 432x288 with 1 Axes>"
      ]
     },
     "metadata": {
      "needs_background": "light"
     },
     "output_type": "display_data"
    }
   ],
   "source": [
    "sns.regplot(x=\"sqft_lot\",y=\"price\",data=data)"
   ]
  },
  {
   "cell_type": "code",
   "execution_count": 85,
   "metadata": {},
   "outputs": [
    {
     "data": {
      "image/png": "[encoded data removed]",
      "text/plain": [
       "<Figure size 720x720 with 1 Axes>"
      ]
     },
     "metadata": {
      "needs_background": "light"
     },
     "output_type": "display_data"
    }
   ],
   "source": [
    "var = 'bathrooms'\n",
    "data_graph = pd.concat([data['price'], data[var]], axis=1)\n",
    "f, ax = plt.subplots(figsize=(10, 10))\n",
    "fig = sns.boxplot(x=var, y=\"price\", data=data_graph)\n",
    "fig.axis(ymin=0, ymax=3500000);\n",
    "\n"
   ]
  },
  {
   "cell_type": "code",
   "execution_count": 86,
   "metadata": {
    "scrolled": true
   },
   "outputs": [
    {
     "data": {
      "image/png": "[encoded data removed]",
      "text/plain": [
       "<Figure size 720x720 with 1 Axes>"
      ]
     },
     "metadata": {
      "needs_background": "light"
     },
     "output_type": "display_data"
    }
   ],
   "source": [
    "var = 'bedrooms'\n",
    "data_graph = pd.concat([data['price'], data[var]], axis=1)\n",
    "f, ax = plt.subplots(figsize=(10, 10))\n",
    "fig = sns.boxplot(x=var, y=\"price\", data=data_graph)\n",
    "fig.axis(ymin=0, ymax=3500000);"
   ]
  },
  {
   "cell_type": "code",
   "execution_count": 87,
   "metadata": {},
   "outputs": [
    {
     "data": {
      "image/png": "[encoded data removed]",
      "text/plain": [
       "<Figure size 720x720 with 1 Axes>"
      ]
     },
     "metadata": {
      "needs_background": "light"
     },
     "output_type": "display_data"
    }
   ],
   "source": [
    "var = 'floors'\n",
    "data_graph = pd.concat([data['price'], data[var]], axis=1)\n",
    "f, ax = plt.subplots(figsize=(10, 10))\n",
    "fig = sns.boxplot(x=var, y=\"price\", data=data_graph)"
   ]
  },
  {
   "cell_type": "code",
   "execution_count": 88,
   "metadata": {},
   "outputs": [
    {
     "data": {
      "image/png": "[encoded data removed]",
      "text/plain": [
       "<Figure size 720x720 with 1 Axes>"
      ]
     },
     "metadata": {
      "needs_background": "light"
     },
     "output_type": "display_data"
    }
   ],
   "source": [
    "var = 'view'\n",
    "data_graph = pd.concat([data['price'], data[var]], axis=1)\n",
    "f, ax = plt.subplots(figsize=(10, 10))\n",
    "fig = sns.boxplot(x=var, y=\"price\", data=data_graph)"
   ]
  },
  {
   "cell_type": "code",
   "execution_count": 83,
   "metadata": {},
   "outputs": [
    {
     "data": {
      "text/plain": [
       "price            1.000000\n",
       "sqft_living      0.706498\n",
       "grade            0.664356\n",
       "sqft_above       0.612374\n",
       "sqft_living15    0.583400\n",
       "bathrooms        0.525655\n",
       "view             0.397786\n",
       "lat              0.306991\n",
       "bedrooms         0.305792\n",
       "waterfront       0.275718\n",
       "floors           0.260143\n",
       "yr_renovated     0.120981\n",
       "sqft_lot         0.084687\n",
       "sqft_lot15       0.080569\n",
       "yr_built         0.050528\n",
       "condition        0.033172\n",
       "long             0.021948\n",
       "year_sold        0.005090\n",
       "month_sold      -0.008817\n",
       "id              -0.014954\n",
       "zipcode         -0.049371\n",
       "Name: price, dtype: float64"
      ]
     },
     "execution_count": 83,
     "metadata": {},
     "output_type": "execute_result"
    }
   ],
   "source": [
    "data.corr()['price'].sort_values(ascending=False)"
   ]
  },
  {
   "cell_type": "markdown",
   "metadata": {},
   "source": [
    "## Examination of Multicollinearity"
   ]
  },
  {
   "cell_type": "code",
   "execution_count": 89,
   "metadata": {},
   "outputs": [
    {
     "data": {
      "image/png": "[encoded data removed]",
      "text/plain": [
       "<Figure size 432x288 with 2 Axes>"
      ]
     },
     "metadata": {
      "needs_background": "light"
     },
     "output_type": "display_data"
    }
   ],
   "source": [
    "data_pred = data.iloc[:,2:11]\n",
    "import seaborn as sns\n",
    "sns.heatmap(data_pred.corr(), center=0);"
   ]
  },
  {
   "cell_type": "code",
   "execution_count": 90,
   "metadata": {
    "scrolled": true
   },
   "outputs": [
    {
     "data": {
      "text/html": [
       "<div>\n",
       "<style scoped>\n",
       "    .dataframe tbody tr th:only-of-type {\n",
       "        vertical-align: middle;\n",
       "    }\n",
       "\n",
       "    .dataframe tbody tr th {\n",
       "        vertical-align: top;\n",
       "    }\n",
       "\n",
       "    .dataframe thead th {\n",
       "        text-align: right;\n",
       "    }\n",
       "</style>\n",
       "<table border=\"1\" class=\"dataframe\">\n",
       "  <thead>\n",
       "    <tr style=\"text-align: right;\">\n",
       "      <th></th>\n",
       "      <th>price</th>\n",
       "      <th>bedrooms</th>\n",
       "      <th>bathrooms</th>\n",
       "      <th>sqft_living</th>\n",
       "      <th>sqft_lot</th>\n",
       "      <th>floors</th>\n",
       "      <th>waterfront</th>\n",
       "      <th>view</th>\n",
       "      <th>condition</th>\n",
       "    </tr>\n",
       "  </thead>\n",
       "  <tbody>\n",
       "    <tr>\n",
       "      <th>price</th>\n",
       "      <td>True</td>\n",
       "      <td>False</td>\n",
       "      <td>False</td>\n",
       "      <td>False</td>\n",
       "      <td>False</td>\n",
       "      <td>False</td>\n",
       "      <td>False</td>\n",
       "      <td>False</td>\n",
       "      <td>False</td>\n",
       "    </tr>\n",
       "    <tr>\n",
       "      <th>bedrooms</th>\n",
       "      <td>False</td>\n",
       "      <td>True</td>\n",
       "      <td>False</td>\n",
       "      <td>False</td>\n",
       "      <td>False</td>\n",
       "      <td>False</td>\n",
       "      <td>False</td>\n",
       "      <td>False</td>\n",
       "      <td>False</td>\n",
       "    </tr>\n",
       "    <tr>\n",
       "      <th>bathrooms</th>\n",
       "      <td>False</td>\n",
       "      <td>False</td>\n",
       "      <td>True</td>\n",
       "      <td>True</td>\n",
       "      <td>False</td>\n",
       "      <td>False</td>\n",
       "      <td>False</td>\n",
       "      <td>False</td>\n",
       "      <td>False</td>\n",
       "    </tr>\n",
       "    <tr>\n",
       "      <th>sqft_living</th>\n",
       "      <td>False</td>\n",
       "      <td>False</td>\n",
       "      <td>True</td>\n",
       "      <td>True</td>\n",
       "      <td>False</td>\n",
       "      <td>False</td>\n",
       "      <td>False</td>\n",
       "      <td>False</td>\n",
       "      <td>False</td>\n",
       "    </tr>\n",
       "    <tr>\n",
       "      <th>sqft_lot</th>\n",
       "      <td>False</td>\n",
       "      <td>False</td>\n",
       "      <td>False</td>\n",
       "      <td>False</td>\n",
       "      <td>True</td>\n",
       "      <td>False</td>\n",
       "      <td>False</td>\n",
       "      <td>False</td>\n",
       "      <td>False</td>\n",
       "    </tr>\n",
       "    <tr>\n",
       "      <th>floors</th>\n",
       "      <td>False</td>\n",
       "      <td>False</td>\n",
       "      <td>False</td>\n",
       "      <td>False</td>\n",
       "      <td>False</td>\n",
       "      <td>True</td>\n",
       "      <td>False</td>\n",
       "      <td>False</td>\n",
       "      <td>False</td>\n",
       "    </tr>\n",
       "    <tr>\n",
       "      <th>waterfront</th>\n",
       "      <td>False</td>\n",
       "      <td>False</td>\n",
       "      <td>False</td>\n",
       "      <td>False</td>\n",
       "      <td>False</td>\n",
       "      <td>False</td>\n",
       "      <td>True</td>\n",
       "      <td>False</td>\n",
       "      <td>False</td>\n",
       "    </tr>\n",
       "    <tr>\n",
       "      <th>view</th>\n",
       "      <td>False</td>\n",
       "      <td>False</td>\n",
       "      <td>False</td>\n",
       "      <td>False</td>\n",
       "      <td>False</td>\n",
       "      <td>False</td>\n",
       "      <td>False</td>\n",
       "      <td>True</td>\n",
       "      <td>False</td>\n",
       "    </tr>\n",
       "    <tr>\n",
       "      <th>condition</th>\n",
       "      <td>False</td>\n",
       "      <td>False</td>\n",
       "      <td>False</td>\n",
       "      <td>False</td>\n",
       "      <td>False</td>\n",
       "      <td>False</td>\n",
       "      <td>False</td>\n",
       "      <td>False</td>\n",
       "      <td>True</td>\n",
       "    </tr>\n",
       "  </tbody>\n",
       "</table>\n",
       "</div>"
      ],
      "text/plain": [
       "             price  bedrooms  bathrooms  sqft_living  sqft_lot  floors  \\\n",
       "price         True     False      False        False     False   False   \n",
       "bedrooms     False      True      False        False     False   False   \n",
       "bathrooms    False     False       True         True     False   False   \n",
       "sqft_living  False     False       True         True     False   False   \n",
       "sqft_lot     False     False      False        False      True   False   \n",
       "floors       False     False      False        False     False    True   \n",
       "waterfront   False     False      False        False     False   False   \n",
       "view         False     False      False        False     False   False   \n",
       "condition    False     False      False        False     False   False   \n",
       "\n",
       "             waterfront   view  condition  \n",
       "price             False  False      False  \n",
       "bedrooms          False  False      False  \n",
       "bathrooms         False  False      False  \n",
       "sqft_living       False  False      False  \n",
       "sqft_lot          False  False      False  \n",
       "floors            False  False      False  \n",
       "waterfront         True  False      False  \n",
       "view              False   True      False  \n",
       "condition         False  False       True  "
      ]
     },
     "execution_count": 90,
     "metadata": {},
     "output_type": "execute_result"
    }
   ],
   "source": [
    "abs(data_pred.corr()) > 0.75"
   ]
  },
  {
   "cell_type": "markdown",
   "metadata": {},
   "source": [
    "There is evidence of a linear relationship and it appears to be positive. Also, the presence of multicollinearity will inform my decision to combine some columns."
   ]
  },
  {
   "cell_type": "markdown",
   "metadata": {},
   "source": [
    "## Transformations and Scaling"
   ]
  },
  {
   "cell_type": "code",
   "execution_count": 91,
   "metadata": {},
   "outputs": [
    {
     "data": {
      "text/plain": [
       "Text(0.5, 1.0, 'after')"
      ]
     },
     "execution_count": 91,
     "metadata": {},
     "output_type": "execute_result"
    },
    {
     "data": {
      "image/png": "[encoded data removed]",
      "text/plain": [
       "<Figure size 864x216 with 2 Axes>"
      ]
     },
     "metadata": {
      "needs_background": "light"
     },
     "output_type": "display_data"
    }
   ],
   "source": [
    "fig, (ax1,ax2) = plt.subplots(nrows=1, ncols=2, figsize=(12,3))\n",
    "fig.suptitle('Price Before and After Transformation')\n",
    "\n",
    "ax1.hist(data['price'])\n",
    "ax1.set_title('Before')\n",
    "\n",
    "\n",
    "data['log_price'] = np.log(data['price'])\n",
    "ax2.hist(data['log_price'])\n",
    "ax2.set_title('after')\n",
    "\n",
    "#logbeds = data['log_bedrooms']\n",
    "#(acc - min(acc)) / (max(acc) - min(acc))\n",
    "#scaled_disp = (logdisp - np.mean(logdisp)) / np.sqrt(np.var(logdisp))\n",
    "#data['scaled_beds'] = (logbeds - np.mean(logbeds) / np.sqrt(np.var(logbeds)))\n",
    "#ax3.hist(data.scaled_beds)\n",
    "#ax3.set_title('Scaled')"
   ]
  },
  {
   "cell_type": "code",
   "execution_count": 92,
   "metadata": {},
   "outputs": [
    {
     "data": {
      "text/plain": [
       "Text(0.5, 1.0, 'Scaled')"
      ]
     },
     "execution_count": 92,
     "metadata": {},
     "output_type": "execute_result"
    },
    {
     "data": {
      "image/png": "[encoded data removed]",
      "text/plain": [
       "<Figure size 864x216 with 3 Axes>"
      ]
     },
     "metadata": {
      "needs_background": "light"
     },
     "output_type": "display_data"
    }
   ],
   "source": [
    "fig, (ax1,ax2,ax3) = plt.subplots(nrows=1, ncols=3, figsize=(12,3))\n",
    "fig.suptitle('Bedrooms Before and After Transformation')\n",
    "\n",
    "ax1.hist(data['bedrooms'])\n",
    "ax1.set_title('Before')\n",
    "\n",
    "\n",
    "data['log_bedrooms'] = np.log(data['bedrooms'])\n",
    "ax2.hist(data['log_bedrooms'])\n",
    "ax2.set_title('after')\n",
    "\n",
    "logbeds = data['log_bedrooms']\n",
    "#(acc - min(acc)) / (max(acc) - min(acc))\n",
    "#scaled_disp = (logdisp - np.mean(logdisp)) / np.sqrt(np.var(logdisp))\n",
    "data['scaled_beds'] = (logbeds - np.mean(logbeds) / np.sqrt(np.var(logbeds)))\n",
    "ax3.hist(data.scaled_beds)\n",
    "ax3.set_title('Scaled')"
   ]
  },
  {
   "cell_type": "code",
   "execution_count": 93,
   "metadata": {},
   "outputs": [
    {
     "data": {
      "text/plain": [
       "Text(0.5, 1.0, 'Scaled')"
      ]
     },
     "execution_count": 93,
     "metadata": {},
     "output_type": "execute_result"
    },
    {
     "data": {
      "image/png": "[encoded data removed]",
      "text/plain": [
       "<Figure size 1080x216 with 3 Axes>"
      ]
     },
     "metadata": {
      "needs_background": "light"
     },
     "output_type": "display_data"
    }
   ],
   "source": [
    "fig, (ax1,ax2,ax3) = plt.subplots(nrows=1, ncols=3, figsize=(15,3))\n",
    "fig.suptitle('Bathrooms Before and After Transformation')\n",
    "\n",
    "ax1.hist(data['bathrooms'])\n",
    "ax1.set_title('Before')\n",
    "\n",
    "data['log_bathrooms'] = np.log(data['bathrooms'])\n",
    "ax2.hist(data['log_bathrooms'])\n",
    "ax2.set_title('After')\n",
    "\n",
    "logbathrooms = data['log_bathrooms']\n",
    "data['scaled_bathrooms'] = (logbathrooms - np.mean(logbathrooms) / np.sqrt(np.var(logbathrooms)))\n",
    "ax3.hist(data.scaled_bathrooms)\n",
    "ax3.set_title('Scaled')\n",
    "\n",
    "#(logdisp - np.mean(logdisp)) / np.sqrt(np.var(logdisp))"
   ]
  },
  {
   "cell_type": "code",
   "execution_count": 94,
   "metadata": {},
   "outputs": [
    {
     "data": {
      "text/plain": [
       "Text(0.5, 1.0, 'Scaled')"
      ]
     },
     "execution_count": 94,
     "metadata": {},
     "output_type": "execute_result"
    },
    {
     "data": {
      "image/png": "[encoded data removed]",
      "text/plain": [
       "<Figure size 864x216 with 3 Axes>"
      ]
     },
     "metadata": {
      "needs_background": "light"
     },
     "output_type": "display_data"
    }
   ],
   "source": [
    "fig, (ax1,ax2,ax3) = plt.subplots(nrows=1, ncols=3, figsize=(12,3))\n",
    "fig.suptitle('SQft_living Before and After Transformation')\n",
    "\n",
    "ax1.hist(data['sqft_living'])\n",
    "ax1.set_title('Before')\n",
    "\n",
    "data['log_sqft_living'] = np.log(data['sqft_living'])\n",
    "ax2.hist(data['log_sqft_living'])\n",
    "ax2.set_title('After')\n",
    "\n",
    "logsqftliving = data['log_sqft_living']\n",
    "data['scaled_sqftliving'] = (logsqftliving - np.mean(logsqftliving) / np.sqrt(np.var(logsqftliving)))\n",
    "ax3.hist(data.scaled_sqftliving)\n",
    "ax3.set_title('Scaled')"
   ]
  },
  {
   "cell_type": "code",
   "execution_count": 95,
   "metadata": {
    "scrolled": true
   },
   "outputs": [
    {
     "data": {
      "text/plain": [
       "Text(0.5, 1.0, 'Scaled')"
      ]
     },
     "execution_count": 95,
     "metadata": {},
     "output_type": "execute_result"
    },
    {
     "data": {
      "image/png": "[encoded data removed]",
      "text/plain": [
       "<Figure size 864x216 with 3 Axes>"
      ]
     },
     "metadata": {
      "needs_background": "light"
     },
     "output_type": "display_data"
    }
   ],
   "source": [
    "fig, (ax1,ax2,ax3) = plt.subplots(nrows=1, ncols=3, figsize=(12,3))\n",
    "fig.suptitle('Sqft_lot Before and After Transformation')\n",
    "\n",
    "ax1.hist(data['sqft_lot'])\n",
    "ax1.set_title('Before')\n",
    "\n",
    "data['log_sqft_lot'] = np.log(data['sqft_lot'])\n",
    "ax2.hist(data['log_sqft_lot'])\n",
    "ax2.set_title('After')\n",
    "\n",
    "logsqftlot = data['log_sqft_lot']\n",
    "data['scaled_sqftlot'] = (logsqftlot - np.mean(logsqftlot) / np.sqrt(np.var(logsqftlot)))\n",
    "ax3.hist(data.scaled_sqftlot)\n",
    "ax3.set_title('Scaled')\n",
    "\n"
   ]
  },
  {
   "cell_type": "code",
   "execution_count": 96,
   "metadata": {},
   "outputs": [
    {
     "data": {
      "text/plain": [
       "Text(0.5, 1.0, 'Scaled')"
      ]
     },
     "execution_count": 96,
     "metadata": {},
     "output_type": "execute_result"
    },
    {
     "data": {
      "image/png": "[encoded data removed]",
      "text/plain": [
       "<Figure size 864x216 with 3 Axes>"
      ]
     },
     "metadata": {
      "needs_background": "light"
     },
     "output_type": "display_data"
    }
   ],
   "source": [
    "fig, (ax1,ax2,ax3) = plt.subplots(nrows=1, ncols=3, figsize=(12,3))\n",
    "fig.suptitle('Sqft_above Before and After Transformation')\n",
    "\n",
    "ax1.hist(data['sqft_above'])\n",
    "ax1.set_title('Before')\n",
    "\n",
    "data['log_sqft_above'] = np.log(data['sqft_above'])\n",
    "ax2.hist(data['log_sqft_above'])\n",
    "ax2.set_title('After')\n",
    "\n",
    "\n",
    "logsqftabove = data['log_sqft_above']\n",
    "data['scaled_sqftabove'] = (logsqftabove - np.mean(logsqftabove) / np.sqrt(np.var(logsqftabove)))\n",
    "ax3.hist(data.scaled_sqftabove)\n",
    "ax3.set_title('Scaled')\n",
    "\n"
   ]
  },
  {
   "cell_type": "code",
   "execution_count": 97,
   "metadata": {},
   "outputs": [
    {
     "data": {
      "text/plain": [
       "Text(0.5, 1.0, 'Scaled')"
      ]
     },
     "execution_count": 97,
     "metadata": {},
     "output_type": "execute_result"
    },
    {
     "data": {
      "image/png": "[encoded data removed]",
      "text/plain": [
       "<Figure size 864x216 with 3 Axes>"
      ]
     },
     "metadata": {
      "needs_background": "light"
     },
     "output_type": "display_data"
    }
   ],
   "source": [
    "fig, (ax1,ax2,ax3) = plt.subplots(nrows=1, ncols=3, figsize=(12,3))\n",
    "fig.suptitle('Yr_Renovated Before and After Transformation')\n",
    "\n",
    "ax1.hist(data['yr_renovated'])\n",
    "ax1.set_title('Before')\n",
    "\n",
    "data['yr_renovated_fill'] = data.yr_renovated.replace(0,data['yr_built'])\n",
    "data['log_yr_renovated'] = np.log(data['yr_renovated_fill'])\n",
    "\n",
    "ax2.hist(data['log_yr_renovated'])\n",
    "ax2.set_title('After')\n",
    "\n",
    "\n",
    "logyr_renovated = data['log_yr_renovated']\n",
    "data['scaled_yr_renovated'] = (logyr_renovated - np.mean(logyr_renovated) / np.sqrt(np.var(logyr_renovated)))\n",
    "ax3.hist(data.scaled_yr_renovated)\n",
    "ax3.set_title('Scaled')"
   ]
  },
  {
   "cell_type": "code",
   "execution_count": 98,
   "metadata": {
    "scrolled": true
   },
   "outputs": [
    {
     "data": {
      "text/plain": [
       "Text(0.5, 1.0, 'Scaled')"
      ]
     },
     "execution_count": 98,
     "metadata": {},
     "output_type": "execute_result"
    },
    {
     "data": {
      "image/png": "[encoded data removed]",
      "text/plain": [
       "<Figure size 864x216 with 3 Axes>"
      ]
     },
     "metadata": {
      "needs_background": "light"
     },
     "output_type": "display_data"
    }
   ],
   "source": [
    "fig, (ax1,ax2,ax3) = plt.subplots(nrows=1, ncols=3, figsize=(12,3))\n",
    "fig.suptitle('Yr_built Before and After Transformation')\n",
    "\n",
    "ax1.hist(data['yr_built'])\n",
    "ax1.set_title('Before')\n",
    "\n",
    "data['log_yr_built'] = np.log(data['yr_built'])\n",
    "ax2.hist(data['log_yr_built'])\n",
    "ax2.set_title('After')\n",
    "\n",
    "\n",
    "logyr_built = data['log_yr_built']\n",
    "data['scaled_yr_built'] = (logyr_built - np.mean(logyr_built) / np.sqrt(np.var(logyr_built)))\n",
    "ax3.hist(data.scaled_yr_built)\n",
    "ax3.set_title('Scaled')"
   ]
  },
  {
   "cell_type": "markdown",
   "metadata": {},
   "source": [
    "# MODEL"
   ]
  },
  {
   "cell_type": "markdown",
   "metadata": {},
   "source": [
    "First model without scaling/normalization"
   ]
  },
  {
   "cell_type": "code",
   "execution_count": 145,
   "metadata": {},
   "outputs": [],
   "source": [
    "data_fin = pd.DataFrame([])\n",
    "data_fin['sqft_lot'] = data['sqft_lot']\n",
    "data_fin['sqft_living'] = data['sqft_living']\n",
    "data_fin['sqft_above'] = data['sqft_above']\n",
    "data_fin['zip_code'] = data['zipcode']\n",
    "data_fin['bedrooms'] = data['bedrooms']\n",
    "data_fin['view'] = data['view']\n",
    "data_fin['grade'] = data['grade']\n",
    "data_fin['bathrooms'] = data['bathrooms']\n",
    "data_fin['yr_built'] = data['yr_built']\n",
    "data_fin['renovated'] = data['yr_renovated']\n",
    "data_fin['lat'] = data['lat']\n",
    "data_fin['long'] = data['long']\n",
    "data_fin['waterfront'] = data['waterfront']\n",
    "data_fin['floors'] = data['floors']\n",
    "data_fin['sqft_living15'] = data['sqft_living15']\n",
    "data_fin['sqft_lot15'] = data['sqft_lot15']\n",
    "price = data['price']\n",
    "data_ols = pd.concat([price, data_fin,], axis=1)"
   ]
  },
  {
   "cell_type": "code",
   "execution_count": 146,
   "metadata": {},
   "outputs": [],
   "source": [
    "import statsmodels.formula.api as smf\n",
    "import statsmodels.api as sm\n",
    "from statsmodels.formula.api import ols\n",
    "\n",
    "outcome = 'price'\n",
    "predictors = data_ols.drop('price', axis=1)\n",
    "pred_sum = \"+\".join(predictors.columns)\n",
    "formula = outcome + \"~\" + pred_sum\n"
   ]
  },
  {
   "cell_type": "code",
   "execution_count": 147,
   "metadata": {
    "scrolled": true
   },
   "outputs": [
    {
     "data": {
      "text/html": [
       "<table class=\"simpletable\">\n",
       "<caption>OLS Regression Results</caption>\n",
       "<tr>\n",
       "  <th>Dep. Variable:</th>          <td>price</td>      <th>  R-squared:         </th>  <td>   0.699</td>  \n",
       "</tr>\n",
       "<tr>\n",
       "  <th>Model:</th>                   <td>OLS</td>       <th>  Adj. R-squared:    </th>  <td>   0.699</td>  \n",
       "</tr>\n",
       "<tr>\n",
       "  <th>Method:</th>             <td>Least Squares</td>  <th>  F-statistic:       </th>  <td>   2242.</td>  \n",
       "</tr>\n",
       "<tr>\n",
       "  <th>Date:</th>             <td>Wed, 20 Nov 2019</td> <th>  Prob (F-statistic):</th>   <td>  0.00</td>   \n",
       "</tr>\n",
       "<tr>\n",
       "  <th>Time:</th>                 <td>23:50:43</td>     <th>  Log-Likelihood:    </th> <td>-2.1056e+05</td>\n",
       "</tr>\n",
       "<tr>\n",
       "  <th>No. Observations:</th>      <td> 15429</td>      <th>  AIC:               </th>  <td>4.212e+05</td> \n",
       "</tr>\n",
       "<tr>\n",
       "  <th>Df Residuals:</th>          <td> 15412</td>      <th>  BIC:               </th>  <td>4.213e+05</td> \n",
       "</tr>\n",
       "<tr>\n",
       "  <th>Df Model:</th>              <td>    16</td>      <th>                     </th>      <td> </td>     \n",
       "</tr>\n",
       "<tr>\n",
       "  <th>Covariance Type:</th>      <td>nonrobust</td>    <th>                     </th>      <td> </td>     \n",
       "</tr>\n",
       "</table>\n",
       "<table class=\"simpletable\">\n",
       "<tr>\n",
       "        <td></td>           <th>coef</th>     <th>std err</th>      <th>t</th>      <th>P>|t|</th>  <th>[0.025</th>    <th>0.975]</th>  \n",
       "</tr>\n",
       "<tr>\n",
       "  <th>Intercept</th>     <td> 1.062e+07</td> <td> 3.49e+06</td> <td>    3.046</td> <td> 0.002</td> <td> 3.78e+06</td> <td> 1.75e+07</td>\n",
       "</tr>\n",
       "<tr>\n",
       "  <th>sqft_lot</th>      <td>    0.0778</td> <td>    0.057</td> <td>    1.373</td> <td> 0.170</td> <td>   -0.033</td> <td>    0.189</td>\n",
       "</tr>\n",
       "<tr>\n",
       "  <th>sqft_living</th>   <td>  157.3833</td> <td>    5.234</td> <td>   30.070</td> <td> 0.000</td> <td>  147.124</td> <td>  167.643</td>\n",
       "</tr>\n",
       "<tr>\n",
       "  <th>sqft_above</th>    <td>   34.2446</td> <td>    5.203</td> <td>    6.581</td> <td> 0.000</td> <td>   24.045</td> <td>   44.444</td>\n",
       "</tr>\n",
       "<tr>\n",
       "  <th>zip_code</th>      <td> -611.7333</td> <td>   39.411</td> <td>  -15.522</td> <td> 0.000</td> <td> -688.984</td> <td> -534.482</td>\n",
       "</tr>\n",
       "<tr>\n",
       "  <th>bedrooms</th>      <td>-3.647e+04</td> <td> 2253.129</td> <td>  -16.187</td> <td> 0.000</td> <td>-4.09e+04</td> <td>-3.21e+04</td>\n",
       "</tr>\n",
       "<tr>\n",
       "  <th>view</th>          <td> 5.391e+04</td> <td> 2593.783</td> <td>   20.783</td> <td> 0.000</td> <td> 4.88e+04</td> <td>  5.9e+04</td>\n",
       "</tr>\n",
       "<tr>\n",
       "  <th>grade</th>         <td> 9.436e+04</td> <td> 2609.592</td> <td>   36.158</td> <td> 0.000</td> <td> 8.92e+04</td> <td> 9.95e+04</td>\n",
       "</tr>\n",
       "<tr>\n",
       "  <th>bathrooms</th>     <td> 4.628e+04</td> <td> 3913.104</td> <td>   11.828</td> <td> 0.000</td> <td> 3.86e+04</td> <td>  5.4e+04</td>\n",
       "</tr>\n",
       "<tr>\n",
       "  <th>yr_built</th>      <td>-2950.0996</td> <td>   82.450</td> <td>  -35.781</td> <td> 0.000</td> <td>-3111.711</td> <td>-2788.489</td>\n",
       "</tr>\n",
       "<tr>\n",
       "  <th>renovated</th>     <td>   13.0472</td> <td>    4.380</td> <td>    2.979</td> <td> 0.003</td> <td>    4.463</td> <td>   21.632</td>\n",
       "</tr>\n",
       "<tr>\n",
       "  <th>lat</th>           <td> 5.956e+05</td> <td> 1.29e+04</td> <td>   46.296</td> <td> 0.000</td> <td>  5.7e+05</td> <td> 6.21e+05</td>\n",
       "</tr>\n",
       "<tr>\n",
       "  <th>long</th>          <td> -2.15e+05</td> <td> 1.58e+04</td> <td>  -13.576</td> <td> 0.000</td> <td>-2.46e+05</td> <td>-1.84e+05</td>\n",
       "</tr>\n",
       "<tr>\n",
       "  <th>waterfront</th>    <td> 6.209e+05</td> <td>  2.1e+04</td> <td>   29.613</td> <td> 0.000</td> <td>  5.8e+05</td> <td> 6.62e+05</td>\n",
       "</tr>\n",
       "<tr>\n",
       "  <th>floors</th>        <td> 2174.0753</td> <td> 4335.629</td> <td>    0.501</td> <td> 0.616</td> <td>-6324.269</td> <td> 1.07e+04</td>\n",
       "</tr>\n",
       "<tr>\n",
       "  <th>sqft_living15</th> <td>   14.8537</td> <td>    4.163</td> <td>    3.568</td> <td> 0.000</td> <td>    6.693</td> <td>   23.015</td>\n",
       "</tr>\n",
       "<tr>\n",
       "  <th>sqft_lot15</th>    <td>   -0.3227</td> <td>    0.086</td> <td>   -3.739</td> <td> 0.000</td> <td>   -0.492</td> <td>   -0.154</td>\n",
       "</tr>\n",
       "</table>\n",
       "<table class=\"simpletable\">\n",
       "<tr>\n",
       "  <th>Omnibus:</th>       <td>13239.638</td> <th>  Durbin-Watson:     </th>  <td>   1.987</td>  \n",
       "</tr>\n",
       "<tr>\n",
       "  <th>Prob(Omnibus):</th>  <td> 0.000</td>   <th>  Jarque-Bera (JB):  </th> <td>1402185.130</td>\n",
       "</tr>\n",
       "<tr>\n",
       "  <th>Skew:</th>           <td> 3.600</td>   <th>  Prob(JB):          </th>  <td>    0.00</td>  \n",
       "</tr>\n",
       "<tr>\n",
       "  <th>Kurtosis:</th>       <td>49.144</td>   <th>  Cond. No.          </th>  <td>2.13e+08</td>  \n",
       "</tr>\n",
       "</table><br/><br/>Warnings:<br/>[1] Standard Errors assume that the covariance matrix of the errors is correctly specified.<br/>[2] The condition number is large, 2.13e+08. This might indicate that there are<br/>strong multicollinearity or other numerical problems."
      ],
      "text/plain": [
       "<class 'statsmodels.iolib.summary.Summary'>\n",
       "\"\"\"\n",
       "                            OLS Regression Results                            \n",
       "==============================================================================\n",
       "Dep. Variable:                  price   R-squared:                       0.699\n",
       "Model:                            OLS   Adj. R-squared:                  0.699\n",
       "Method:                 Least Squares   F-statistic:                     2242.\n",
       "Date:                Wed, 20 Nov 2019   Prob (F-statistic):               0.00\n",
       "Time:                        23:50:43   Log-Likelihood:            -2.1056e+05\n",
       "No. Observations:               15429   AIC:                         4.212e+05\n",
       "Df Residuals:                   15412   BIC:                         4.213e+05\n",
       "Df Model:                          16                                         \n",
       "Covariance Type:            nonrobust                                         \n",
       "=================================================================================\n",
       "                    coef    std err          t      P>|t|      [0.025      0.975]\n",
       "---------------------------------------------------------------------------------\n",
       "Intercept      1.062e+07   3.49e+06      3.046      0.002    3.78e+06    1.75e+07\n",
       "sqft_lot          0.0778      0.057      1.373      0.170      -0.033       0.189\n",
       "sqft_living     157.3833      5.234     30.070      0.000     147.124     167.643\n",
       "sqft_above       34.2446      5.203      6.581      0.000      24.045      44.444\n",
       "zip_code       -611.7333     39.411    -15.522      0.000    -688.984    -534.482\n",
       "bedrooms      -3.647e+04   2253.129    -16.187      0.000   -4.09e+04   -3.21e+04\n",
       "view           5.391e+04   2593.783     20.783      0.000    4.88e+04     5.9e+04\n",
       "grade          9.436e+04   2609.592     36.158      0.000    8.92e+04    9.95e+04\n",
       "bathrooms      4.628e+04   3913.104     11.828      0.000    3.86e+04     5.4e+04\n",
       "yr_built      -2950.0996     82.450    -35.781      0.000   -3111.711   -2788.489\n",
       "renovated        13.0472      4.380      2.979      0.003       4.463      21.632\n",
       "lat            5.956e+05   1.29e+04     46.296      0.000     5.7e+05    6.21e+05\n",
       "long           -2.15e+05   1.58e+04    -13.576      0.000   -2.46e+05   -1.84e+05\n",
       "waterfront     6.209e+05    2.1e+04     29.613      0.000     5.8e+05    6.62e+05\n",
       "floors         2174.0753   4335.629      0.501      0.616   -6324.269    1.07e+04\n",
       "sqft_living15    14.8537      4.163      3.568      0.000       6.693      23.015\n",
       "sqft_lot15       -0.3227      0.086     -3.739      0.000      -0.492      -0.154\n",
       "==============================================================================\n",
       "Omnibus:                    13239.638   Durbin-Watson:                   1.987\n",
       "Prob(Omnibus):                  0.000   Jarque-Bera (JB):          1402185.130\n",
       "Skew:                           3.600   Prob(JB):                         0.00\n",
       "Kurtosis:                      49.144   Cond. No.                     2.13e+08\n",
       "==============================================================================\n",
       "\n",
       "Warnings:\n",
       "[1] Standard Errors assume that the covariance matrix of the errors is correctly specified.\n",
       "[2] The condition number is large, 2.13e+08. This might indicate that there are\n",
       "strong multicollinearity or other numerical problems.\n",
       "\"\"\""
      ]
     },
     "execution_count": 147,
     "metadata": {},
     "output_type": "execute_result"
    }
   ],
   "source": [
    "first = ols(formula= formula, data = data_ols, missing = 'drop').fit()\n",
    "first.summary()"
   ]
  },
  {
   "cell_type": "code",
   "execution_count": 148,
   "metadata": {},
   "outputs": [
    {
     "data": {
      "image/png": "[encoded data removed]",
      "text/plain": [
       "<Figure size 432x288 with 1 Axes>"
      ]
     },
     "metadata": {
      "needs_background": "light"
     },
     "output_type": "display_data"
    }
   ],
   "source": [
    "res = first.resid\n",
    "fig = sm.qqplot(res)\n",
    "plt.title('First Model QQplot')\n",
    "plt.show()"
   ]
  },
  {
   "cell_type": "markdown",
   "metadata": {},
   "source": [
    "## Revised Model"
   ]
  },
  {
   "cell_type": "code",
   "execution_count": 149,
   "metadata": {},
   "outputs": [],
   "source": [
    "data_fin = pd.DataFrame([])\n",
    "#data_fin['sqft_lot'] = data['scaled_sqftlot']\n",
    "data_fin['sqft_living'] = data['scaled_sqftliving']\n",
    "#data_fin['sqft_above'] = data['scaled_sqftabove']\n",
    "data_fin['rooms'] = data['bedrooms'] + data['bathrooms']\n",
    "data_fin['view'] = data['view']\n",
    "data_fin['condition'] = data['condition']\n",
    "data_fin['grade'] = data['grade']\n",
    "data_fin['age_house'] = data['year_sold'] - data['yr_built']\n",
    "data_fin['renovated'] = data['scaled_yr_renovated']\n",
    "data_fin['lat'] = data['lat']\n",
    "data_fin['long'] = data['long']\n",
    "data_fin['waterfront'] = data['waterfront']\n",
    "data_fin['floors'] = data['floors']\n",
    "data_fin['sqft_living15'] = data['sqft_living15']\n",
    "data_fin['sqft_lot15'] = data['sqft_lot15']\n",
    "price = data['log_price']\n",
    "data_ols = pd.concat([price, data_fin, zip_dummies], axis=1)"
   ]
  },
  {
   "cell_type": "code",
   "execution_count": 150,
   "metadata": {},
   "outputs": [],
   "source": [
    "outcome = 'price'\n",
    "predictors = data_ols.drop('log_price', axis=1)\n",
    "pred_sum = \"+\".join(predictors.columns)\n",
    "formula = outcome + \"~\" + pred_sum\n"
   ]
  },
  {
   "cell_type": "code",
   "execution_count": 151,
   "metadata": {
    "scrolled": true
   },
   "outputs": [
    {
     "data": {
      "text/html": [
       "<table class=\"simpletable\">\n",
       "<caption>OLS Regression Results</caption>\n",
       "<tr>\n",
       "  <th>Dep. Variable:</th>          <td>price</td>      <th>  R-squared:         </th> <td>   0.878</td>\n",
       "</tr>\n",
       "<tr>\n",
       "  <th>Model:</th>                   <td>OLS</td>       <th>  Adj. R-squared:    </th> <td>   0.878</td>\n",
       "</tr>\n",
       "<tr>\n",
       "  <th>Method:</th>             <td>Least Squares</td>  <th>  F-statistic:       </th> <td>   1351.</td>\n",
       "</tr>\n",
       "<tr>\n",
       "  <th>Date:</th>             <td>Wed, 20 Nov 2019</td> <th>  Prob (F-statistic):</th>  <td>  0.00</td> \n",
       "</tr>\n",
       "<tr>\n",
       "  <th>Time:</th>                 <td>23:51:19</td>     <th>  Log-Likelihood:    </th> <td>  4251.6</td>\n",
       "</tr>\n",
       "<tr>\n",
       "  <th>No. Observations:</th>      <td> 15429</td>      <th>  AIC:               </th> <td>  -8337.</td>\n",
       "</tr>\n",
       "<tr>\n",
       "  <th>Df Residuals:</th>          <td> 15346</td>      <th>  BIC:               </th> <td>  -7703.</td>\n",
       "</tr>\n",
       "<tr>\n",
       "  <th>Df Model:</th>              <td>    82</td>      <th>                     </th>     <td> </td>   \n",
       "</tr>\n",
       "<tr>\n",
       "  <th>Covariance Type:</th>      <td>nonrobust</td>    <th>                     </th>     <td> </td>   \n",
       "</tr>\n",
       "</table>\n",
       "<table class=\"simpletable\">\n",
       "<tr>\n",
       "        <td></td>           <th>coef</th>     <th>std err</th>      <th>t</th>      <th>P>|t|</th>  <th>[0.025</th>    <th>0.975]</th>  \n",
       "</tr>\n",
       "<tr>\n",
       "  <th>Intercept</th>     <td> 1151.6050</td> <td>  132.960</td> <td>    8.661</td> <td> 0.000</td> <td>  890.987</td> <td> 1412.223</td>\n",
       "</tr>\n",
       "<tr>\n",
       "  <th>sqft_living</th>   <td>    0.4118</td> <td>    0.008</td> <td>   53.241</td> <td> 0.000</td> <td>    0.397</td> <td>    0.427</td>\n",
       "</tr>\n",
       "<tr>\n",
       "  <th>rooms</th>         <td>    0.0010</td> <td>    0.002</td> <td>    0.619</td> <td> 0.536</td> <td>   -0.002</td> <td>    0.004</td>\n",
       "</tr>\n",
       "<tr>\n",
       "  <th>view</th>          <td>    0.0585</td> <td>    0.002</td> <td>   24.731</td> <td> 0.000</td> <td>    0.054</td> <td>    0.063</td>\n",
       "</tr>\n",
       "<tr>\n",
       "  <th>condition</th>     <td>    0.0491</td> <td>    0.003</td> <td>   18.821</td> <td> 0.000</td> <td>    0.044</td> <td>    0.054</td>\n",
       "</tr>\n",
       "<tr>\n",
       "  <th>grade</th>         <td>    0.1042</td> <td>    0.002</td> <td>   43.888</td> <td> 0.000</td> <td>    0.100</td> <td>    0.109</td>\n",
       "</tr>\n",
       "<tr>\n",
       "  <th>age_house</th>     <td>    0.0017</td> <td>    0.000</td> <td>   13.119</td> <td> 0.000</td> <td>    0.001</td> <td>    0.002</td>\n",
       "</tr>\n",
       "<tr>\n",
       "  <th>renovated</th>     <td>    2.3437</td> <td>    0.260</td> <td>    9.014</td> <td> 0.000</td> <td>    1.834</td> <td>    2.853</td>\n",
       "</tr>\n",
       "<tr>\n",
       "  <th>lat</th>           <td>    0.4731</td> <td>    0.086</td> <td>    5.522</td> <td> 0.000</td> <td>    0.305</td> <td>    0.641</td>\n",
       "</tr>\n",
       "<tr>\n",
       "  <th>long</th>          <td>   -0.3123</td> <td>    0.063</td> <td>   -4.935</td> <td> 0.000</td> <td>   -0.436</td> <td>   -0.188</td>\n",
       "</tr>\n",
       "<tr>\n",
       "  <th>waterfront</th>    <td>    0.4913</td> <td>    0.019</td> <td>   25.540</td> <td> 0.000</td> <td>    0.454</td> <td>    0.529</td>\n",
       "</tr>\n",
       "<tr>\n",
       "  <th>floors</th>        <td>    0.0023</td> <td>    0.004</td> <td>    0.618</td> <td> 0.537</td> <td>   -0.005</td> <td>    0.010</td>\n",
       "</tr>\n",
       "<tr>\n",
       "  <th>sqft_living15</th> <td> 9.163e-05</td> <td> 3.88e-06</td> <td>   23.606</td> <td> 0.000</td> <td>  8.4e-05</td> <td> 9.92e-05</td>\n",
       "</tr>\n",
       "<tr>\n",
       "  <th>sqft_lot15</th>    <td> 8.402e-07</td> <td> 6.09e-08</td> <td>   13.793</td> <td> 0.000</td> <td> 7.21e-07</td> <td>  9.6e-07</td>\n",
       "</tr>\n",
       "<tr>\n",
       "  <th>zip_98002</th>     <td>    0.0198</td> <td>    0.020</td> <td>    1.013</td> <td> 0.311</td> <td>   -0.018</td> <td>    0.058</td>\n",
       "</tr>\n",
       "<tr>\n",
       "  <th>zip_98003</th>     <td>   -0.0045</td> <td>    0.017</td> <td>   -0.257</td> <td> 0.797</td> <td>   -0.039</td> <td>    0.030</td>\n",
       "</tr>\n",
       "<tr>\n",
       "  <th>zip_98004</th>     <td>    0.9926</td> <td>    0.032</td> <td>   31.099</td> <td> 0.000</td> <td>    0.930</td> <td>    1.055</td>\n",
       "</tr>\n",
       "<tr>\n",
       "  <th>zip_98005</th>     <td>    0.6105</td> <td>    0.034</td> <td>   17.997</td> <td> 0.000</td> <td>    0.544</td> <td>    0.677</td>\n",
       "</tr>\n",
       "<tr>\n",
       "  <th>zip_98006</th>     <td>    0.5376</td> <td>    0.028</td> <td>   19.204</td> <td> 0.000</td> <td>    0.483</td> <td>    0.592</td>\n",
       "</tr>\n",
       "<tr>\n",
       "  <th>zip_98007</th>     <td>    0.5378</td> <td>    0.035</td> <td>   15.227</td> <td> 0.000</td> <td>    0.469</td> <td>    0.607</td>\n",
       "</tr>\n",
       "<tr>\n",
       "  <th>zip_98008</th>     <td>    0.5483</td> <td>    0.033</td> <td>   16.370</td> <td> 0.000</td> <td>    0.483</td> <td>    0.614</td>\n",
       "</tr>\n",
       "<tr>\n",
       "  <th>zip_98010</th>     <td>    0.3378</td> <td>    0.031</td> <td>   11.059</td> <td> 0.000</td> <td>    0.278</td> <td>    0.398</td>\n",
       "</tr>\n",
       "<tr>\n",
       "  <th>zip_98011</th>     <td>    0.2480</td> <td>    0.044</td> <td>    5.699</td> <td> 0.000</td> <td>    0.163</td> <td>    0.333</td>\n",
       "</tr>\n",
       "<tr>\n",
       "  <th>zip_98014</th>     <td>    0.3161</td> <td>    0.048</td> <td>    6.622</td> <td> 0.000</td> <td>    0.223</td> <td>    0.410</td>\n",
       "</tr>\n",
       "<tr>\n",
       "  <th>zip_98019</th>     <td>    0.2235</td> <td>    0.047</td> <td>    4.717</td> <td> 0.000</td> <td>    0.131</td> <td>    0.316</td>\n",
       "</tr>\n",
       "<tr>\n",
       "  <th>zip_98022</th>     <td>    0.1979</td> <td>    0.026</td> <td>    7.554</td> <td> 0.000</td> <td>    0.147</td> <td>    0.249</td>\n",
       "</tr>\n",
       "<tr>\n",
       "  <th>zip_98023</th>     <td>   -0.0552</td> <td>    0.016</td> <td>   -3.380</td> <td> 0.001</td> <td>   -0.087</td> <td>   -0.023</td>\n",
       "</tr>\n",
       "<tr>\n",
       "  <th>zip_98024</th>     <td>    0.4570</td> <td>    0.042</td> <td>   10.822</td> <td> 0.000</td> <td>    0.374</td> <td>    0.540</td>\n",
       "</tr>\n",
       "<tr>\n",
       "  <th>zip_98027</th>     <td>    0.4672</td> <td>    0.029</td> <td>   16.170</td> <td> 0.000</td> <td>    0.411</td> <td>    0.524</td>\n",
       "</tr>\n",
       "<tr>\n",
       "  <th>zip_98028</th>     <td>    0.2124</td> <td>    0.042</td> <td>    5.036</td> <td> 0.000</td> <td>    0.130</td> <td>    0.295</td>\n",
       "</tr>\n",
       "<tr>\n",
       "  <th>zip_98029</th>     <td>    0.5590</td> <td>    0.033</td> <td>   16.971</td> <td> 0.000</td> <td>    0.494</td> <td>    0.624</td>\n",
       "</tr>\n",
       "<tr>\n",
       "  <th>zip_98030</th>     <td>    0.0614</td> <td>    0.020</td> <td>    3.145</td> <td> 0.002</td> <td>    0.023</td> <td>    0.100</td>\n",
       "</tr>\n",
       "<tr>\n",
       "  <th>zip_98031</th>     <td>    0.0603</td> <td>    0.020</td> <td>    2.978</td> <td> 0.003</td> <td>    0.021</td> <td>    0.100</td>\n",
       "</tr>\n",
       "<tr>\n",
       "  <th>zip_98032</th>     <td>   -0.0516</td> <td>    0.023</td> <td>   -2.275</td> <td> 0.023</td> <td>   -0.096</td> <td>   -0.007</td>\n",
       "</tr>\n",
       "<tr>\n",
       "  <th>zip_98033</th>     <td>    0.6322</td> <td>    0.036</td> <td>   17.435</td> <td> 0.000</td> <td>    0.561</td> <td>    0.703</td>\n",
       "</tr>\n",
       "<tr>\n",
       "  <th>zip_98034</th>     <td>    0.3782</td> <td>    0.039</td> <td>    9.740</td> <td> 0.000</td> <td>    0.302</td> <td>    0.454</td>\n",
       "</tr>\n",
       "<tr>\n",
       "  <th>zip_98038</th>     <td>    0.2286</td> <td>    0.022</td> <td>   10.385</td> <td> 0.000</td> <td>    0.185</td> <td>    0.272</td>\n",
       "</tr>\n",
       "<tr>\n",
       "  <th>zip_98039</th>     <td>    1.1549</td> <td>    0.043</td> <td>   26.669</td> <td> 0.000</td> <td>    1.070</td> <td>    1.240</td>\n",
       "</tr>\n",
       "<tr>\n",
       "  <th>zip_98040</th>     <td>    0.7551</td> <td>    0.028</td> <td>   26.680</td> <td> 0.000</td> <td>    0.700</td> <td>    0.811</td>\n",
       "</tr>\n",
       "<tr>\n",
       "  <th>zip_98042</th>     <td>    0.1029</td> <td>    0.019</td> <td>    5.524</td> <td> 0.000</td> <td>    0.066</td> <td>    0.139</td>\n",
       "</tr>\n",
       "<tr>\n",
       "  <th>zip_98045</th>     <td>    0.4446</td> <td>    0.041</td> <td>   10.887</td> <td> 0.000</td> <td>    0.365</td> <td>    0.525</td>\n",
       "</tr>\n",
       "<tr>\n",
       "  <th>zip_98052</th>     <td>    0.5082</td> <td>    0.037</td> <td>   13.687</td> <td> 0.000</td> <td>    0.435</td> <td>    0.581</td>\n",
       "</tr>\n",
       "<tr>\n",
       "  <th>zip_98053</th>     <td>    0.5138</td> <td>    0.040</td> <td>   12.882</td> <td> 0.000</td> <td>    0.436</td> <td>    0.592</td>\n",
       "</tr>\n",
       "<tr>\n",
       "  <th>zip_98055</th>     <td>    0.0971</td> <td>    0.022</td> <td>    4.321</td> <td> 0.000</td> <td>    0.053</td> <td>    0.141</td>\n",
       "</tr>\n",
       "<tr>\n",
       "  <th>zip_98056</th>     <td>    0.2631</td> <td>    0.024</td> <td>   10.792</td> <td> 0.000</td> <td>    0.215</td> <td>    0.311</td>\n",
       "</tr>\n",
       "<tr>\n",
       "  <th>zip_98058</th>     <td>    0.1415</td> <td>    0.021</td> <td>    6.604</td> <td> 0.000</td> <td>    0.100</td> <td>    0.184</td>\n",
       "</tr>\n",
       "<tr>\n",
       "  <th>zip_98059</th>     <td>    0.3044</td> <td>    0.024</td> <td>   12.585</td> <td> 0.000</td> <td>    0.257</td> <td>    0.352</td>\n",
       "</tr>\n",
       "<tr>\n",
       "  <th>zip_98065</th>     <td>    0.4421</td> <td>    0.038</td> <td>   11.760</td> <td> 0.000</td> <td>    0.368</td> <td>    0.516</td>\n",
       "</tr>\n",
       "<tr>\n",
       "  <th>zip_98070</th>     <td>    0.2251</td> <td>    0.028</td> <td>    8.089</td> <td> 0.000</td> <td>    0.171</td> <td>    0.280</td>\n",
       "</tr>\n",
       "<tr>\n",
       "  <th>zip_98072</th>     <td>    0.3234</td> <td>    0.043</td> <td>    7.474</td> <td> 0.000</td> <td>    0.239</td> <td>    0.408</td>\n",
       "</tr>\n",
       "<tr>\n",
       "  <th>zip_98074</th>     <td>    0.4789</td> <td>    0.035</td> <td>   13.546</td> <td> 0.000</td> <td>    0.410</td> <td>    0.548</td>\n",
       "</tr>\n",
       "<tr>\n",
       "  <th>zip_98075</th>     <td>    0.5016</td> <td>    0.034</td> <td>   14.750</td> <td> 0.000</td> <td>    0.435</td> <td>    0.568</td>\n",
       "</tr>\n",
       "<tr>\n",
       "  <th>zip_98077</th>     <td>    0.3182</td> <td>    0.045</td> <td>    7.080</td> <td> 0.000</td> <td>    0.230</td> <td>    0.406</td>\n",
       "</tr>\n",
       "<tr>\n",
       "  <th>zip_98092</th>     <td>    0.0719</td> <td>    0.018</td> <td>    4.072</td> <td> 0.000</td> <td>    0.037</td> <td>    0.107</td>\n",
       "</tr>\n",
       "<tr>\n",
       "  <th>zip_98102</th>     <td>    0.7640</td> <td>    0.038</td> <td>   19.889</td> <td> 0.000</td> <td>    0.689</td> <td>    0.839</td>\n",
       "</tr>\n",
       "<tr>\n",
       "  <th>zip_98103</th>     <td>    0.5954</td> <td>    0.035</td> <td>   16.996</td> <td> 0.000</td> <td>    0.527</td> <td>    0.664</td>\n",
       "</tr>\n",
       "<tr>\n",
       "  <th>zip_98105</th>     <td>    0.7310</td> <td>    0.036</td> <td>   20.394</td> <td> 0.000</td> <td>    0.661</td> <td>    0.801</td>\n",
       "</tr>\n",
       "<tr>\n",
       "  <th>zip_98106</th>     <td>    0.2149</td> <td>    0.026</td> <td>    8.214</td> <td> 0.000</td> <td>    0.164</td> <td>    0.266</td>\n",
       "</tr>\n",
       "<tr>\n",
       "  <th>zip_98107</th>     <td>    0.6232</td> <td>    0.036</td> <td>   17.389</td> <td> 0.000</td> <td>    0.553</td> <td>    0.693</td>\n",
       "</tr>\n",
       "<tr>\n",
       "  <th>zip_98108</th>     <td>    0.2278</td> <td>    0.029</td> <td>    7.938</td> <td> 0.000</td> <td>    0.172</td> <td>    0.284</td>\n",
       "</tr>\n",
       "<tr>\n",
       "  <th>zip_98109</th>     <td>    0.7410</td> <td>    0.037</td> <td>   19.792</td> <td> 0.000</td> <td>    0.668</td> <td>    0.814</td>\n",
       "</tr>\n",
       "<tr>\n",
       "  <th>zip_98112</th>     <td>    0.8611</td> <td>    0.033</td> <td>   26.222</td> <td> 0.000</td> <td>    0.797</td> <td>    0.925</td>\n",
       "</tr>\n",
       "<tr>\n",
       "  <th>zip_98115</th>     <td>    0.6142</td> <td>    0.036</td> <td>   17.241</td> <td> 0.000</td> <td>    0.544</td> <td>    0.684</td>\n",
       "</tr>\n",
       "<tr>\n",
       "  <th>zip_98116</th>     <td>    0.5773</td> <td>    0.029</td> <td>   19.972</td> <td> 0.000</td> <td>    0.521</td> <td>    0.634</td>\n",
       "</tr>\n",
       "<tr>\n",
       "  <th>zip_98117</th>     <td>    0.5815</td> <td>    0.036</td> <td>   16.147</td> <td> 0.000</td> <td>    0.511</td> <td>    0.652</td>\n",
       "</tr>\n",
       "<tr>\n",
       "  <th>zip_98118</th>     <td>    0.3520</td> <td>    0.025</td> <td>   13.866</td> <td> 0.000</td> <td>    0.302</td> <td>    0.402</td>\n",
       "</tr>\n",
       "<tr>\n",
       "  <th>zip_98119</th>     <td>    0.7659</td> <td>    0.035</td> <td>   21.746</td> <td> 0.000</td> <td>    0.697</td> <td>    0.835</td>\n",
       "</tr>\n",
       "<tr>\n",
       "  <th>zip_98122</th>     <td>    0.6143</td> <td>    0.031</td> <td>   19.602</td> <td> 0.000</td> <td>    0.553</td> <td>    0.676</td>\n",
       "</tr>\n",
       "<tr>\n",
       "  <th>zip_98125</th>     <td>    0.3542</td> <td>    0.038</td> <td>    9.218</td> <td> 0.000</td> <td>    0.279</td> <td>    0.429</td>\n",
       "</tr>\n",
       "<tr>\n",
       "  <th>zip_98126</th>     <td>    0.4141</td> <td>    0.027</td> <td>   15.455</td> <td> 0.000</td> <td>    0.362</td> <td>    0.467</td>\n",
       "</tr>\n",
       "<tr>\n",
       "  <th>zip_98133</th>     <td>    0.2233</td> <td>    0.040</td> <td>    5.618</td> <td> 0.000</td> <td>    0.145</td> <td>    0.301</td>\n",
       "</tr>\n",
       "<tr>\n",
       "  <th>zip_98136</th>     <td>    0.5264</td> <td>    0.027</td> <td>   19.297</td> <td> 0.000</td> <td>    0.473</td> <td>    0.580</td>\n",
       "</tr>\n",
       "<tr>\n",
       "  <th>zip_98144</th>     <td>    0.4988</td> <td>    0.029</td> <td>   17.152</td> <td> 0.000</td> <td>    0.442</td> <td>    0.556</td>\n",
       "</tr>\n",
       "<tr>\n",
       "  <th>zip_98146</th>     <td>    0.1602</td> <td>    0.024</td> <td>    6.558</td> <td> 0.000</td> <td>    0.112</td> <td>    0.208</td>\n",
       "</tr>\n",
       "<tr>\n",
       "  <th>zip_98148</th>     <td>    0.0701</td> <td>    0.033</td> <td>    2.120</td> <td> 0.034</td> <td>    0.005</td> <td>    0.135</td>\n",
       "</tr>\n",
       "<tr>\n",
       "  <th>zip_98155</th>     <td>    0.2045</td> <td>    0.041</td> <td>    4.950</td> <td> 0.000</td> <td>    0.124</td> <td>    0.285</td>\n",
       "</tr>\n",
       "<tr>\n",
       "  <th>zip_98166</th>     <td>    0.2208</td> <td>    0.022</td> <td>    9.842</td> <td> 0.000</td> <td>    0.177</td> <td>    0.265</td>\n",
       "</tr>\n",
       "<tr>\n",
       "  <th>zip_98168</th>     <td>    0.0058</td> <td>    0.024</td> <td>    0.244</td> <td> 0.807</td> <td>   -0.041</td> <td>    0.052</td>\n",
       "</tr>\n",
       "<tr>\n",
       "  <th>zip_98177</th>     <td>    0.3524</td> <td>    0.041</td> <td>    8.516</td> <td> 0.000</td> <td>    0.271</td> <td>    0.433</td>\n",
       "</tr>\n",
       "<tr>\n",
       "  <th>zip_98178</th>     <td>    0.0726</td> <td>    0.024</td> <td>    2.969</td> <td> 0.003</td> <td>    0.025</td> <td>    0.120</td>\n",
       "</tr>\n",
       "<tr>\n",
       "  <th>zip_98188</th>     <td>    0.0280</td> <td>    0.025</td> <td>    1.111</td> <td> 0.267</td> <td>   -0.021</td> <td>    0.078</td>\n",
       "</tr>\n",
       "<tr>\n",
       "  <th>zip_98198</th>     <td>    0.0204</td> <td>    0.019</td> <td>    1.066</td> <td> 0.286</td> <td>   -0.017</td> <td>    0.058</td>\n",
       "</tr>\n",
       "<tr>\n",
       "  <th>zip_98199</th>     <td>    0.6355</td> <td>    0.034</td> <td>   18.521</td> <td> 0.000</td> <td>    0.568</td> <td>    0.703</td>\n",
       "</tr>\n",
       "</table>\n",
       "<table class=\"simpletable\">\n",
       "<tr>\n",
       "  <th>Omnibus:</th>       <td>933.426</td> <th>  Durbin-Watson:     </th> <td>   2.010</td>\n",
       "</tr>\n",
       "<tr>\n",
       "  <th>Prob(Omnibus):</th> <td> 0.000</td>  <th>  Jarque-Bera (JB):  </th> <td>4128.304</td>\n",
       "</tr>\n",
       "<tr>\n",
       "  <th>Skew:</th>          <td>-0.068</td>  <th>  Prob(JB):          </th> <td>    0.00</td>\n",
       "</tr>\n",
       "<tr>\n",
       "  <th>Kurtosis:</th>      <td> 5.530</td>  <th>  Cond. No.          </th> <td>2.75e+09</td>\n",
       "</tr>\n",
       "</table><br/><br/>Warnings:<br/>[1] Standard Errors assume that the covariance matrix of the errors is correctly specified.<br/>[2] The condition number is large, 2.75e+09. This might indicate that there are<br/>strong multicollinearity or other numerical problems."
      ],
      "text/plain": [
       "<class 'statsmodels.iolib.summary.Summary'>\n",
       "\"\"\"\n",
       "                            OLS Regression Results                            \n",
       "==============================================================================\n",
       "Dep. Variable:                  price   R-squared:                       0.878\n",
       "Model:                            OLS   Adj. R-squared:                  0.878\n",
       "Method:                 Least Squares   F-statistic:                     1351.\n",
       "Date:                Wed, 20 Nov 2019   Prob (F-statistic):               0.00\n",
       "Time:                        23:51:19   Log-Likelihood:                 4251.6\n",
       "No. Observations:               15429   AIC:                            -8337.\n",
       "Df Residuals:                   15346   BIC:                            -7703.\n",
       "Df Model:                          82                                         \n",
       "Covariance Type:            nonrobust                                         \n",
       "=================================================================================\n",
       "                    coef    std err          t      P>|t|      [0.025      0.975]\n",
       "---------------------------------------------------------------------------------\n",
       "Intercept      1151.6050    132.960      8.661      0.000     890.987    1412.223\n",
       "sqft_living       0.4118      0.008     53.241      0.000       0.397       0.427\n",
       "rooms             0.0010      0.002      0.619      0.536      -0.002       0.004\n",
       "view              0.0585      0.002     24.731      0.000       0.054       0.063\n",
       "condition         0.0491      0.003     18.821      0.000       0.044       0.054\n",
       "grade             0.1042      0.002     43.888      0.000       0.100       0.109\n",
       "age_house         0.0017      0.000     13.119      0.000       0.001       0.002\n",
       "renovated         2.3437      0.260      9.014      0.000       1.834       2.853\n",
       "lat               0.4731      0.086      5.522      0.000       0.305       0.641\n",
       "long             -0.3123      0.063     -4.935      0.000      -0.436      -0.188\n",
       "waterfront        0.4913      0.019     25.540      0.000       0.454       0.529\n",
       "floors            0.0023      0.004      0.618      0.537      -0.005       0.010\n",
       "sqft_living15  9.163e-05   3.88e-06     23.606      0.000     8.4e-05    9.92e-05\n",
       "sqft_lot15     8.402e-07   6.09e-08     13.793      0.000    7.21e-07     9.6e-07\n",
       "zip_98002         0.0198      0.020      1.013      0.311      -0.018       0.058\n",
       "zip_98003        -0.0045      0.017     -0.257      0.797      -0.039       0.030\n",
       "zip_98004         0.9926      0.032     31.099      0.000       0.930       1.055\n",
       "zip_98005         0.6105      0.034     17.997      0.000       0.544       0.677\n",
       "zip_98006         0.5376      0.028     19.204      0.000       0.483       0.592\n",
       "zip_98007         0.5378      0.035     15.227      0.000       0.469       0.607\n",
       "zip_98008         0.5483      0.033     16.370      0.000       0.483       0.614\n",
       "zip_98010         0.3378      0.031     11.059      0.000       0.278       0.398\n",
       "zip_98011         0.2480      0.044      5.699      0.000       0.163       0.333\n",
       "zip_98014         0.3161      0.048      6.622      0.000       0.223       0.410\n",
       "zip_98019         0.2235      0.047      4.717      0.000       0.131       0.316\n",
       "zip_98022         0.1979      0.026      7.554      0.000       0.147       0.249\n",
       "zip_98023        -0.0552      0.016     -3.380      0.001      -0.087      -0.023\n",
       "zip_98024         0.4570      0.042     10.822      0.000       0.374       0.540\n",
       "zip_98027         0.4672      0.029     16.170      0.000       0.411       0.524\n",
       "zip_98028         0.2124      0.042      5.036      0.000       0.130       0.295\n",
       "zip_98029         0.5590      0.033     16.971      0.000       0.494       0.624\n",
       "zip_98030         0.0614      0.020      3.145      0.002       0.023       0.100\n",
       "zip_98031         0.0603      0.020      2.978      0.003       0.021       0.100\n",
       "zip_98032        -0.0516      0.023     -2.275      0.023      -0.096      -0.007\n",
       "zip_98033         0.6322      0.036     17.435      0.000       0.561       0.703\n",
       "zip_98034         0.3782      0.039      9.740      0.000       0.302       0.454\n",
       "zip_98038         0.2286      0.022     10.385      0.000       0.185       0.272\n",
       "zip_98039         1.1549      0.043     26.669      0.000       1.070       1.240\n",
       "zip_98040         0.7551      0.028     26.680      0.000       0.700       0.811\n",
       "zip_98042         0.1029      0.019      5.524      0.000       0.066       0.139\n",
       "zip_98045         0.4446      0.041     10.887      0.000       0.365       0.525\n",
       "zip_98052         0.5082      0.037     13.687      0.000       0.435       0.581\n",
       "zip_98053         0.5138      0.040     12.882      0.000       0.436       0.592\n",
       "zip_98055         0.0971      0.022      4.321      0.000       0.053       0.141\n",
       "zip_98056         0.2631      0.024     10.792      0.000       0.215       0.311\n",
       "zip_98058         0.1415      0.021      6.604      0.000       0.100       0.184\n",
       "zip_98059         0.3044      0.024     12.585      0.000       0.257       0.352\n",
       "zip_98065         0.4421      0.038     11.760      0.000       0.368       0.516\n",
       "zip_98070         0.2251      0.028      8.089      0.000       0.171       0.280\n",
       "zip_98072         0.3234      0.043      7.474      0.000       0.239       0.408\n",
       "zip_98074         0.4789      0.035     13.546      0.000       0.410       0.548\n",
       "zip_98075         0.5016      0.034     14.750      0.000       0.435       0.568\n",
       "zip_98077         0.3182      0.045      7.080      0.000       0.230       0.406\n",
       "zip_98092         0.0719      0.018      4.072      0.000       0.037       0.107\n",
       "zip_98102         0.7640      0.038     19.889      0.000       0.689       0.839\n",
       "zip_98103         0.5954      0.035     16.996      0.000       0.527       0.664\n",
       "zip_98105         0.7310      0.036     20.394      0.000       0.661       0.801\n",
       "zip_98106         0.2149      0.026      8.214      0.000       0.164       0.266\n",
       "zip_98107         0.6232      0.036     17.389      0.000       0.553       0.693\n",
       "zip_98108         0.2278      0.029      7.938      0.000       0.172       0.284\n",
       "zip_98109         0.7410      0.037     19.792      0.000       0.668       0.814\n",
       "zip_98112         0.8611      0.033     26.222      0.000       0.797       0.925\n",
       "zip_98115         0.6142      0.036     17.241      0.000       0.544       0.684\n",
       "zip_98116         0.5773      0.029     19.972      0.000       0.521       0.634\n",
       "zip_98117         0.5815      0.036     16.147      0.000       0.511       0.652\n",
       "zip_98118         0.3520      0.025     13.866      0.000       0.302       0.402\n",
       "zip_98119         0.7659      0.035     21.746      0.000       0.697       0.835\n",
       "zip_98122         0.6143      0.031     19.602      0.000       0.553       0.676\n",
       "zip_98125         0.3542      0.038      9.218      0.000       0.279       0.429\n",
       "zip_98126         0.4141      0.027     15.455      0.000       0.362       0.467\n",
       "zip_98133         0.2233      0.040      5.618      0.000       0.145       0.301\n",
       "zip_98136         0.5264      0.027     19.297      0.000       0.473       0.580\n",
       "zip_98144         0.4988      0.029     17.152      0.000       0.442       0.556\n",
       "zip_98146         0.1602      0.024      6.558      0.000       0.112       0.208\n",
       "zip_98148         0.0701      0.033      2.120      0.034       0.005       0.135\n",
       "zip_98155         0.2045      0.041      4.950      0.000       0.124       0.285\n",
       "zip_98166         0.2208      0.022      9.842      0.000       0.177       0.265\n",
       "zip_98168         0.0058      0.024      0.244      0.807      -0.041       0.052\n",
       "zip_98177         0.3524      0.041      8.516      0.000       0.271       0.433\n",
       "zip_98178         0.0726      0.024      2.969      0.003       0.025       0.120\n",
       "zip_98188         0.0280      0.025      1.111      0.267      -0.021       0.078\n",
       "zip_98198         0.0204      0.019      1.066      0.286      -0.017       0.058\n",
       "zip_98199         0.6355      0.034     18.521      0.000       0.568       0.703\n",
       "==============================================================================\n",
       "Omnibus:                      933.426   Durbin-Watson:                   2.010\n",
       "Prob(Omnibus):                  0.000   Jarque-Bera (JB):             4128.304\n",
       "Skew:                          -0.068   Prob(JB):                         0.00\n",
       "Kurtosis:                       5.530   Cond. No.                     2.75e+09\n",
       "==============================================================================\n",
       "\n",
       "Warnings:\n",
       "[1] Standard Errors assume that the covariance matrix of the errors is correctly specified.\n",
       "[2] The condition number is large, 2.75e+09. This might indicate that there are\n",
       "strong multicollinearity or other numerical problems.\n",
       "\"\"\""
      ]
     },
     "execution_count": 151,
     "metadata": {},
     "output_type": "execute_result"
    }
   ],
   "source": [
    "second = ols(formula= formula, data = data_ols, missing = 'drop').fit()\n",
    "second.summary()"
   ]
  },
  {
   "cell_type": "code",
   "execution_count": 166,
   "metadata": {},
   "outputs": [
    {
     "data": {
      "image/png": "[encoded data removed]",
      "text/plain": [
       "<Figure size 432x288 with 1 Axes>"
      ]
     },
     "metadata": {
      "needs_background": "light"
     },
     "output_type": "display_data"
    }
   ],
   "source": [
    "res = second.resid\n",
    "fig=sm.qqplot(res)\n",
    "plt.title('Second Model QQplot')\n",
    "plt.show()"
   ]
  },
  {
   "cell_type": "markdown",
   "metadata": {},
   "source": [
    "While the R-squared score went up markedly, some of the variables have p-values that are not statistically significant. The combination of columns to form the room column will be eliminated in the next model and replaced with the bedrooms column. The decision to not include bathrooms is because it is highly correlated with the sqft_living item."
   ]
  },
  {
   "cell_type": "markdown",
   "metadata": {},
   "source": [
    "## Final Model"
   ]
  },
  {
   "cell_type": "code",
   "execution_count": 153,
   "metadata": {},
   "outputs": [],
   "source": [
    "data_fin = pd.DataFrame([])\n",
    "#data_fin['sqft_lot'] = data['scaled_sqftlot']\n",
    "data_fin['sqft_living'] = data['scaled_sqftliving']\n",
    "#data_fin['sqft_above'] = data['scaled_sqftabove']\n",
    "data_fin['bathrooms'] = data['bathrooms']\n",
    "data_fin['view'] = data['view']\n",
    "data_fin['condition'] = data['condition']\n",
    "data_fin['grade'] = data['grade']\n",
    "data_fin['age_house'] = data['year_sold'] - data['yr_built']\n",
    "data_fin['renovated'] = data['scaled_yr_renovated']\n",
    "data_fin['lat'] = data['lat']\n",
    "data_fin['long'] = data['long']\n",
    "data_fin['waterfront'] = data['waterfront']\n",
    "data_fin['sqft_living15'] = data['sqft_living15']\n",
    "data_fin['sqft_lot15'] = data['sqft_lot15']\n",
    "price = data['log_price']\n",
    "data_ols = pd.concat([price, data_fin, zip_dummies], axis=1)"
   ]
  },
  {
   "cell_type": "code",
   "execution_count": 154,
   "metadata": {},
   "outputs": [],
   "source": [
    "outcome = 'price'\n",
    "predictors = data_ols.drop('log_price', axis=1)\n",
    "pred_sum = \"+\".join(predictors.columns)\n",
    "formula = outcome + \"~\" + pred_sum\n"
   ]
  },
  {
   "cell_type": "code",
   "execution_count": 155,
   "metadata": {
    "scrolled": true
   },
   "outputs": [
    {
     "data": {
      "text/html": [
       "<table class=\"simpletable\">\n",
       "<caption>OLS Regression Results</caption>\n",
       "<tr>\n",
       "  <th>Dep. Variable:</th>          <td>price</td>      <th>  R-squared:         </th> <td>   0.879</td>\n",
       "</tr>\n",
       "<tr>\n",
       "  <th>Model:</th>                   <td>OLS</td>       <th>  Adj. R-squared:    </th> <td>   0.878</td>\n",
       "</tr>\n",
       "<tr>\n",
       "  <th>Method:</th>             <td>Least Squares</td>  <th>  F-statistic:       </th> <td>   1374.</td>\n",
       "</tr>\n",
       "<tr>\n",
       "  <th>Date:</th>             <td>Wed, 20 Nov 2019</td> <th>  Prob (F-statistic):</th>  <td>  0.00</td> \n",
       "</tr>\n",
       "<tr>\n",
       "  <th>Time:</th>                 <td>23:52:49</td>     <th>  Log-Likelihood:    </th> <td>  4284.9</td>\n",
       "</tr>\n",
       "<tr>\n",
       "  <th>No. Observations:</th>      <td> 15429</td>      <th>  AIC:               </th> <td>  -8406.</td>\n",
       "</tr>\n",
       "<tr>\n",
       "  <th>Df Residuals:</th>          <td> 15347</td>      <th>  BIC:               </th> <td>  -7779.</td>\n",
       "</tr>\n",
       "<tr>\n",
       "  <th>Df Model:</th>              <td>    81</td>      <th>                     </th>     <td> </td>   \n",
       "</tr>\n",
       "<tr>\n",
       "  <th>Covariance Type:</th>      <td>nonrobust</td>    <th>                     </th>     <td> </td>   \n",
       "</tr>\n",
       "</table>\n",
       "<table class=\"simpletable\">\n",
       "<tr>\n",
       "        <td></td>           <th>coef</th>     <th>std err</th>      <th>t</th>      <th>P>|t|</th>  <th>[0.025</th>    <th>0.975]</th>  \n",
       "</tr>\n",
       "<tr>\n",
       "  <th>Intercept</th>     <td>  995.5052</td> <td>  133.513</td> <td>    7.456</td> <td> 0.000</td> <td>  733.804</td> <td> 1257.207</td>\n",
       "</tr>\n",
       "<tr>\n",
       "  <th>sqft_living</th>   <td>    0.3843</td> <td>    0.007</td> <td>   54.452</td> <td> 0.000</td> <td>    0.371</td> <td>    0.398</td>\n",
       "</tr>\n",
       "<tr>\n",
       "  <th>bathrooms</th>     <td>    0.0280</td> <td>    0.003</td> <td>    8.197</td> <td> 0.000</td> <td>    0.021</td> <td>    0.035</td>\n",
       "</tr>\n",
       "<tr>\n",
       "  <th>view</th>          <td>    0.0578</td> <td>    0.002</td> <td>   24.533</td> <td> 0.000</td> <td>    0.053</td> <td>    0.062</td>\n",
       "</tr>\n",
       "<tr>\n",
       "  <th>condition</th>     <td>    0.0476</td> <td>    0.003</td> <td>   18.286</td> <td> 0.000</td> <td>    0.042</td> <td>    0.053</td>\n",
       "</tr>\n",
       "<tr>\n",
       "  <th>grade</th>         <td>    0.1032</td> <td>    0.002</td> <td>   43.960</td> <td> 0.000</td> <td>    0.099</td> <td>    0.108</td>\n",
       "</tr>\n",
       "<tr>\n",
       "  <th>age_house</th>     <td>    0.0018</td> <td>    0.000</td> <td>   13.900</td> <td> 0.000</td> <td>    0.002</td> <td>    0.002</td>\n",
       "</tr>\n",
       "<tr>\n",
       "  <th>renovated</th>     <td>    2.0386</td> <td>    0.261</td> <td>    7.807</td> <td> 0.000</td> <td>    1.527</td> <td>    2.550</td>\n",
       "</tr>\n",
       "<tr>\n",
       "  <th>lat</th>           <td>    0.4790</td> <td>    0.085</td> <td>    5.606</td> <td> 0.000</td> <td>    0.312</td> <td>    0.646</td>\n",
       "</tr>\n",
       "<tr>\n",
       "  <th>long</th>          <td>   -0.3100</td> <td>    0.063</td> <td>   -4.910</td> <td> 0.000</td> <td>   -0.434</td> <td>   -0.186</td>\n",
       "</tr>\n",
       "<tr>\n",
       "  <th>waterfront</th>    <td>    0.4886</td> <td>    0.019</td> <td>   25.470</td> <td> 0.000</td> <td>    0.451</td> <td>    0.526</td>\n",
       "</tr>\n",
       "<tr>\n",
       "  <th>sqft_living15</th> <td> 9.171e-05</td> <td> 3.87e-06</td> <td>   23.694</td> <td> 0.000</td> <td> 8.41e-05</td> <td> 9.93e-05</td>\n",
       "</tr>\n",
       "<tr>\n",
       "  <th>sqft_lot15</th>    <td> 8.471e-07</td> <td> 6.06e-08</td> <td>   13.974</td> <td> 0.000</td> <td> 7.28e-07</td> <td> 9.66e-07</td>\n",
       "</tr>\n",
       "<tr>\n",
       "  <th>zip_98002</th>     <td>    0.0173</td> <td>    0.019</td> <td>    0.889</td> <td> 0.374</td> <td>   -0.021</td> <td>    0.055</td>\n",
       "</tr>\n",
       "<tr>\n",
       "  <th>zip_98003</th>     <td>   -0.0054</td> <td>    0.017</td> <td>   -0.313</td> <td> 0.754</td> <td>   -0.039</td> <td>    0.029</td>\n",
       "</tr>\n",
       "<tr>\n",
       "  <th>zip_98004</th>     <td>    0.9878</td> <td>    0.032</td> <td>   31.022</td> <td> 0.000</td> <td>    0.925</td> <td>    1.050</td>\n",
       "</tr>\n",
       "<tr>\n",
       "  <th>zip_98005</th>     <td>    0.6071</td> <td>    0.034</td> <td>   17.935</td> <td> 0.000</td> <td>    0.541</td> <td>    0.673</td>\n",
       "</tr>\n",
       "<tr>\n",
       "  <th>zip_98006</th>     <td>    0.5354</td> <td>    0.028</td> <td>   19.170</td> <td> 0.000</td> <td>    0.481</td> <td>    0.590</td>\n",
       "</tr>\n",
       "<tr>\n",
       "  <th>zip_98007</th>     <td>    0.5350</td> <td>    0.035</td> <td>   15.189</td> <td> 0.000</td> <td>    0.466</td> <td>    0.604</td>\n",
       "</tr>\n",
       "<tr>\n",
       "  <th>zip_98008</th>     <td>    0.5452</td> <td>    0.033</td> <td>   16.316</td> <td> 0.000</td> <td>    0.480</td> <td>    0.611</td>\n",
       "</tr>\n",
       "<tr>\n",
       "  <th>zip_98010</th>     <td>    0.3410</td> <td>    0.030</td> <td>   11.192</td> <td> 0.000</td> <td>    0.281</td> <td>    0.401</td>\n",
       "</tr>\n",
       "<tr>\n",
       "  <th>zip_98011</th>     <td>    0.2436</td> <td>    0.043</td> <td>    5.613</td> <td> 0.000</td> <td>    0.159</td> <td>    0.329</td>\n",
       "</tr>\n",
       "<tr>\n",
       "  <th>zip_98014</th>     <td>    0.3122</td> <td>    0.048</td> <td>    6.558</td> <td> 0.000</td> <td>    0.219</td> <td>    0.405</td>\n",
       "</tr>\n",
       "<tr>\n",
       "  <th>zip_98019</th>     <td>    0.2198</td> <td>    0.047</td> <td>    4.651</td> <td> 0.000</td> <td>    0.127</td> <td>    0.312</td>\n",
       "</tr>\n",
       "<tr>\n",
       "  <th>zip_98022</th>     <td>    0.1987</td> <td>    0.026</td> <td>    7.602</td> <td> 0.000</td> <td>    0.147</td> <td>    0.250</td>\n",
       "</tr>\n",
       "<tr>\n",
       "  <th>zip_98023</th>     <td>   -0.0549</td> <td>    0.016</td> <td>   -3.372</td> <td> 0.001</td> <td>   -0.087</td> <td>   -0.023</td>\n",
       "</tr>\n",
       "<tr>\n",
       "  <th>zip_98024</th>     <td>    0.4529</td> <td>    0.042</td> <td>   10.751</td> <td> 0.000</td> <td>    0.370</td> <td>    0.535</td>\n",
       "</tr>\n",
       "<tr>\n",
       "  <th>zip_98027</th>     <td>    0.4640</td> <td>    0.029</td> <td>   16.100</td> <td> 0.000</td> <td>    0.407</td> <td>    0.520</td>\n",
       "</tr>\n",
       "<tr>\n",
       "  <th>zip_98028</th>     <td>    0.2090</td> <td>    0.042</td> <td>    4.968</td> <td> 0.000</td> <td>    0.127</td> <td>    0.291</td>\n",
       "</tr>\n",
       "<tr>\n",
       "  <th>zip_98029</th>     <td>    0.5533</td> <td>    0.033</td> <td>   16.852</td> <td> 0.000</td> <td>    0.489</td> <td>    0.618</td>\n",
       "</tr>\n",
       "<tr>\n",
       "  <th>zip_98030</th>     <td>    0.0601</td> <td>    0.019</td> <td>    3.089</td> <td> 0.002</td> <td>    0.022</td> <td>    0.098</td>\n",
       "</tr>\n",
       "<tr>\n",
       "  <th>zip_98031</th>     <td>    0.0576</td> <td>    0.020</td> <td>    2.855</td> <td> 0.004</td> <td>    0.018</td> <td>    0.097</td>\n",
       "</tr>\n",
       "<tr>\n",
       "  <th>zip_98032</th>     <td>   -0.0500</td> <td>    0.023</td> <td>   -2.209</td> <td> 0.027</td> <td>   -0.094</td> <td>   -0.006</td>\n",
       "</tr>\n",
       "<tr>\n",
       "  <th>zip_98033</th>     <td>    0.6285</td> <td>    0.036</td> <td>   17.376</td> <td> 0.000</td> <td>    0.558</td> <td>    0.699</td>\n",
       "</tr>\n",
       "<tr>\n",
       "  <th>zip_98034</th>     <td>    0.3734</td> <td>    0.039</td> <td>    9.641</td> <td> 0.000</td> <td>    0.297</td> <td>    0.449</td>\n",
       "</tr>\n",
       "<tr>\n",
       "  <th>zip_98038</th>     <td>    0.2262</td> <td>    0.022</td> <td>   10.301</td> <td> 0.000</td> <td>    0.183</td> <td>    0.269</td>\n",
       "</tr>\n",
       "<tr>\n",
       "  <th>zip_98039</th>     <td>    1.1418</td> <td>    0.043</td> <td>   26.410</td> <td> 0.000</td> <td>    1.057</td> <td>    1.227</td>\n",
       "</tr>\n",
       "<tr>\n",
       "  <th>zip_98040</th>     <td>    0.7502</td> <td>    0.028</td> <td>   26.569</td> <td> 0.000</td> <td>    0.695</td> <td>    0.806</td>\n",
       "</tr>\n",
       "<tr>\n",
       "  <th>zip_98042</th>     <td>    0.1020</td> <td>    0.019</td> <td>    5.488</td> <td> 0.000</td> <td>    0.066</td> <td>    0.138</td>\n",
       "</tr>\n",
       "<tr>\n",
       "  <th>zip_98045</th>     <td>    0.4422</td> <td>    0.041</td> <td>   10.853</td> <td> 0.000</td> <td>    0.362</td> <td>    0.522</td>\n",
       "</tr>\n",
       "<tr>\n",
       "  <th>zip_98052</th>     <td>    0.5053</td> <td>    0.037</td> <td>   13.644</td> <td> 0.000</td> <td>    0.433</td> <td>    0.578</td>\n",
       "</tr>\n",
       "<tr>\n",
       "  <th>zip_98053</th>     <td>    0.5121</td> <td>    0.040</td> <td>   12.871</td> <td> 0.000</td> <td>    0.434</td> <td>    0.590</td>\n",
       "</tr>\n",
       "<tr>\n",
       "  <th>zip_98055</th>     <td>    0.0933</td> <td>    0.022</td> <td>    4.163</td> <td> 0.000</td> <td>    0.049</td> <td>    0.137</td>\n",
       "</tr>\n",
       "<tr>\n",
       "  <th>zip_98056</th>     <td>    0.2625</td> <td>    0.024</td> <td>   10.795</td> <td> 0.000</td> <td>    0.215</td> <td>    0.310</td>\n",
       "</tr>\n",
       "<tr>\n",
       "  <th>zip_98058</th>     <td>    0.1403</td> <td>    0.021</td> <td>    6.560</td> <td> 0.000</td> <td>    0.098</td> <td>    0.182</td>\n",
       "</tr>\n",
       "<tr>\n",
       "  <th>zip_98059</th>     <td>    0.3045</td> <td>    0.024</td> <td>   12.624</td> <td> 0.000</td> <td>    0.257</td> <td>    0.352</td>\n",
       "</tr>\n",
       "<tr>\n",
       "  <th>zip_98065</th>     <td>    0.4391</td> <td>    0.037</td> <td>   11.715</td> <td> 0.000</td> <td>    0.366</td> <td>    0.513</td>\n",
       "</tr>\n",
       "<tr>\n",
       "  <th>zip_98070</th>     <td>    0.2249</td> <td>    0.028</td> <td>    8.105</td> <td> 0.000</td> <td>    0.171</td> <td>    0.279</td>\n",
       "</tr>\n",
       "<tr>\n",
       "  <th>zip_98072</th>     <td>    0.3212</td> <td>    0.043</td> <td>    7.442</td> <td> 0.000</td> <td>    0.237</td> <td>    0.406</td>\n",
       "</tr>\n",
       "<tr>\n",
       "  <th>zip_98074</th>     <td>    0.4769</td> <td>    0.035</td> <td>   13.526</td> <td> 0.000</td> <td>    0.408</td> <td>    0.546</td>\n",
       "</tr>\n",
       "<tr>\n",
       "  <th>zip_98075</th>     <td>    0.5003</td> <td>    0.034</td> <td>   14.753</td> <td> 0.000</td> <td>    0.434</td> <td>    0.567</td>\n",
       "</tr>\n",
       "<tr>\n",
       "  <th>zip_98077</th>     <td>    0.3173</td> <td>    0.045</td> <td>    7.079</td> <td> 0.000</td> <td>    0.229</td> <td>    0.405</td>\n",
       "</tr>\n",
       "<tr>\n",
       "  <th>zip_98092</th>     <td>    0.0726</td> <td>    0.018</td> <td>    4.121</td> <td> 0.000</td> <td>    0.038</td> <td>    0.107</td>\n",
       "</tr>\n",
       "<tr>\n",
       "  <th>zip_98102</th>     <td>    0.7503</td> <td>    0.038</td> <td>   19.639</td> <td> 0.000</td> <td>    0.675</td> <td>    0.825</td>\n",
       "</tr>\n",
       "<tr>\n",
       "  <th>zip_98103</th>     <td>    0.5871</td> <td>    0.035</td> <td>   16.862</td> <td> 0.000</td> <td>    0.519</td> <td>    0.655</td>\n",
       "</tr>\n",
       "<tr>\n",
       "  <th>zip_98105</th>     <td>    0.7205</td> <td>    0.036</td> <td>   20.184</td> <td> 0.000</td> <td>    0.650</td> <td>    0.790</td>\n",
       "</tr>\n",
       "<tr>\n",
       "  <th>zip_98106</th>     <td>    0.2069</td> <td>    0.026</td> <td>    7.930</td> <td> 0.000</td> <td>    0.156</td> <td>    0.258</td>\n",
       "</tr>\n",
       "<tr>\n",
       "  <th>zip_98107</th>     <td>    0.6118</td> <td>    0.036</td> <td>   17.158</td> <td> 0.000</td> <td>    0.542</td> <td>    0.682</td>\n",
       "</tr>\n",
       "<tr>\n",
       "  <th>zip_98108</th>     <td>    0.2195</td> <td>    0.029</td> <td>    7.668</td> <td> 0.000</td> <td>    0.163</td> <td>    0.276</td>\n",
       "</tr>\n",
       "<tr>\n",
       "  <th>zip_98109</th>     <td>    0.7312</td> <td>    0.037</td> <td>   19.616</td> <td> 0.000</td> <td>    0.658</td> <td>    0.804</td>\n",
       "</tr>\n",
       "<tr>\n",
       "  <th>zip_98112</th>     <td>    0.8510</td> <td>    0.033</td> <td>   26.049</td> <td> 0.000</td> <td>    0.787</td> <td>    0.915</td>\n",
       "</tr>\n",
       "<tr>\n",
       "  <th>zip_98115</th>     <td>    0.6082</td> <td>    0.036</td> <td>   17.130</td> <td> 0.000</td> <td>    0.539</td> <td>    0.678</td>\n",
       "</tr>\n",
       "<tr>\n",
       "  <th>zip_98116</th>     <td>    0.5713</td> <td>    0.029</td> <td>   19.840</td> <td> 0.000</td> <td>    0.515</td> <td>    0.628</td>\n",
       "</tr>\n",
       "<tr>\n",
       "  <th>zip_98117</th>     <td>    0.5742</td> <td>    0.036</td> <td>   16.003</td> <td> 0.000</td> <td>    0.504</td> <td>    0.645</td>\n",
       "</tr>\n",
       "<tr>\n",
       "  <th>zip_98118</th>     <td>    0.3457</td> <td>    0.025</td> <td>   13.666</td> <td> 0.000</td> <td>    0.296</td> <td>    0.395</td>\n",
       "</tr>\n",
       "<tr>\n",
       "  <th>zip_98119</th>     <td>    0.7539</td> <td>    0.035</td> <td>   21.501</td> <td> 0.000</td> <td>    0.685</td> <td>    0.823</td>\n",
       "</tr>\n",
       "<tr>\n",
       "  <th>zip_98122</th>     <td>    0.6038</td> <td>    0.031</td> <td>   19.369</td> <td> 0.000</td> <td>    0.543</td> <td>    0.665</td>\n",
       "</tr>\n",
       "<tr>\n",
       "  <th>zip_98125</th>     <td>    0.3506</td> <td>    0.038</td> <td>    9.153</td> <td> 0.000</td> <td>    0.276</td> <td>    0.426</td>\n",
       "</tr>\n",
       "<tr>\n",
       "  <th>zip_98126</th>     <td>    0.4085</td> <td>    0.027</td> <td>   15.297</td> <td> 0.000</td> <td>    0.356</td> <td>    0.461</td>\n",
       "</tr>\n",
       "<tr>\n",
       "  <th>zip_98133</th>     <td>    0.2204</td> <td>    0.040</td> <td>    5.562</td> <td> 0.000</td> <td>    0.143</td> <td>    0.298</td>\n",
       "</tr>\n",
       "<tr>\n",
       "  <th>zip_98136</th>     <td>    0.5217</td> <td>    0.027</td> <td>   19.190</td> <td> 0.000</td> <td>    0.468</td> <td>    0.575</td>\n",
       "</tr>\n",
       "<tr>\n",
       "  <th>zip_98144</th>     <td>    0.4913</td> <td>    0.029</td> <td>   16.976</td> <td> 0.000</td> <td>    0.435</td> <td>    0.548</td>\n",
       "</tr>\n",
       "<tr>\n",
       "  <th>zip_98146</th>     <td>    0.1584</td> <td>    0.024</td> <td>    6.502</td> <td> 0.000</td> <td>    0.111</td> <td>    0.206</td>\n",
       "</tr>\n",
       "<tr>\n",
       "  <th>zip_98148</th>     <td>    0.0654</td> <td>    0.033</td> <td>    1.982</td> <td> 0.048</td> <td>    0.001</td> <td>    0.130</td>\n",
       "</tr>\n",
       "<tr>\n",
       "  <th>zip_98155</th>     <td>    0.1998</td> <td>    0.041</td> <td>    4.849</td> <td> 0.000</td> <td>    0.119</td> <td>    0.281</td>\n",
       "</tr>\n",
       "<tr>\n",
       "  <th>zip_98166</th>     <td>    0.2198</td> <td>    0.022</td> <td>    9.820</td> <td> 0.000</td> <td>    0.176</td> <td>    0.264</td>\n",
       "</tr>\n",
       "<tr>\n",
       "  <th>zip_98168</th>     <td>    0.0050</td> <td>    0.024</td> <td>    0.209</td> <td> 0.834</td> <td>   -0.041</td> <td>    0.051</td>\n",
       "</tr>\n",
       "<tr>\n",
       "  <th>zip_98177</th>     <td>    0.3495</td> <td>    0.041</td> <td>    8.466</td> <td> 0.000</td> <td>    0.269</td> <td>    0.430</td>\n",
       "</tr>\n",
       "<tr>\n",
       "  <th>zip_98178</th>     <td>    0.0694</td> <td>    0.024</td> <td>    2.847</td> <td> 0.004</td> <td>    0.022</td> <td>    0.117</td>\n",
       "</tr>\n",
       "<tr>\n",
       "  <th>zip_98188</th>     <td>    0.0261</td> <td>    0.025</td> <td>    1.035</td> <td> 0.301</td> <td>   -0.023</td> <td>    0.075</td>\n",
       "</tr>\n",
       "<tr>\n",
       "  <th>zip_98198</th>     <td>    0.0207</td> <td>    0.019</td> <td>    1.087</td> <td> 0.277</td> <td>   -0.017</td> <td>    0.058</td>\n",
       "</tr>\n",
       "<tr>\n",
       "  <th>zip_98199</th>     <td>    0.6285</td> <td>    0.034</td> <td>   18.368</td> <td> 0.000</td> <td>    0.561</td> <td>    0.696</td>\n",
       "</tr>\n",
       "</table>\n",
       "<table class=\"simpletable\">\n",
       "<tr>\n",
       "  <th>Omnibus:</th>       <td>944.523</td> <th>  Durbin-Watson:     </th> <td>   2.010</td>\n",
       "</tr>\n",
       "<tr>\n",
       "  <th>Prob(Omnibus):</th> <td> 0.000</td>  <th>  Jarque-Bera (JB):  </th> <td>4188.335</td>\n",
       "</tr>\n",
       "<tr>\n",
       "  <th>Skew:</th>          <td>-0.081</td>  <th>  Prob(JB):          </th> <td>    0.00</td>\n",
       "</tr>\n",
       "<tr>\n",
       "  <th>Kurtosis:</th>      <td> 5.547</td>  <th>  Cond. No.          </th> <td>2.76e+09</td>\n",
       "</tr>\n",
       "</table><br/><br/>Warnings:<br/>[1] Standard Errors assume that the covariance matrix of the errors is correctly specified.<br/>[2] The condition number is large, 2.76e+09. This might indicate that there are<br/>strong multicollinearity or other numerical problems."
      ],
      "text/plain": [
       "<class 'statsmodels.iolib.summary.Summary'>\n",
       "\"\"\"\n",
       "                            OLS Regression Results                            \n",
       "==============================================================================\n",
       "Dep. Variable:                  price   R-squared:                       0.879\n",
       "Model:                            OLS   Adj. R-squared:                  0.878\n",
       "Method:                 Least Squares   F-statistic:                     1374.\n",
       "Date:                Wed, 20 Nov 2019   Prob (F-statistic):               0.00\n",
       "Time:                        23:52:49   Log-Likelihood:                 4284.9\n",
       "No. Observations:               15429   AIC:                            -8406.\n",
       "Df Residuals:                   15347   BIC:                            -7779.\n",
       "Df Model:                          81                                         \n",
       "Covariance Type:            nonrobust                                         \n",
       "=================================================================================\n",
       "                    coef    std err          t      P>|t|      [0.025      0.975]\n",
       "---------------------------------------------------------------------------------\n",
       "Intercept       995.5052    133.513      7.456      0.000     733.804    1257.207\n",
       "sqft_living       0.3843      0.007     54.452      0.000       0.371       0.398\n",
       "bathrooms         0.0280      0.003      8.197      0.000       0.021       0.035\n",
       "view              0.0578      0.002     24.533      0.000       0.053       0.062\n",
       "condition         0.0476      0.003     18.286      0.000       0.042       0.053\n",
       "grade             0.1032      0.002     43.960      0.000       0.099       0.108\n",
       "age_house         0.0018      0.000     13.900      0.000       0.002       0.002\n",
       "renovated         2.0386      0.261      7.807      0.000       1.527       2.550\n",
       "lat               0.4790      0.085      5.606      0.000       0.312       0.646\n",
       "long             -0.3100      0.063     -4.910      0.000      -0.434      -0.186\n",
       "waterfront        0.4886      0.019     25.470      0.000       0.451       0.526\n",
       "sqft_living15  9.171e-05   3.87e-06     23.694      0.000    8.41e-05    9.93e-05\n",
       "sqft_lot15     8.471e-07   6.06e-08     13.974      0.000    7.28e-07    9.66e-07\n",
       "zip_98002         0.0173      0.019      0.889      0.374      -0.021       0.055\n",
       "zip_98003        -0.0054      0.017     -0.313      0.754      -0.039       0.029\n",
       "zip_98004         0.9878      0.032     31.022      0.000       0.925       1.050\n",
       "zip_98005         0.6071      0.034     17.935      0.000       0.541       0.673\n",
       "zip_98006         0.5354      0.028     19.170      0.000       0.481       0.590\n",
       "zip_98007         0.5350      0.035     15.189      0.000       0.466       0.604\n",
       "zip_98008         0.5452      0.033     16.316      0.000       0.480       0.611\n",
       "zip_98010         0.3410      0.030     11.192      0.000       0.281       0.401\n",
       "zip_98011         0.2436      0.043      5.613      0.000       0.159       0.329\n",
       "zip_98014         0.3122      0.048      6.558      0.000       0.219       0.405\n",
       "zip_98019         0.2198      0.047      4.651      0.000       0.127       0.312\n",
       "zip_98022         0.1987      0.026      7.602      0.000       0.147       0.250\n",
       "zip_98023        -0.0549      0.016     -3.372      0.001      -0.087      -0.023\n",
       "zip_98024         0.4529      0.042     10.751      0.000       0.370       0.535\n",
       "zip_98027         0.4640      0.029     16.100      0.000       0.407       0.520\n",
       "zip_98028         0.2090      0.042      4.968      0.000       0.127       0.291\n",
       "zip_98029         0.5533      0.033     16.852      0.000       0.489       0.618\n",
       "zip_98030         0.0601      0.019      3.089      0.002       0.022       0.098\n",
       "zip_98031         0.0576      0.020      2.855      0.004       0.018       0.097\n",
       "zip_98032        -0.0500      0.023     -2.209      0.027      -0.094      -0.006\n",
       "zip_98033         0.6285      0.036     17.376      0.000       0.558       0.699\n",
       "zip_98034         0.3734      0.039      9.641      0.000       0.297       0.449\n",
       "zip_98038         0.2262      0.022     10.301      0.000       0.183       0.269\n",
       "zip_98039         1.1418      0.043     26.410      0.000       1.057       1.227\n",
       "zip_98040         0.7502      0.028     26.569      0.000       0.695       0.806\n",
       "zip_98042         0.1020      0.019      5.488      0.000       0.066       0.138\n",
       "zip_98045         0.4422      0.041     10.853      0.000       0.362       0.522\n",
       "zip_98052         0.5053      0.037     13.644      0.000       0.433       0.578\n",
       "zip_98053         0.5121      0.040     12.871      0.000       0.434       0.590\n",
       "zip_98055         0.0933      0.022      4.163      0.000       0.049       0.137\n",
       "zip_98056         0.2625      0.024     10.795      0.000       0.215       0.310\n",
       "zip_98058         0.1403      0.021      6.560      0.000       0.098       0.182\n",
       "zip_98059         0.3045      0.024     12.624      0.000       0.257       0.352\n",
       "zip_98065         0.4391      0.037     11.715      0.000       0.366       0.513\n",
       "zip_98070         0.2249      0.028      8.105      0.000       0.171       0.279\n",
       "zip_98072         0.3212      0.043      7.442      0.000       0.237       0.406\n",
       "zip_98074         0.4769      0.035     13.526      0.000       0.408       0.546\n",
       "zip_98075         0.5003      0.034     14.753      0.000       0.434       0.567\n",
       "zip_98077         0.3173      0.045      7.079      0.000       0.229       0.405\n",
       "zip_98092         0.0726      0.018      4.121      0.000       0.038       0.107\n",
       "zip_98102         0.7503      0.038     19.639      0.000       0.675       0.825\n",
       "zip_98103         0.5871      0.035     16.862      0.000       0.519       0.655\n",
       "zip_98105         0.7205      0.036     20.184      0.000       0.650       0.790\n",
       "zip_98106         0.2069      0.026      7.930      0.000       0.156       0.258\n",
       "zip_98107         0.6118      0.036     17.158      0.000       0.542       0.682\n",
       "zip_98108         0.2195      0.029      7.668      0.000       0.163       0.276\n",
       "zip_98109         0.7312      0.037     19.616      0.000       0.658       0.804\n",
       "zip_98112         0.8510      0.033     26.049      0.000       0.787       0.915\n",
       "zip_98115         0.6082      0.036     17.130      0.000       0.539       0.678\n",
       "zip_98116         0.5713      0.029     19.840      0.000       0.515       0.628\n",
       "zip_98117         0.5742      0.036     16.003      0.000       0.504       0.645\n",
       "zip_98118         0.3457      0.025     13.666      0.000       0.296       0.395\n",
       "zip_98119         0.7539      0.035     21.501      0.000       0.685       0.823\n",
       "zip_98122         0.6038      0.031     19.369      0.000       0.543       0.665\n",
       "zip_98125         0.3506      0.038      9.153      0.000       0.276       0.426\n",
       "zip_98126         0.4085      0.027     15.297      0.000       0.356       0.461\n",
       "zip_98133         0.2204      0.040      5.562      0.000       0.143       0.298\n",
       "zip_98136         0.5217      0.027     19.190      0.000       0.468       0.575\n",
       "zip_98144         0.4913      0.029     16.976      0.000       0.435       0.548\n",
       "zip_98146         0.1584      0.024      6.502      0.000       0.111       0.206\n",
       "zip_98148         0.0654      0.033      1.982      0.048       0.001       0.130\n",
       "zip_98155         0.1998      0.041      4.849      0.000       0.119       0.281\n",
       "zip_98166         0.2198      0.022      9.820      0.000       0.176       0.264\n",
       "zip_98168         0.0050      0.024      0.209      0.834      -0.041       0.051\n",
       "zip_98177         0.3495      0.041      8.466      0.000       0.269       0.430\n",
       "zip_98178         0.0694      0.024      2.847      0.004       0.022       0.117\n",
       "zip_98188         0.0261      0.025      1.035      0.301      -0.023       0.075\n",
       "zip_98198         0.0207      0.019      1.087      0.277      -0.017       0.058\n",
       "zip_98199         0.6285      0.034     18.368      0.000       0.561       0.696\n",
       "==============================================================================\n",
       "Omnibus:                      944.523   Durbin-Watson:                   2.010\n",
       "Prob(Omnibus):                  0.000   Jarque-Bera (JB):             4188.335\n",
       "Skew:                          -0.081   Prob(JB):                         0.00\n",
       "Kurtosis:                       5.547   Cond. No.                     2.76e+09\n",
       "==============================================================================\n",
       "\n",
       "Warnings:\n",
       "[1] Standard Errors assume that the covariance matrix of the errors is correctly specified.\n",
       "[2] The condition number is large, 2.76e+09. This might indicate that there are\n",
       "strong multicollinearity or other numerical problems.\n",
       "\"\"\""
      ]
     },
     "execution_count": 155,
     "metadata": {},
     "output_type": "execute_result"
    }
   ],
   "source": [
    "third = ols(formula= formula, data = data_ols, missing = 'drop').fit()\n",
    "third.summary()"
   ]
  },
  {
   "cell_type": "code",
   "execution_count": 157,
   "metadata": {},
   "outputs": [
    {
     "data": {
      "image/png": "[encoded data removed]",
      "text/plain": [
       "<Figure size 432x288 with 1 Axes>"
      ]
     },
     "metadata": {
      "needs_background": "light"
     },
     "output_type": "display_data"
    }
   ],
   "source": [
    "res = third.resid\n",
    "fig = sm.qqplot(res)\n",
    "plt.title('Third Model QQplot')\n",
    "plt.show()"
   ]
  },
  {
   "cell_type": "markdown",
   "metadata": {},
   "source": [
    "# iNTERPRET"
   ]
  },
  {
   "cell_type": "code",
   "execution_count": 168,
   "metadata": {
    "scrolled": true
   },
   "outputs": [
    {
     "data": {
      "text/plain": [
       "Text(0.5, 1.0, 'Residuals of Third Model')"
      ]
     },
     "execution_count": 168,
     "metadata": {},
     "output_type": "execute_result"
    },
    {
     "data": {
      "image/png": "[encoded data removed]",
      "text/plain": [
       "<Figure size 864x216 with 3 Axes>"
      ]
     },
     "metadata": {
      "needs_background": "light"
     },
     "output_type": "display_data"
    }
   ],
   "source": [
    "fig, (ax1,ax2,ax3) = plt.subplots(nrows=1, ncols=3, figsize=(12,3))\n",
    "\n",
    "\n",
    "ax1.hist(first.resid)\n",
    "ax1.set_title('Residuals of First Model')\n",
    "\n",
    "ax2.hist(second.resid)\n",
    "ax2.set_title('Residuals of Second Model')\n",
    "\n",
    "ax3.hist(third.resid)\n",
    "ax3.set_title('Residuals of Third Model')\n",
    "\n"
   ]
  },
  {
   "cell_type": "code",
   "execution_count": 174,
   "metadata": {},
   "outputs": [
    {
     "name": "stdout",
     "output_type": "stream",
     "text": [
      "Intercept         2.326586e-03\n",
      "sqft_lot          1.698086e-01\n",
      "sqft_living      4.358678e-193\n",
      "sqft_above        4.814375e-11\n",
      "zip_code          6.328794e-54\n",
      "bedrooms          1.899869e-58\n",
      "view              1.209475e-94\n",
      "grade            7.397200e-275\n",
      "bathrooms         3.846645e-32\n",
      "yr_built         2.025000e-269\n",
      "renovated         2.896045e-03\n",
      "lat               0.000000e+00\n",
      "long              9.674084e-42\n",
      "waterfront       1.758959e-187\n",
      "floors            6.160658e-01\n",
      "sqft_living15     3.612459e-04\n",
      "sqft_lot15        1.850807e-04\n",
      "dtype: float64\n",
      "0.6994608150440355\n"
     ]
    }
   ],
   "source": [
    "print(first.pvalues)\n",
    "print(first.rsquared)"
   ]
  },
  {
   "cell_type": "code",
   "execution_count": 176,
   "metadata": {},
   "outputs": [
    {
     "name": "stdout",
     "output_type": "stream",
     "text": [
      "Intercept         5.124130e-18\n",
      "sqft_living       0.000000e+00\n",
      "rooms             5.356507e-01\n",
      "view             1.938979e-132\n",
      "condition         3.843704e-78\n",
      "grade             0.000000e+00\n",
      "age_house         4.139349e-39\n",
      "renovated         2.220484e-19\n",
      "lat               3.404788e-08\n",
      "long              8.078622e-07\n",
      "waterfront       6.196636e-141\n",
      "floors            5.366481e-01\n",
      "sqft_living15    4.702396e-121\n",
      "sqft_lot15        5.061535e-43\n",
      "zip_98002         3.109658e-01\n",
      "zip_98003         7.969240e-01\n",
      "zip_98004        5.715374e-206\n",
      "zip_98005         1.111352e-71\n",
      "zip_98006         3.064088e-81\n",
      "zip_98007         5.639082e-52\n",
      "zip_98008         1.004044e-59\n",
      "zip_98010         2.531736e-28\n",
      "zip_98011         1.224406e-08\n",
      "zip_98014         3.652282e-11\n",
      "zip_98019         2.419596e-06\n",
      "zip_98022         4.473291e-14\n",
      "zip_98023         7.270255e-04\n",
      "zip_98024         3.412810e-27\n",
      "zip_98027         2.487149e-58\n",
      "zip_98028         4.802499e-07\n",
      "                     ...      \n",
      "zip_98092         4.682700e-05\n",
      "zip_98102         6.283014e-87\n",
      "zip_98103         3.380113e-64\n",
      "zip_98105         3.064584e-91\n",
      "zip_98106         2.317824e-16\n",
      "zip_98107         4.416741e-67\n",
      "zip_98108         2.197651e-15\n",
      "zip_98109         4.150270e-86\n",
      "zip_98112        2.702923e-148\n",
      "zip_98115         5.510343e-66\n",
      "zip_98116         1.259908e-87\n",
      "zip_98117         3.607747e-58\n",
      "zip_98118         1.858492e-43\n",
      "zip_98119        2.689080e-103\n",
      "zip_98122         1.588078e-84\n",
      "zip_98125         3.416232e-20\n",
      "zip_98126         1.761832e-53\n",
      "zip_98133         1.964347e-08\n",
      "zip_98136         5.272914e-82\n",
      "zip_98144         2.482054e-65\n",
      "zip_98146         5.625148e-11\n",
      "zip_98148         3.405342e-02\n",
      "zip_98155         7.508981e-07\n",
      "zip_98166         8.708089e-23\n",
      "zip_98168         8.070204e-01\n",
      "zip_98177         1.805856e-17\n",
      "zip_98178         2.991563e-03\n",
      "zip_98188         2.666888e-01\n",
      "zip_98198         2.864325e-01\n",
      "zip_98199         9.403829e-76\n",
      "Length: 83, dtype: float64\n",
      "0.8783120701780247\n"
     ]
    }
   ],
   "source": [
    "print(second.pvalues)\n",
    "print(second.rsquared)"
   ]
  },
  {
   "cell_type": "code",
   "execution_count": 187,
   "metadata": {},
   "outputs": [
    {
     "name": "stdout",
     "output_type": "stream",
     "text": [
      "Intercept         9.378570e-14\n",
      "sqft_living       0.000000e+00\n",
      "bathrooms         2.661763e-16\n",
      "view             2.129921e-130\n",
      "condition         6.476440e-74\n",
      "grade             0.000000e+00\n",
      "age_house         1.164921e-43\n",
      "renovated         6.209392e-15\n",
      "lat               2.104944e-08\n",
      "long              9.212626e-07\n",
      "waterfront       3.444370e-140\n",
      "sqft_living15    6.322020e-122\n",
      "sqft_lot15        4.196771e-44\n",
      "zip_98002         3.739863e-01\n",
      "zip_98003         7.539551e-01\n",
      "zip_98004        5.517857e-205\n",
      "zip_98005         3.371021e-71\n",
      "zip_98006         5.811448e-81\n",
      "zip_98007         9.869912e-52\n",
      "zip_98008         2.410685e-59\n",
      "zip_98010         5.786421e-29\n",
      "zip_98011         2.017325e-08\n",
      "zip_98014         5.635054e-11\n",
      "zip_98019         3.332531e-06\n",
      "zip_98022         3.095317e-14\n",
      "zip_98023         7.493059e-04\n",
      "zip_98024         7.308659e-27\n",
      "zip_98027         7.541068e-58\n",
      "zip_98028         6.845434e-07\n",
      "zip_98029         3.754115e-63\n",
      "                     ...      \n",
      "zip_98092         3.800141e-05\n",
      "zip_98102         7.947128e-85\n",
      "zip_98103         3.172173e-63\n",
      "zip_98105         1.942167e-89\n",
      "zip_98106         2.344371e-15\n",
      "zip_98107         2.227183e-65\n",
      "zip_98108         1.845569e-14\n",
      "zip_98109         1.225109e-84\n",
      "zip_98112        2.077929e-146\n",
      "zip_98115         3.561414e-65\n",
      "zip_98116         1.640914e-86\n",
      "zip_98117         3.550667e-57\n",
      "zip_98118         2.882690e-42\n",
      "zip_98119        4.696149e-101\n",
      "zip_98122         1.360194e-82\n",
      "zip_98125         6.236751e-20\n",
      "zip_98126         1.947973e-52\n",
      "zip_98133         2.709255e-08\n",
      "zip_98136         3.961482e-81\n",
      "zip_98144         4.744456e-64\n",
      "zip_98146         8.196827e-11\n",
      "zip_98148         4.751076e-02\n",
      "zip_98155         1.255693e-06\n",
      "zip_98166         1.078979e-22\n",
      "zip_98168         8.344456e-01\n",
      "zip_98177         2.756677e-17\n",
      "zip_98178         4.416362e-03\n",
      "zip_98188         3.008195e-01\n",
      "zip_98198         2.769816e-01\n",
      "zip_98199         1.486462e-74\n",
      "Length: 82, dtype: float64\n",
      "0.8788358422920962\n"
     ]
    }
   ],
   "source": [
    "print(third.pvalues)\n",
    "print(third.rsquared)"
   ]
  },
  {
   "cell_type": "markdown",
   "metadata": {},
   "source": [
    "This final model has a r-squared score of 87.9% and all non-categorical variables have p-values below 5% making the regression's results statistically significant"
   ]
  },
  {
   "cell_type": "markdown",
   "metadata": {},
   "source": [
    "As discovered in the preparation of the data, there was a general positive relationship between many of the predictor values and the dependent variable, price. Moreover, there is a statistically significant relationship present as the probability of the model's f-statistic is zero and allows us to reject the null hypothesis. "
   ]
  },
  {
   "cell_type": "markdown",
   "metadata": {},
   "source": [
    "This final model has a r-squared score of 87.9% and all non-categorical variables have p-values below 5% making the regression's results statistically significant"
   ]
  },
  {
   "cell_type": "markdown",
   "metadata": {},
   "source": [
    "# CONCLUSIONS & RECOMMENDATIONS"
   ]
  },
  {
   "cell_type": "markdown",
   "metadata": {},
   "source": [
    "With a high-degree of certainty, the model developed with the statsmodel library allows us predict the value of homes in the Seattle area. The preprocessing of data did it's best to promote normalilty in the dataset, but the QQplots show some traces of skew in the residuals. "
   ]
  },
  {
   "cell_type": "markdown",
   "metadata": {},
   "source": [
    " - The factors that are important in determining the value of a home include: amount of living space, number of bathrooms, and number of times house is viewed during sales process.\n",
    " - The zip code categorical variable really did not do a great job of predicting the homes value. One has to wonder if there is a way to include some input for the home's location into a different type of regression model\n",
    " - Areas ofimprovement for the model include cleaning of the data. At times, I did not know whether I should have addressed the scale for some of the predictor variables. Also, while multicollinearity was addressed in the final model's variable selection, it still might be present and affecting the final analysis slightly."
   ]
  },
  {
   "cell_type": "code",
   "execution_count": null,
   "metadata": {},
   "outputs": [],
   "source": []
  }
 ],
 "metadata": {
  "kernelspec": {
   "display_name": "Python [conda env:learn-env] *",
   "language": "python",
   "name": "conda-env-learn-env-py"
  },
  "language_info": {
   "codemirror_mode": {
    "name": "ipython",
    "version": 3
   },
   "file_extension": ".py",
   "mimetype": "text/x-python",
   "name": "python",
   "nbconvert_exporter": "python",
   "pygments_lexer": "ipython3",
   "version": "3.6.6"
  },
  "toc": {
   "base_numbering": 1,
   "nav_menu": {},
   "number_sections": false,
   "sideBar": true,
   "skip_h1_title": false,
   "title_cell": "Table of Contents",
   "title_sidebar": "Contents",
   "toc_cell": false,
   "toc_position": {},
   "toc_section_display": true,
   "toc_window_display": true
  },
  "varInspector": {
   "cols": {
    "lenName": 16,
    "lenType": 16,
    "lenVar": 40
   },
   "kernels_config": {
    "python": {
     "delete_cmd_postfix": "",
     "delete_cmd_prefix": "del ",
     "library": "var_list.py",
     "varRefreshCmd": "print(var_dic_list())"
    },
    "r": {
     "delete_cmd_postfix": ") ",
     "delete_cmd_prefix": "rm(",
     "library": "var_list.r",
     "varRefreshCmd": "cat(var_dic_list()) "
    }
   },
   "types_to_exclude": [
    "module",
    "function",
    "builtin_function_or_method",
    "instance",
    "_Feature"
   ],
   "window_display": false
  }
 },
 "nbformat": 4,
 "nbformat_minor": 2
}
